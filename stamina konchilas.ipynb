{
 "cells": [
  {
   "cell_type": "code",
   "id": "initial_id",
   "metadata": {
    "collapsed": true,
    "ExecuteTime": {
     "end_time": "2024-12-17T10:18:53.576848Z",
     "start_time": "2024-12-17T10:18:53.570229Z"
    }
   },
   "source": [
    "import pandas as pd\n",
    "import numpy as np\n",
    "import matplotlib.pyplot as plt\n",
    "import seaborn as sns\n",
    "import warnings\n",
    "\n",
    "from numpy.ma.core import count\n",
    "from prompt_toolkit.key_binding.bindings.named_commands import yank_pop\n",
    "\n",
    "warnings.filterwarnings('ignore')"
   ],
   "outputs": [],
   "execution_count": 33
  },
  {
   "metadata": {
    "ExecuteTime": {
     "end_time": "2024-12-17T10:18:54.572205Z",
     "start_time": "2024-12-17T10:18:54.142323Z"
    }
   },
   "cell_type": "code",
   "source": [
    "bd = pd.read_csv('final.csv')\n",
    "bd['finish_dttm'] = pd.to_datetime(bd['finish_dttm'])\n",
    "bd['age'] = bd['age'].str.replace(',', '.').astype(float)\n",
    "bd['flag'] = (bd['wo_hit_status_result_desc'] == 'Дозвон, Успешно')\n",
    "bd['flag'] = bd['flag'].astype(int)\n",
    "\n",
    "days_of_week = bd['finish_dttm'].dt.day_name()\n",
    "days_of_week_num = bd['finish_dttm'].dt.weekday\n",
    "bd['day_of_week'] = days_of_week\n",
    "bd['num_of_week'] = days_of_week_num\n",
    "\n",
    "def vibrosi(bd, i, x):\n",
    "    return pd.concat([bd[bd[i] < x], bd[bd[i].isna()]])\n",
    "def vibrosiVniz(bd, i, x):\n",
    "    return pd.concat([bd[bd[i] > x], bd[bd[i].isna()]])\n",
    "def percentsByRegion(bd, i):\n",
    "    df = bd.copy()\n",
    "    pt = df[df['region_size'] == i][df['age'] >= 18][df['age'] < 60][['age', 'flag']].pivot_table(index='age', columns='product_cd', values='flag', aggfunc=['sum', 'count'])\n",
    "    # pt['percent'] = pt[(  'sum', 'flag')] / pt[('count', 'flag')] * 100\n",
    "    # pt[pt['percent'] != 0]\n",
    "\n",
    "bd['child_flg'] = bd['child_amt'] != 0\n",
    "bd['child_flg'] = bd['child_flg'].astype(int)\n",
    "\n",
    "bd = vibrosi(bd, 'confirmed_income', 10000000)\n",
    "bd = vibrosi(bd, 'predicted_income', 10000000)\n",
    "bd = vibrosiVniz(bd, 'predicted_income', 0)\n",
    "bd = vibrosiVniz(bd, 'age', 17)\n",
    "# хочу делить по: age, auto_flg, partnership_flg, child_flg, realty_type, functional_cd, emp_work_months_cnt, emp_gender_cd, emp_age\n",
    "\n",
    "df = bd.drop(bd[bd['wo_hit_status_reason_desc'].isin(['Отказ прослушать предложение', 'Не звонить', 'Левый контакт', 'Отказ от диалога', 'отказ от диалога', 'Отказ от разговора', 'Не звонить, резкий негатив', 'Негатив/Не звонить', 'Отказ без объяснения причин', 'просит не звонить', 'Не звонить / резкий негатив', 'Вежливо попросил не звонить', 'Номер не принадлежит страхователю', 'отказ без объяснения причин', 'Отказался озвучить причину', 'Чёрный список', 'негатив к Тинькофф', 'Грубо попросил не звонить', 'Не звонить (негатив)', 'Отказался от диалога', 'Просит больше не звонить', 'Недозвон', 'некорректная заявка', 'Техническая ошибка', 'Не нравится Т-Банк', 'Негатив к Т-Банку', 'Негативная информация о клиенте', 'Отказ без объяснения причины', 'Неизвестен / Не контактирует', 'Человек не участвовал в Дано', 'отменили'])].index)\n",
    "\n",
    "df['income'] = df['confirmed_income'].fillna(df['predicted_income'])\n",
    "df['segment_number'] = df['segment_cd'].str.extract(r'\\((\\d+)\\)').astype(float)\n",
    "df['num_segment'] = (df['segment_cd'].str[2:4])\n",
    "df['num_segment'] = df['num_segment'].astype(float)\n",
    "\n",
    "# Функция для определения сезона по номеру месяца\n",
    "def get_season(month):\n",
    "    if month in [12, 1, 2]:\n",
    "        return 'Зима'\n",
    "    elif month in [3, 4, 5]:\n",
    "        return 'Весна'\n",
    "    elif month in [6, 7, 8]:\n",
    "        return 'Лето'\n",
    "    elif month in [9, 10, 11]:\n",
    "        return 'Осень'\n",
    "\n",
    "# Преобразуем finish_dttm в datetime, если нужно\n",
    "df['finish_dttm'] = pd.to_datetime(df['finish_dttm'])\n",
    "\n",
    "# Извлекаем номер месяца\n",
    "df['month'] = df['finish_dttm'].dt.month\n",
    "df['hours'] = df['finish_dttm'].dt.hour\n",
    "\n",
    "df = vibrosi(df, 'hours', 21)\n",
    "df = vibrosiVniz(df, 'hours', 6)\n",
    "\n",
    "# Применяем функцию для создания нового столбца season\n",
    "df['season'] = df['month'].apply(get_season)\n"
   ],
   "id": "3729410e01988668",
   "outputs": [],
   "execution_count": 34
  },
  {
   "metadata": {
    "ExecuteTime": {
     "end_time": "2024-12-17T10:19:02.927346Z",
     "start_time": "2024-12-17T10:18:54.994143Z"
    }
   },
   "cell_type": "code",
   "source": [
    "emp = df[['employee_id', 'emp_age', 'emp_age_new', 'emp_gender_cd', 'emp_children_cnt', 'emp_work_months_cnt', 'state_talk_time_sec', 'flag']].groupby(by=['employee_id', 'emp_gender_cd']).mean()\n",
    "emp.reset_index(inplace=True)\n",
    "emp['time_uspeh'] = 0\n",
    "\n",
    "def ok(id):\n",
    "    return df[df['flag'] == 1][df['employee_id'] == id]['state_talk_time_sec'].mean()\n",
    "\n",
    "emp['time_uspeh'] = emp['employee_id'].apply(ok)\n",
    "\n",
    "def min(id):\n",
    "    if len(df[df['flag'] == 1][df['employee_id'] == id]['employee_id'].tolist()) == 0:\n",
    "        return 0\n",
    "    return np.percentile(df[df['flag'] == 1][df['employee_id'] == id]['age'], 25)\n",
    "\n",
    "def max(id):\n",
    "    if len(df[df['flag'] == 1][df['employee_id'] == id]['employee_id'].tolist()) == 0:\n",
    "        return 0\n",
    "    return np.percentile(df[df['flag'] == 1][df['employee_id'] == id]['age'], 75)\n",
    "\n",
    "emp['min_age'] = emp['employee_id'].apply(min)\n",
    "emp['max_age'] = emp['employee_id'].apply(max)\n",
    "\n",
    "# 1. Считаем успешность по employee_id и gender_cd\n",
    "success_rates = (\n",
    "    df.groupby(['employee_id', 'gender_cd'])['flag']\n",
    "    .mean()\n",
    "    .reset_index()\n",
    "    .rename(columns={'flag': 'success_rate'})\n",
    ")\n",
    "\n",
    "# 2. Для каждого employee_id выбираем gender_cd с максимальной успешностью\n",
    "best_gender_per_employee = (\n",
    "    success_rates.loc[success_rates.groupby('employee_id')['success_rate'].idxmax()]\n",
    "    [['employee_id', 'gender_cd']]\n",
    "    .rename(columns={'gender_cd': 'lovely_gender_cd'})\n",
    ")\n",
    "\n",
    "emp = emp.merge(best_gender_per_employee, on='employee_id', how='left')\n",
    "\n",
    "# Рассчитываем процент успешности по каждому оператору и продукту\n",
    "success_rate = df[['employee_id', 'product_cd', 'flag']].groupby(['employee_id', 'product_cd'])['flag'].mean().reset_index()\n",
    "success_rate.rename(columns={'flag': 'success_rate'}, inplace=True)\n",
    "\n",
    "# Для каждого оператора выбираем продукт с наибольшим процентом успешности\n",
    "best_product = success_rate.loc[success_rate.groupby('employee_id')['success_rate'].idxmax()]\n",
    "\n",
    "# Добавляем столбец best_product в исходный DataFrame\n",
    "emp = emp.merge(best_product[['employee_id', 'product_cd']], on='employee_id', how='left')\n",
    "emp.rename(columns={'product_cd': 'best_product'}, inplace=True)\n",
    "\n",
    "emp = emp.rename({'flag' : 'emp_mean_flag'}, axis=1)\n",
    "\n",
    "df_plus_emp = df.merge(emp[['employee_id', 'emp_mean_flag', 'time_uspeh', 'min_age', 'max_age', 'lovely_gender_cd', 'best_product']], on='employee_id', how='left')\n",
    "df_plus_emp['emps_product'] = (df_plus_emp['product_cd'] == df_plus_emp['best_product']).astype(int)\n",
    "\n",
    "df_plus_emp['female_matching'] = ((df_plus_emp['gender_cd'] == 'F') & (df_plus_emp['emp_gender_cd'] == 'W')).astype(int)\n",
    "df_plus_emp['male_matching'] = ((df_plus_emp['gender_cd'] == 'M') & (df_plus_emp['emp_gender_cd'] == 'M')).astype(int)\n",
    "df_plus_emp['gender_matching'] = ((df_plus_emp['female_matching'] == 1) | (df_plus_emp['male_matching'] == 1)).astype(int)\n",
    "df_plus_emp['age_matching'] = ((df_plus_emp['age'] - df_plus_emp['emp_age']).abs() <= 5).astype(int)\n",
    "\n",
    "df_plus_emp['lovely_gender_cd_encoded'] = (df_plus_emp['lovely_gender_cd'] == 'M').astype(int)\n",
    "\n",
    "df_plus_emp['emps_lovely_age'] = ((df_plus_emp['min_age'] < df_plus_emp['age']) & (df_plus_emp['age'] < df_plus_emp['max_age'])).astype(int)\n",
    "\n",
    "df_plus_emp['child_by_emp_and_cd_flg'] = ((df_plus_emp['child_amt'] > 0) * (df_plus_emp['emp_children_cnt'] > 0)).astype(int)\n",
    "\n",
    "def sha_budet_rok(x):\n",
    "    if x <= 22:\n",
    "        return '18-22'\n",
    "    elif x <= 40:\n",
    "        return '23-40'\n",
    "    elif x <= 60:\n",
    "        return '41-60'\n",
    "    elif x <= 80:\n",
    "        return '61-80'\n",
    "    else:\n",
    "        return '80-100'\n",
    "\n",
    "def liza_prosto_zaputalas_v_oboznacheniyah(x):\n",
    "    if x == 1:\n",
    "        return 'Гендеры совпадают'\n",
    "    if x == 0:\n",
    "        return 'Гендеры разные'\n",
    "\n",
    "df_plus_emp['age_groups_cd'] = df_plus_emp['age'].apply(lambda x: sha_budet_rok(x))\n",
    "df_plus_emp['age_groups_emp'] = df_plus_emp['emp_age_new'].apply(lambda x: sha_budet_rok(x))\n",
    "df_plus_emp['age_group_matching'] = (df_plus_emp['age_groups_cd'] == df_plus_emp['age_groups_emp']).astype(int)\n",
    "df_plus_emp['pol_sovpadenie'] = df_plus_emp['gender_matching'].apply(lambda x: liza_prosto_zaputalas_v_oboznacheniyah(x))"
   ],
   "id": "657687585d94a58d",
   "outputs": [],
   "execution_count": 35
  },
  {
   "metadata": {
    "ExecuteTime": {
     "end_time": "2024-12-17T10:19:03.071613Z",
     "start_time": "2024-12-17T10:19:03.035716Z"
    }
   },
   "cell_type": "code",
   "source": [
    "# Функция для получения нижней границы группы\n",
    "def extract_min_age(group):\n",
    "    return int(group.split('-')[0])\n",
    "\n",
    "# Преобразуем группы в числовые значения (нижняя граница)\n",
    "df_plus_emp['emp_group_min'] = df_plus_emp['age_groups_emp'].apply(extract_min_age)\n",
    "df_plus_emp['client_group_min'] = df_plus_emp['age_groups_cd'].apply(extract_min_age)\n",
    "\n",
    "df_plus_emp['matching_variance'] = np.where(df_plus_emp['emp_group_min'] > df_plus_emp['client_group_min'], 'Оператор старше клиента',\n",
    "                                   np.where(df_plus_emp['emp_group_min'] == df_plus_emp['client_group_min'], 'Одинаковый возраст', 'Клиент старше операторa'))\n",
    "\n",
    "# Удаляем временные столбцы, если они не нужны\n",
    "df_plus_emp.drop(['emp_group_min', 'client_group_min'], axis=1, inplace=True)"
   ],
   "id": "22f2eeec7a8faf0a",
   "outputs": [],
   "execution_count": 36
  },
  {
   "metadata": {
    "ExecuteTime": {
     "end_time": "2024-12-17T05:58:16.602784Z",
     "start_time": "2024-12-17T05:58:16.587409Z"
    }
   },
   "cell_type": "code",
   "source": [
    "i = ['Credit Cards']\n",
    "now = df_plus_emp[df_plus_emp['product_cd'].isin(i)]\n",
    "now.shape[0]"
   ],
   "id": "e8115c9cd7cc5fe8",
   "outputs": [
    {
     "data": {
      "text/plain": [
       "7206"
      ]
     },
     "execution_count": 32,
     "metadata": {},
     "output_type": "execute_result"
    }
   ],
   "execution_count": 32
  },
  {
   "metadata": {
    "ExecuteTime": {
     "end_time": "2024-12-16T13:20:20.840597Z",
     "start_time": "2024-12-16T13:20:20.628024Z"
    }
   },
   "cell_type": "code",
   "source": [
    "bd = pd.read_csv('final.csv')\n",
    "# 28,5% - от Оператор старше клиента по датаcету\n",
    "# 29,5% - от женщин по датаcету"
   ],
   "id": "3189f17f82283f84",
   "outputs": [],
   "execution_count": 5
  },
  {
   "metadata": {
    "ExecuteTime": {
     "end_time": "2024-12-16T19:04:32.353472Z",
     "start_time": "2024-12-16T19:04:31.811526Z"
    }
   },
   "cell_type": "code",
   "source": [
    "import statsmodels.api as sm\n",
    "\n",
    "cc = df_plus_emp[df_plus_emp['product_cd'].isin(['Credit Cards'])].copy()\n",
    "\n",
    "# Создание индикаторов (dummy-переменных) для matching_variance и emp_gender_cd\n",
    "cc['matching_variance_dummy'] = (cc['matching_variance'] == 'Оператор старше клиента').astype(int)\n",
    "cc['emp_gender_cd_dummy'] = (cc['emp_gender_cd'] == 'W').astype(int)\n",
    "\n",
    "# Создание взаимодействия между переменными\n",
    "cc['interaction'] = cc['matching_variance_dummy'] * 2 + cc['emp_gender_cd_dummy']\n",
    "\n",
    "# Модель логистической регрессии\n",
    "from statsmodels.stats.multicomp import pairwise_tukeyhsd\n",
    "\n",
    "tukey = pairwise_tukeyhsd(endog=cc['flag'], groups=cc['interaction'], alpha=0.05)\n",
    "print(tukey)"
   ],
   "id": "8974c473edcaec4b",
   "outputs": [
    {
     "name": "stdout",
     "output_type": "stream",
     "text": [
      "Multiple Comparison of Means - Tukey HSD, FWER=0.05\n",
      "===================================================\n",
      "group1 group2 meandiff p-adj   lower  upper  reject\n",
      "---------------------------------------------------\n",
      "     0      1   0.0326 0.0017  0.0094 0.0559   True\n",
      "     0      2   0.0618  0.011  0.0103 0.1133   True\n",
      "     0      3   0.0731    0.0   0.046 0.1001   True\n",
      "     1      2   0.0291 0.4318 -0.0205 0.0788  False\n",
      "     1      3   0.0404 0.0001  0.0171 0.0637   True\n",
      "     2      3   0.0113 0.9433 -0.0402 0.0628  False\n",
      "---------------------------------------------------\n"
     ]
    }
   ],
   "execution_count": 21
  },
  {
   "metadata": {
    "ExecuteTime": {
     "end_time": "2024-12-16T13:55:22.688767Z",
     "start_time": "2024-12-16T13:55:22.551384Z"
    }
   },
   "cell_type": "code",
   "source": [
    "bd = pd.read_csv('final.csv')\n",
    "bd['income'] = bd['confirmed_income'].fillna(bd['predicted_income'])\n",
    "bd['flag'] = (bd['wo_hit_status_result_desc'] == 'Дозвон, Успешно')\n",
    "bd['flag'] = bd['flag'].astype(int)\n",
    "bd[['income', 'flag']]"
   ],
   "id": "4398337392489f35",
   "outputs": [
    {
     "data": {
      "text/plain": [
       "       income  flag\n",
       "0         NaN     0\n",
       "1         NaN     0\n",
       "2         NaN     0\n",
       "3         NaN     0\n",
       "4         NaN     0\n",
       "...       ...   ...\n",
       "18686     NaN     0\n",
       "18687     NaN     0\n",
       "18688     NaN     0\n",
       "18689  9128.5     0\n",
       "18690     NaN     1\n",
       "\n",
       "[18691 rows x 2 columns]"
      ],
      "text/html": [
       "<div>\n",
       "<style scoped>\n",
       "    .dataframe tbody tr th:only-of-type {\n",
       "        vertical-align: middle;\n",
       "    }\n",
       "\n",
       "    .dataframe tbody tr th {\n",
       "        vertical-align: top;\n",
       "    }\n",
       "\n",
       "    .dataframe thead th {\n",
       "        text-align: right;\n",
       "    }\n",
       "</style>\n",
       "<table border=\"1\" class=\"dataframe\">\n",
       "  <thead>\n",
       "    <tr style=\"text-align: right;\">\n",
       "      <th></th>\n",
       "      <th>income</th>\n",
       "      <th>flag</th>\n",
       "    </tr>\n",
       "  </thead>\n",
       "  <tbody>\n",
       "    <tr>\n",
       "      <th>0</th>\n",
       "      <td>NaN</td>\n",
       "      <td>0</td>\n",
       "    </tr>\n",
       "    <tr>\n",
       "      <th>1</th>\n",
       "      <td>NaN</td>\n",
       "      <td>0</td>\n",
       "    </tr>\n",
       "    <tr>\n",
       "      <th>2</th>\n",
       "      <td>NaN</td>\n",
       "      <td>0</td>\n",
       "    </tr>\n",
       "    <tr>\n",
       "      <th>3</th>\n",
       "      <td>NaN</td>\n",
       "      <td>0</td>\n",
       "    </tr>\n",
       "    <tr>\n",
       "      <th>4</th>\n",
       "      <td>NaN</td>\n",
       "      <td>0</td>\n",
       "    </tr>\n",
       "    <tr>\n",
       "      <th>...</th>\n",
       "      <td>...</td>\n",
       "      <td>...</td>\n",
       "    </tr>\n",
       "    <tr>\n",
       "      <th>18686</th>\n",
       "      <td>NaN</td>\n",
       "      <td>0</td>\n",
       "    </tr>\n",
       "    <tr>\n",
       "      <th>18687</th>\n",
       "      <td>NaN</td>\n",
       "      <td>0</td>\n",
       "    </tr>\n",
       "    <tr>\n",
       "      <th>18688</th>\n",
       "      <td>NaN</td>\n",
       "      <td>0</td>\n",
       "    </tr>\n",
       "    <tr>\n",
       "      <th>18689</th>\n",
       "      <td>9128.5</td>\n",
       "      <td>0</td>\n",
       "    </tr>\n",
       "    <tr>\n",
       "      <th>18690</th>\n",
       "      <td>NaN</td>\n",
       "      <td>1</td>\n",
       "    </tr>\n",
       "  </tbody>\n",
       "</table>\n",
       "<p>18691 rows × 2 columns</p>\n",
       "</div>"
      ]
     },
     "execution_count": 9,
     "metadata": {},
     "output_type": "execute_result"
    }
   ],
   "execution_count": 9
  },
  {
   "metadata": {
    "ExecuteTime": {
     "end_time": "2024-12-17T10:19:43.024912Z",
     "start_time": "2024-12-17T10:19:43.015158Z"
    }
   },
   "cell_type": "code",
   "source": "df_plus_emp['product_cd'].value_counts()",
   "id": "7ba73ffdb3f338d6",
   "outputs": [
    {
     "data": {
      "text/plain": [
       "product_cd\n",
       "Credit Cards          7206\n",
       "Cash Loan             2299\n",
       "MVNO                  1535\n",
       "Debit Cards           1366\n",
       "Investment             541\n",
       "Secured Loan           418\n",
       "Casco                  292\n",
       "Mortgage Insurance     243\n",
       "Car Loan               227\n",
       "Osago                   24\n",
       "Deposit                  8\n",
       "Travel Avia              5\n",
       "T-Auto                   2\n",
       "Name: count, dtype: int64"
      ]
     },
     "execution_count": 38,
     "metadata": {},
     "output_type": "execute_result"
    }
   ],
   "execution_count": 38
  },
  {
   "metadata": {
    "ExecuteTime": {
     "end_time": "2024-12-17T10:24:39.026591Z",
     "start_time": "2024-12-17T10:24:38.767212Z"
    }
   },
   "cell_type": "code",
   "source": [
    "cc = df_plus_emp[df_plus_emp['product_cd'].isin(['MVNO'])].copy()\n",
    "pivot = cc.pivot_table(index='matching_variance' , columns='emp_gender_cd', values='flag', aggfunc='mean')\n",
    "sns.heatmap(pivot, annot=True, cmap='coolwarm')\n",
    "plt.title('Процент успеха')\n",
    "plt.show()"
   ],
   "id": "9cc663165dc8a101",
   "outputs": [
    {
     "data": {
      "text/plain": [
       "<Figure size 640x480 with 2 Axes>"
      ],
      "image/png": "[encoded data removed]"
     },
     "metadata": {},
     "output_type": "display_data"
    }
   ],
   "execution_count": 48
  },
  {
   "metadata": {
    "ExecuteTime": {
     "end_time": "2024-12-16T19:16:09.530514Z",
     "start_time": "2024-12-16T19:16:09.074317Z"
    }
   },
   "cell_type": "code",
   "source": [
    "from statsmodels.stats.multicomp import pairwise_tukeyhsd\n",
    "cc = df_plus_emp[df_plus_emp['product_cd'].isin(['Credit Cards'])].copy()\n",
    "tukey = pairwise_tukeyhsd(endog=cc['flag'], groups=cc['matching_variance'], alpha=0.05)\n",
    "print(tukey)"
   ],
   "id": "9435bfc8693f20f",
   "outputs": [
    {
     "name": "stdout",
     "output_type": "stream",
     "text": [
      "                Multiple Comparison of Means - Tukey HSD, FWER=0.05                 \n",
      "====================================================================================\n",
      "         group1                  group2         meandiff p-adj  lower  upper  reject\n",
      "------------------------------------------------------------------------------------\n",
      "Клиент старше операторa      Одинаковый возраст   0.0447    0.0 0.0248 0.0647   True\n",
      "Клиент старше операторa Оператор старше клиента   0.0694    0.0 0.0484 0.0904   True\n",
      "     Одинаковый возраст Оператор старше клиента   0.0246 0.0238 0.0026 0.0467   True\n",
      "------------------------------------------------------------------------------------\n"
     ]
    }
   ],
   "execution_count": 22
  },
  {
   "metadata": {
    "ExecuteTime": {
     "end_time": "2024-12-16T19:20:29.849331Z",
     "start_time": "2024-12-16T19:20:29.820273Z"
    }
   },
   "cell_type": "code",
   "source": [
    "import scipy.stats as st\n",
    "cc = df_plus_emp[df_plus_emp['product_cd'].isin(['Credit Cards'])].copy()\n",
    "st.f_oneway(cc[cc.matching_variance=='Одинаковый возраст'][\"flag\"], cc[cc.matching_variance=='Клиент старше операторa'][\"flag\"], cc[cc.matching_variance=='Оператор старше клиента'][\"flag\"])"
   ],
   "id": "e8812ed548e4761e",
   "outputs": [
    {
     "data": {
      "text/plain": [
       "F_onewayResult(statistic=np.float64(32.43206941800407), pvalue=np.float64(9.505438501334564e-15))"
      ]
     },
     "execution_count": 25,
     "metadata": {},
     "output_type": "execute_result"
    }
   ],
   "execution_count": 25
  },
  {
   "metadata": {
    "ExecuteTime": {
     "end_time": "2024-12-16T19:32:32.763912Z",
     "start_time": "2024-12-16T19:32:32.745869Z"
    }
   },
   "cell_type": "code",
   "source": [
    "import scipy.stats as st\n",
    "\n",
    "# Проверяем нормальность для каждой группы\n",
    "for group in cc['matching_variance'].unique():\n",
    "    stat, p = st.shapiro(cc[cc['matching_variance'] == group]['flag'])\n",
    "    print(f\"Группа {group}: статистика={stat}, p-value={p}\")\n",
    "    if p < 0.05:\n",
    "        print(\"Предположение о нормальности отвергается.\")\n",
    "    else:\n",
    "        print(\"Данные распределены нормально.\")\n"
   ],
   "id": "db8d2b1d60a4b966",
   "outputs": [
    {
     "name": "stdout",
     "output_type": "stream",
     "text": [
      "Группа Оператор старше клиента: статистика=0.41453613631187314, p-value=4.064853932006599e-62\n",
      "Предположение о нормальности отвергается.\n",
      "Группа Одинаковый возраст: статистика=0.37439319137423366, p-value=5.1985047617932474e-67\n",
      "Предположение о нормальности отвергается.\n",
      "Группа Клиент старше операторa: статистика=0.2833007057368969, p-value=6.902185292923437e-75\n",
      "Предположение о нормальности отвергается.\n"
     ]
    }
   ],
   "execution_count": 26
  },
  {
   "metadata": {
    "ExecuteTime": {
     "end_time": "2024-12-16T20:05:16.122150Z",
     "start_time": "2024-12-16T20:05:16.077911Z"
    }
   },
   "cell_type": "code",
   "source": [
    "import pandas as pd\n",
    "import numpy as np\n",
    "from scipy.stats import chi2_contingency\n",
    "\n",
    "cc = df_plus_emp[df_plus_emp['product_cd'].isin(['Credit Cards'])].copy()\n",
    "now = cc[cc['auto_flg'] == 0].copy()\n",
    "\n",
    "# Создание таблицы сопряженности для G-теста\n",
    "contingency_table = pd.crosstab(\n",
    "    index=[now['matching_variance'], now['emp_gender_cd']],  # Группы: matching_variance и emp_gender_cd\n",
    "    columns=now['flag']  # Успешность звонка\n",
    ")\n",
    "\n",
    "\n",
    "\n",
    "# Проведение G-теста\n",
    "chi2, p_value, dof, expected = chi2_contingency(contingency_table, lambda_=\"log-likelihood\")\n",
    "\n",
    "print(\"G-test (Likelihood Ratio Test) Results:\")\n",
    "print(f\"Chi-squared statistic: {chi2}\")\n",
    "print(f\"Degrees of freedom: {dof}\")\n",
    "print(f\"P-value: {p_value}\")\n",
    "\n",
    "if p_value < 0.05:\n",
    "    print(\"Гипотеза о влиянии группы 'Оператор старше клиента' и W на успешность звонка подтверждается (статистически значимая зависимость).\")\n",
    "else:\n",
    "    print(\"Гипотеза о влиянии группы 'Оператор старше клиента' и W на успешность звонка не подтверждается.\")"
   ],
   "id": "3113d8136957f722",
   "outputs": [
    {
     "name": "stdout",
     "output_type": "stream",
     "text": [
      "G-test (Likelihood Ratio Test) Results:\n",
      "Chi-squared statistic: 59.162455325818776\n",
      "Degrees of freedom: 5\n",
      "P-value: 1.8103166257029266e-11\n",
      "Гипотеза о влиянии группы 'Оператор старше клиента' и W на успешность звонка подтверждается (статистически значимая зависимость).\n"
     ]
    }
   ],
   "execution_count": 28
  },
  {
   "metadata": {
    "ExecuteTime": {
     "end_time": "2024-12-16T20:37:56.004210Z",
     "start_time": "2024-12-16T20:37:55.957811Z"
    }
   },
   "cell_type": "code",
   "source": [
    "from scipy.stats import fisher_exact\n",
    "import pandas as pd\n",
    "\n",
    "cc = df_plus_emp[df_plus_emp['product_cd'].isin(['Credit Cards'])].copy()\n",
    "\n",
    "# Подготовка таблицы: успешные/неуспешные звонки в вашей группе и остальных\n",
    "table = pd.crosstab(\n",
    "    index=(cc['matching_variance'] == 'Оператор старше клиента') & (cc['emp_gender_cd'] == 'W'),\n",
    "    columns=cc['flag']\n",
    ")\n",
    "\n",
    "# Точный тест Фишера и расчет отношения шансов\n",
    "oddsratio, p = fisher_exact(table)\n",
    "print(f\"Отношение шансов: {oddsratio}, p-value: {p}\")\n"
   ],
   "id": "2ad6de031ae6b9ce",
   "outputs": [
    {
     "name": "stdout",
     "output_type": "stream",
     "text": [
      "Отношение шансов: 1.5588330912009427, p-value: 1.5196928509323602e-07\n"
     ]
    }
   ],
   "execution_count": 72
  },
  {
   "metadata": {
    "ExecuteTime": {
     "end_time": "2024-12-16T20:38:02.784623Z",
     "start_time": "2024-12-16T20:38:02.294521Z"
    }
   },
   "cell_type": "code",
   "source": [
    "import seaborn as sns\n",
    "import matplotlib.pyplot as plt\n",
    "\n",
    "cc = df_plus_emp[df_plus_emp['product_cd'].isin(['Credit Cards'])].copy()\n",
    "# Группировка данных\n",
    "success_rate = cc.groupby(['matching_variance', 'emp_gender_cd'])['flag'].mean().reset_index()\n",
    "\n",
    "# График\n",
    "sns.barplot(data=success_rate, x='matching_variance', y='flag', hue='emp_gender_cd')\n",
    "plt.title(\"Успешность звонков по группам\")\n",
    "plt.ylabel(\"Доля успешных звонков\")\n",
    "plt.xlabel(\"Соотношение возрастов оператора и клиента\")\n",
    "plt.show()\n"
   ],
   "id": "b05decfbe833d7e3",
   "outputs": [
    {
     "data": {
      "text/plain": [
       "<Figure size 640x480 with 1 Axes>"
      ],
      "image/png": "[encoded data removed]"
     },
     "metadata": {},
     "output_type": "display_data"
    }
   ],
   "execution_count": 73
  },
  {
   "metadata": {
    "ExecuteTime": {
     "end_time": "2024-12-16T20:53:06.603177Z",
     "start_time": "2024-12-16T20:53:06.008052Z"
    }
   },
   "cell_type": "code",
   "source": [
    "def sha_budet_rok(x):\n",
    "    if x <= 22:\n",
    "        return '18-22'\n",
    "    elif x <= 30:\n",
    "        return '23-30'\n",
    "    elif x <= 45:\n",
    "        return '31-45'\n",
    "    elif x <= 60:\n",
    "        return '46-60'\n",
    "    elif x <= 80:\n",
    "        return '61-80'\n",
    "    else:\n",
    "        return '80-100'\n",
    "\n",
    "def liza_prosto_zaputalas_v_oboznacheniyah(x):\n",
    "    if x == 1:\n",
    "        return 'Гендеры совпадают'\n",
    "    if x == 0:\n",
    "        return 'Гендеры разные'\n",
    "\n",
    "df_plus_emp['age_groups_cd'] = df_plus_emp['age'].apply(lambda x: sha_budet_rok(x))\n",
    "df_plus_emp['age_groups_emp'] = df_plus_emp['emp_age_new'].apply(lambda x: sha_budet_rok(x))\n",
    "\n",
    "# Функция для получения нижней границы группы\n",
    "def extract_min_age(group):\n",
    "    return int(group.split('-')[0])\n",
    "\n",
    "# Преобразуем группы в числовые значения (нижняя граница)\n",
    "df_plus_emp['emp_group_min'] = df_plus_emp['age_groups_emp'].apply(extract_min_age)\n",
    "df_plus_emp['client_group_min'] = df_plus_emp['age_groups_cd'].apply(extract_min_age)\n",
    "\n",
    "df_plus_emp['matching_variance'] = np.where(df_plus_emp['emp_group_min'] > df_plus_emp['client_group_min'], 'Оператор старше клиента',\n",
    "                                   np.where(df_plus_emp['emp_group_min'] == df_plus_emp['client_group_min'], 'Одинаковый возраст', 'Клиент старше операторa'))\n",
    "\n",
    "# Удаляем временные столбцы, если они не нужны\n",
    "df_plus_emp.drop(['emp_group_min', 'client_group_min'], axis=1, inplace=True)\n",
    "\n",
    "cc = df_plus_emp[df_plus_emp['product_cd'].isin(['Credit Cards'])].copy()\n",
    "pivot = cc.pivot_table(index='matching_variance' , columns='emp_gender_cd', values='flag', aggfunc='mean')\n",
    "sns.heatmap(pivot, annot=True, cmap='coolwarm')\n",
    "plt.title('Процент успеха')\n",
    "plt.show()"
   ],
   "id": "a5f254c4b2f4cca6",
   "outputs": [
    {
     "data": {
      "text/plain": [
       "<Figure size 640x480 with 2 Axes>"
      ],
      "image/png": "[encoded data removed]"
     },
     "metadata": {},
     "output_type": "display_data"
    }
   ],
   "execution_count": 5
  },
  {
   "metadata": {
    "ExecuteTime": {
     "end_time": "2024-12-16T20:53:22.863008Z",
     "start_time": "2024-12-16T20:53:22.823513Z"
    }
   },
   "cell_type": "code",
   "source": [
    "# Таблица частот для всех комбинаций matching_variance и emp_gender_cd\n",
    "table = pd.crosstab(index=[cc['matching_variance'], cc['emp_gender_cd']], columns=cc['flag'])\n",
    "print(table)\n",
    "\n",
    "# Проверка процентного распределения успехов\n",
    "table_success_rate = table.div(table.sum(axis=1), axis=0)  # Доля успехов\n",
    "table_success_rate\n"
   ],
   "id": "8417fc37dca7669d",
   "outputs": [
    {
     "name": "stdout",
     "output_type": "stream",
     "text": [
      "flag                                      0    1\n",
      "matching_variance       emp_gender_cd           \n",
      "Клиент старше операторa M               586   28\n",
      "                        W              1889  177\n",
      "Одинаковый возраст      M               192   18\n",
      "                        W              1191  180\n",
      "Оператор старше клиента M               126   15\n",
      "                        W              1532  250\n"
     ]
    },
    {
     "data": {
      "text/plain": [
       "flag                                          0         1\n",
       "matching_variance       emp_gender_cd                    \n",
       "Клиент старше операторa M              0.954397  0.045603\n",
       "                        W              0.914327  0.085673\n",
       "Одинаковый возраст      M              0.914286  0.085714\n",
       "                        W              0.868709  0.131291\n",
       "Оператор старше клиента M              0.893617  0.106383\n",
       "                        W              0.859708  0.140292"
      ],
      "text/html": [
       "<div>\n",
       "<style scoped>\n",
       "    .dataframe tbody tr th:only-of-type {\n",
       "        vertical-align: middle;\n",
       "    }\n",
       "\n",
       "    .dataframe tbody tr th {\n",
       "        vertical-align: top;\n",
       "    }\n",
       "\n",
       "    .dataframe thead th {\n",
       "        text-align: right;\n",
       "    }\n",
       "</style>\n",
       "<table border=\"1\" class=\"dataframe\">\n",
       "  <thead>\n",
       "    <tr style=\"text-align: right;\">\n",
       "      <th></th>\n",
       "      <th>flag</th>\n",
       "      <th>0</th>\n",
       "      <th>1</th>\n",
       "    </tr>\n",
       "    <tr>\n",
       "      <th>matching_variance</th>\n",
       "      <th>emp_gender_cd</th>\n",
       "      <th></th>\n",
       "      <th></th>\n",
       "    </tr>\n",
       "  </thead>\n",
       "  <tbody>\n",
       "    <tr>\n",
       "      <th rowspan=\"2\" valign=\"top\">Клиент старше операторa</th>\n",
       "      <th>M</th>\n",
       "      <td>0.954397</td>\n",
       "      <td>0.045603</td>\n",
       "    </tr>\n",
       "    <tr>\n",
       "      <th>W</th>\n",
       "      <td>0.914327</td>\n",
       "      <td>0.085673</td>\n",
       "    </tr>\n",
       "    <tr>\n",
       "      <th rowspan=\"2\" valign=\"top\">Одинаковый возраст</th>\n",
       "      <th>M</th>\n",
       "      <td>0.914286</td>\n",
       "      <td>0.085714</td>\n",
       "    </tr>\n",
       "    <tr>\n",
       "      <th>W</th>\n",
       "      <td>0.868709</td>\n",
       "      <td>0.131291</td>\n",
       "    </tr>\n",
       "    <tr>\n",
       "      <th rowspan=\"2\" valign=\"top\">Оператор старше клиента</th>\n",
       "      <th>M</th>\n",
       "      <td>0.893617</td>\n",
       "      <td>0.106383</td>\n",
       "    </tr>\n",
       "    <tr>\n",
       "      <th>W</th>\n",
       "      <td>0.859708</td>\n",
       "      <td>0.140292</td>\n",
       "    </tr>\n",
       "  </tbody>\n",
       "</table>\n",
       "</div>"
      ]
     },
     "execution_count": 6,
     "metadata": {},
     "output_type": "execute_result"
    }
   ],
   "execution_count": 6
  },
  {
   "metadata": {
    "ExecuteTime": {
     "end_time": "2024-12-16T20:53:28.382877Z",
     "start_time": "2024-12-16T20:53:28.373476Z"
    }
   },
   "cell_type": "code",
   "source": [
    "# Подготовка данных для G-теста\n",
    "from scipy.stats import chi2_contingency\n",
    "\n",
    "chi2, p, dof, expected = chi2_contingency(table)\n",
    "print(f\"G-Test Chi2 statistic: {chi2}, p-value: {p}\")\n"
   ],
   "id": "5e09145148f8e6e0",
   "outputs": [
    {
     "name": "stdout",
     "output_type": "stream",
     "text": [
      "G-Test Chi2 statistic: 63.59033269594346, p-value: 2.1966617844188426e-12\n"
     ]
    }
   ],
   "execution_count": 7
  },
  {
   "metadata": {},
   "cell_type": "code",
   "outputs": [],
   "execution_count": null,
   "source": "",
   "id": "49da7f0f969f10d8"
  },
  {
   "metadata": {
    "ExecuteTime": {
     "end_time": "2024-12-16T20:54:32.991674Z",
     "start_time": "2024-12-16T20:54:30.794286Z"
    }
   },
   "cell_type": "code",
   "source": [
    "from statsmodels.stats.multicomp import pairwise_tukeyhsd\n",
    "\n",
    "# Создание списка групп и флага успеха\n",
    "cc['group'] = cc['matching_variance'] + '_' + cc['emp_gender_cd']\n",
    "watafak = cc[['group', 'flag']].dropna()\n",
    "tukey = pairwise_tukeyhsd(endog=watafak['flag'], groups=watafak['group'], alpha=0.05)\n",
    "\n",
    "print(tukey)\n"
   ],
   "id": "406b143f4c5e92de",
   "outputs": [
    {
     "name": "stdout",
     "output_type": "stream",
     "text": [
      "                   Multiple Comparison of Means - Tukey HSD, FWER=0.05                   \n",
      "=========================================================================================\n",
      "          group1                    group2          meandiff p-adj   lower  upper  reject\n",
      "-----------------------------------------------------------------------------------------\n",
      "Клиент старше операторa_M Клиент старше операторa_W   0.0401 0.0542 -0.0004 0.0806  False\n",
      "Клиент старше операторa_M      Одинаковый возраст_M   0.0401 0.5825 -0.0303 0.1105  False\n",
      "Клиент старше операторa_M      Одинаковый возраст_W   0.0857    0.0  0.0429 0.1285   True\n",
      "Клиент старше операторa_M Оператор старше клиента_M   0.0608 0.2838 -0.0215  0.143  False\n",
      "Клиент старше операторa_M Оператор старше клиента_W   0.0947    0.0  0.0535 0.1359   True\n",
      "Клиент старше операторa_W      Одинаковый возраст_M      0.0    1.0 -0.0637 0.0638  False\n",
      "Клиент старше операторa_W      Одинаковый возраст_W   0.0456 0.0003  0.0149 0.0763   True\n",
      "Клиент старше операторa_W Оператор старше клиента_M   0.0207 0.9725 -0.0559 0.0974  False\n",
      "Клиент старше операторa_W Оператор старше клиента_W   0.0546    0.0  0.0261 0.0831   True\n",
      "     Одинаковый возраст_M      Одинаковый возраст_W   0.0456 0.3477 -0.0197 0.1108  False\n",
      "     Одинаковый возраст_M Оператор старше клиента_M   0.0207   0.99 -0.0752 0.1166  False\n",
      "     Одинаковый возраст_M Оператор старше клиента_W   0.0546  0.149 -0.0097 0.1188  False\n",
      "     Одинаковый возраст_W Оператор старше клиента_M  -0.0249 0.9437 -0.1028  0.053  False\n",
      "     Одинаковый возраст_W Оператор старше клиента_W    0.009 0.9656 -0.0226 0.0406  False\n",
      "Оператор старше клиента_M Оператор старше клиента_W   0.0339 0.8096 -0.0431  0.111  False\n",
      "-----------------------------------------------------------------------------------------\n"
     ]
    }
   ],
   "execution_count": 9
  },
  {
   "metadata": {
    "ExecuteTime": {
     "end_time": "2024-12-16T21:02:13.797766Z",
     "start_time": "2024-12-16T21:02:13.793881Z"
    }
   },
   "cell_type": "code",
   "source": [
    "\n",
    "def matching_heatmap(df_plus_emp):\n",
    "    pivot = df_plus_emp.pivot_table(values='flag', index='matching_variance', columns='emp_gender_cd', aggfunc='mean')\n",
    "    sns.heatmap(pivot, annot=True, cmap='coolwarm')\n",
    "    plt.title('Процент успеха')\n",
    "    plt.show()"
   ],
   "id": "e6245348c4cfca12",
   "outputs": [],
   "execution_count": 11
  },
  {
   "metadata": {
    "ExecuteTime": {
     "end_time": "2024-12-16T21:07:28.311057Z",
     "start_time": "2024-12-16T21:07:27.682931Z"
    }
   },
   "cell_type": "code",
   "source": [
    "cc = df_plus_emp[df_plus_emp['product_cd'].isin(['Credit Cards'])].copy()\n",
    "cc['age_plus_gender_matching'] = ((cc['matching_variance'] == 'Оператор старше клиента') & (cc['gender_matching'] == 0))\n",
    "\n",
    "from statsmodels.stats.multicomp import pairwise_tukeyhsd\n",
    "from scipy.stats import chi2_contingency\n",
    "\n",
    "# Таблица сопряженности: low_income_flg и flag (успех)\n",
    "contingency_table = pd.crosstab(cc['age_plus_gender_matching'], cc['flag'])\n",
    "\n",
    "# Тест хи-квадрат\n",
    "chi2, p, dof, expected = chi2_contingency(contingency_table)\n",
    "  \n",
    "print(\"Хи-квадрат статистика:\", chi2)\n",
    "print(\"p-value:\", p)\n",
    "\n",
    "# Интерпретация\n",
    "if p < 0.05:\n",
    "    print(\"Гипотеза подтверждена: низкий доход влияет на успешность апселла\")\n",
    "else:\n",
    "    print(\"Гипотеза не подтверждена: связь между доходом и успешностью отсутствует\")\n",
    "    \n",
    "# Пост-хок анализ Тьюки\n",
    "data_long = cc.explode('flag')\n",
    "tukey = pairwise_tukeyhsd(endog=data_long['age_plus_gender_matching'], groups=data_long['flag'], alpha=0.05)\n",
    "\n",
    "print(\"\\nРезультаты теста Тьюки:\")\n",
    "print(tukey)\n",
    "\n",
    "# Преобразуем группы в числовые значения (нижняя граница)\n",
    "cc['emp_group_min'] = cc['age_groups_emp'].apply(extract_min_age)\n",
    "cc['client_group_min'] = cc['age_groups_cd'].apply(extract_min_age)\n",
    "\n",
    "cc['matching_variance'] = np.where(cc['emp_group_min'] > cc['client_group_min'], 0,\n",
    "                                   np.where(cc['emp_group_min'] == cc['client_group_min'], 1, 2))\n",
    "\n",
    "# Удаляем временные столбцы, если они не нужны\n",
    "cc.drop(['emp_group_min', 'client_group_min'], axis=1, inplace=True)\n",
    "\n",
    "cc['age_plus_gender_matching'] = cc['matching_variance']*2 + cc['gender_matching']\n",
    "print()\n",
    "\n",
    "matching_heatmap(cc)\n",
    "\n",
    "from scipy.stats import fisher_exact\n",
    "# cc['age_plus_gender_matching'] = ((cc['matching_variance'] == 'Оператор старше клиента') & (cc['gender_matching'] == 0))\n",
    "# Создание таблицы сопряженности\n",
    "contingency_table = pd.crosstab(cc[cc['age_plus_gender_matching'].isin([4, 5])]['age_plus_gender_matching'], \n",
    "                                cc[cc['age_plus_gender_matching'].isin([4, 5])]['flag'])\n",
    "\n",
    "# Тест хи-квадрат\n",
    "# chi2, p, dof, expected = chi2_contingency(contingency_table)\n",
    "chi2, p = fisher_exact(contingency_table)\n",
    "  \n",
    "print(\"Хи-квадрат статистика:\", chi2)\n",
    "print(\"p-value:\", p)\n",
    "\n",
    "# Интерпретация\n",
    "if p < 0.05:\n",
    "    print(\"Гипотеза подтверждена: низкий доход влияет на успешность апселла\")\n",
    "else:\n",
    "    print(\"Гипотеза не подтверждена: связь между доходом и успешностью отсутствует\")\n"
   ],
   "id": "796ac44ffeaa1137",
   "outputs": [
    {
     "name": "stdout",
     "output_type": "stream",
     "text": [
      "Хи-квадрат статистика: 13.08687867833186\n",
      "p-value: 0.00029737144392210285\n",
      "Гипотеза подтверждена: низкий доход влияет на успешность апселла\n",
      "\n",
      "Результаты теста Тьюки:\n",
      "Multiple Comparison of Means - Tukey HSD, FWER=0.05\n",
      "==================================================\n",
      "group1 group2 meandiff p-adj  lower  upper  reject\n",
      "--------------------------------------------------\n",
      "     0      1   0.0533 0.0002 0.0248 0.0818   True\n",
      "--------------------------------------------------\n",
      "\n"
     ]
    },
    {
     "data": {
      "text/plain": [
       "<Figure size 640x480 with 2 Axes>"
      ],
      "image/png": "[encoded data removed]"
     },
     "metadata": {},
     "output_type": "display_data"
    },
    {
     "name": "stdout",
     "output_type": "stream",
     "text": [
      "Хи-квадрат статистика: 0.8715124372087394\n",
      "p-value: 0.3228258488055524\n",
      "Гипотеза не подтверждена: связь между доходом и успешностью отсутствует\n"
     ]
    }
   ],
   "execution_count": 19
  },
  {
   "metadata": {
    "ExecuteTime": {
     "end_time": "2024-12-16T21:04:58.424358Z",
     "start_time": "2024-12-16T21:04:58.379592Z"
    }
   },
   "cell_type": "code",
   "source": "cc",
   "id": "394228649297ee91",
   "outputs": [
    {
     "data": {
      "text/plain": [
       "       Unnamed: 0  customer_id   age gender_cd region_size  foreign_flg  \\\n",
       "0              23    342879157  27.0         M         NaN          NaN   \n",
       "1              58    141070875  34.0         M       urban          0.0   \n",
       "2              63    282407696  41.0         M       rural          0.0   \n",
       "3              94    412878747  26.0         M       urban          0.0   \n",
       "7             114    306996870  23.0         M        town          0.0   \n",
       "...           ...          ...   ...       ...         ...          ...   \n",
       "14159       18077    584331549   NaN         M        town          0.0   \n",
       "14160       18110    525669032   NaN         F         NaN          NaN   \n",
       "14162       18220    539821879   NaN       NaN         msk          1.0   \n",
       "14164       18353    476196896   NaN       NaN       urban          1.0   \n",
       "14165       18565    484398797   NaN       NaN         NaN          NaN   \n",
       "\n",
       "       entrepreneur_flg  auto_flg  traveler_flg  partnership_flg  ...  \\\n",
       "0                   NaN       NaN           NaN              NaN  ...   \n",
       "1                   0.0       1.0           0.0              1.0  ...   \n",
       "2                   1.0       1.0           0.0              1.0  ...   \n",
       "3                   0.0       0.0           0.0              1.0  ...   \n",
       "7                   0.0       0.0           0.0              1.0  ...   \n",
       "...                 ...       ...           ...              ...  ...   \n",
       "14159               0.0       0.0           0.0              0.0  ...   \n",
       "14160               NaN       NaN           NaN              NaN  ...   \n",
       "14162               0.0       0.0           0.0              1.0  ...   \n",
       "14164               0.0       0.0           0.0              0.0  ...   \n",
       "14165               NaN       NaN           NaN              NaN  ...   \n",
       "\n",
       "       age_matching lovely_gender_cd_encoded emps_lovely_age  \\\n",
       "0                 0                        0               0   \n",
       "1                 0                        0               0   \n",
       "2                 0                        1               0   \n",
       "3                 1                        0               0   \n",
       "7                 0                        0               0   \n",
       "...             ...                      ...             ...   \n",
       "14159             0                        1               0   \n",
       "14160             0                        1               0   \n",
       "14162             0                        0               0   \n",
       "14164             0                        1               0   \n",
       "14165             0                        1               0   \n",
       "\n",
       "      child_by_emp_and_cd_flg  age_groups_cd  age_groups_emp  \\\n",
       "0                           0          23-30           46-60   \n",
       "1                           0          31-45           46-60   \n",
       "2                           0          31-45           46-60   \n",
       "3                           0          23-30           23-30   \n",
       "7                           0          23-30           46-60   \n",
       "...                       ...            ...             ...   \n",
       "14159                       0         80-100           18-22   \n",
       "14160                       0         80-100           31-45   \n",
       "14162                       0         80-100           23-30   \n",
       "14164                       0         80-100           31-45   \n",
       "14165                       0         80-100           18-22   \n",
       "\n",
       "      age_group_matching     pol_sovpadenie matching_variance  \\\n",
       "0                      0     Гендеры разные                 0   \n",
       "1                      0     Гендеры разные                 0   \n",
       "2                      1     Гендеры разные                 0   \n",
       "3                      1     Гендеры разные                 1   \n",
       "7                      0     Гендеры разные                 0   \n",
       "...                  ...                ...               ...   \n",
       "14159                  0  Гендеры совпадают                 2   \n",
       "14160                  0  Гендеры совпадают                 2   \n",
       "14162                  0     Гендеры разные                 2   \n",
       "14164                  0     Гендеры разные                 2   \n",
       "14165                  0     Гендеры разные                 2   \n",
       "\n",
       "       age_plus_gender_matching  \n",
       "0                             0  \n",
       "1                             0  \n",
       "2                             0  \n",
       "3                             2  \n",
       "7                             0  \n",
       "...                         ...  \n",
       "14159                         5  \n",
       "14160                         5  \n",
       "14162                         4  \n",
       "14164                         4  \n",
       "14165                         4  \n",
       "\n",
       "[10150 rows x 60 columns]"
      ],
      "text/html": [
       "<div>\n",
       "<style scoped>\n",
       "    .dataframe tbody tr th:only-of-type {\n",
       "        vertical-align: middle;\n",
       "    }\n",
       "\n",
       "    .dataframe tbody tr th {\n",
       "        vertical-align: top;\n",
       "    }\n",
       "\n",
       "    .dataframe thead th {\n",
       "        text-align: right;\n",
       "    }\n",
       "</style>\n",
       "<table border=\"1\" class=\"dataframe\">\n",
       "  <thead>\n",
       "    <tr style=\"text-align: right;\">\n",
       "      <th></th>\n",
       "      <th>Unnamed: 0</th>\n",
       "      <th>customer_id</th>\n",
       "      <th>age</th>\n",
       "      <th>gender_cd</th>\n",
       "      <th>region_size</th>\n",
       "      <th>foreign_flg</th>\n",
       "      <th>entrepreneur_flg</th>\n",
       "      <th>auto_flg</th>\n",
       "      <th>traveler_flg</th>\n",
       "      <th>partnership_flg</th>\n",
       "      <th>...</th>\n",
       "      <th>age_matching</th>\n",
       "      <th>lovely_gender_cd_encoded</th>\n",
       "      <th>emps_lovely_age</th>\n",
       "      <th>child_by_emp_and_cd_flg</th>\n",
       "      <th>age_groups_cd</th>\n",
       "      <th>age_groups_emp</th>\n",
       "      <th>age_group_matching</th>\n",
       "      <th>pol_sovpadenie</th>\n",
       "      <th>matching_variance</th>\n",
       "      <th>age_plus_gender_matching</th>\n",
       "    </tr>\n",
       "  </thead>\n",
       "  <tbody>\n",
       "    <tr>\n",
       "      <th>0</th>\n",
       "      <td>23</td>\n",
       "      <td>342879157</td>\n",
       "      <td>27.0</td>\n",
       "      <td>M</td>\n",
       "      <td>NaN</td>\n",
       "      <td>NaN</td>\n",
       "      <td>NaN</td>\n",
       "      <td>NaN</td>\n",
       "      <td>NaN</td>\n",
       "      <td>NaN</td>\n",
       "      <td>...</td>\n",
       "      <td>0</td>\n",
       "      <td>0</td>\n",
       "      <td>0</td>\n",
       "      <td>0</td>\n",
       "      <td>23-30</td>\n",
       "      <td>46-60</td>\n",
       "      <td>0</td>\n",
       "      <td>Гендеры разные</td>\n",
       "      <td>0</td>\n",
       "      <td>0</td>\n",
       "    </tr>\n",
       "    <tr>\n",
       "      <th>1</th>\n",
       "      <td>58</td>\n",
       "      <td>141070875</td>\n",
       "      <td>34.0</td>\n",
       "      <td>M</td>\n",
       "      <td>urban</td>\n",
       "      <td>0.0</td>\n",
       "      <td>0.0</td>\n",
       "      <td>1.0</td>\n",
       "      <td>0.0</td>\n",
       "      <td>1.0</td>\n",
       "      <td>...</td>\n",
       "      <td>0</td>\n",
       "      <td>0</td>\n",
       "      <td>0</td>\n",
       "      <td>0</td>\n",
       "      <td>31-45</td>\n",
       "      <td>46-60</td>\n",
       "      <td>0</td>\n",
       "      <td>Гендеры разные</td>\n",
       "      <td>0</td>\n",
       "      <td>0</td>\n",
       "    </tr>\n",
       "    <tr>\n",
       "      <th>2</th>\n",
       "      <td>63</td>\n",
       "      <td>282407696</td>\n",
       "      <td>41.0</td>\n",
       "      <td>M</td>\n",
       "      <td>rural</td>\n",
       "      <td>0.0</td>\n",
       "      <td>1.0</td>\n",
       "      <td>1.0</td>\n",
       "      <td>0.0</td>\n",
       "      <td>1.0</td>\n",
       "      <td>...</td>\n",
       "      <td>0</td>\n",
       "      <td>1</td>\n",
       "      <td>0</td>\n",
       "      <td>0</td>\n",
       "      <td>31-45</td>\n",
       "      <td>46-60</td>\n",
       "      <td>1</td>\n",
       "      <td>Гендеры разные</td>\n",
       "      <td>0</td>\n",
       "      <td>0</td>\n",
       "    </tr>\n",
       "    <tr>\n",
       "      <th>3</th>\n",
       "      <td>94</td>\n",
       "      <td>412878747</td>\n",
       "      <td>26.0</td>\n",
       "      <td>M</td>\n",
       "      <td>urban</td>\n",
       "      <td>0.0</td>\n",
       "      <td>0.0</td>\n",
       "      <td>0.0</td>\n",
       "      <td>0.0</td>\n",
       "      <td>1.0</td>\n",
       "      <td>...</td>\n",
       "      <td>1</td>\n",
       "      <td>0</td>\n",
       "      <td>0</td>\n",
       "      <td>0</td>\n",
       "      <td>23-30</td>\n",
       "      <td>23-30</td>\n",
       "      <td>1</td>\n",
       "      <td>Гендеры разные</td>\n",
       "      <td>1</td>\n",
       "      <td>2</td>\n",
       "    </tr>\n",
       "    <tr>\n",
       "      <th>7</th>\n",
       "      <td>114</td>\n",
       "      <td>306996870</td>\n",
       "      <td>23.0</td>\n",
       "      <td>M</td>\n",
       "      <td>town</td>\n",
       "      <td>0.0</td>\n",
       "      <td>0.0</td>\n",
       "      <td>0.0</td>\n",
       "      <td>0.0</td>\n",
       "      <td>1.0</td>\n",
       "      <td>...</td>\n",
       "      <td>0</td>\n",
       "      <td>0</td>\n",
       "      <td>0</td>\n",
       "      <td>0</td>\n",
       "      <td>23-30</td>\n",
       "      <td>46-60</td>\n",
       "      <td>0</td>\n",
       "      <td>Гендеры разные</td>\n",
       "      <td>0</td>\n",
       "      <td>0</td>\n",
       "    </tr>\n",
       "    <tr>\n",
       "      <th>...</th>\n",
       "      <td>...</td>\n",
       "      <td>...</td>\n",
       "      <td>...</td>\n",
       "      <td>...</td>\n",
       "      <td>...</td>\n",
       "      <td>...</td>\n",
       "      <td>...</td>\n",
       "      <td>...</td>\n",
       "      <td>...</td>\n",
       "      <td>...</td>\n",
       "      <td>...</td>\n",
       "      <td>...</td>\n",
       "      <td>...</td>\n",
       "      <td>...</td>\n",
       "      <td>...</td>\n",
       "      <td>...</td>\n",
       "      <td>...</td>\n",
       "      <td>...</td>\n",
       "      <td>...</td>\n",
       "      <td>...</td>\n",
       "      <td>...</td>\n",
       "    </tr>\n",
       "    <tr>\n",
       "      <th>14159</th>\n",
       "      <td>18077</td>\n",
       "      <td>584331549</td>\n",
       "      <td>NaN</td>\n",
       "      <td>M</td>\n",
       "      <td>town</td>\n",
       "      <td>0.0</td>\n",
       "      <td>0.0</td>\n",
       "      <td>0.0</td>\n",
       "      <td>0.0</td>\n",
       "      <td>0.0</td>\n",
       "      <td>...</td>\n",
       "      <td>0</td>\n",
       "      <td>1</td>\n",
       "      <td>0</td>\n",
       "      <td>0</td>\n",
       "      <td>80-100</td>\n",
       "      <td>18-22</td>\n",
       "      <td>0</td>\n",
       "      <td>Гендеры совпадают</td>\n",
       "      <td>2</td>\n",
       "      <td>5</td>\n",
       "    </tr>\n",
       "    <tr>\n",
       "      <th>14160</th>\n",
       "      <td>18110</td>\n",
       "      <td>525669032</td>\n",
       "      <td>NaN</td>\n",
       "      <td>F</td>\n",
       "      <td>NaN</td>\n",
       "      <td>NaN</td>\n",
       "      <td>NaN</td>\n",
       "      <td>NaN</td>\n",
       "      <td>NaN</td>\n",
       "      <td>NaN</td>\n",
       "      <td>...</td>\n",
       "      <td>0</td>\n",
       "      <td>1</td>\n",
       "      <td>0</td>\n",
       "      <td>0</td>\n",
       "      <td>80-100</td>\n",
       "      <td>31-45</td>\n",
       "      <td>0</td>\n",
       "      <td>Гендеры совпадают</td>\n",
       "      <td>2</td>\n",
       "      <td>5</td>\n",
       "    </tr>\n",
       "    <tr>\n",
       "      <th>14162</th>\n",
       "      <td>18220</td>\n",
       "      <td>539821879</td>\n",
       "      <td>NaN</td>\n",
       "      <td>NaN</td>\n",
       "      <td>msk</td>\n",
       "      <td>1.0</td>\n",
       "      <td>0.0</td>\n",
       "      <td>0.0</td>\n",
       "      <td>0.0</td>\n",
       "      <td>1.0</td>\n",
       "      <td>...</td>\n",
       "      <td>0</td>\n",
       "      <td>0</td>\n",
       "      <td>0</td>\n",
       "      <td>0</td>\n",
       "      <td>80-100</td>\n",
       "      <td>23-30</td>\n",
       "      <td>0</td>\n",
       "      <td>Гендеры разные</td>\n",
       "      <td>2</td>\n",
       "      <td>4</td>\n",
       "    </tr>\n",
       "    <tr>\n",
       "      <th>14164</th>\n",
       "      <td>18353</td>\n",
       "      <td>476196896</td>\n",
       "      <td>NaN</td>\n",
       "      <td>NaN</td>\n",
       "      <td>urban</td>\n",
       "      <td>1.0</td>\n",
       "      <td>0.0</td>\n",
       "      <td>0.0</td>\n",
       "      <td>0.0</td>\n",
       "      <td>0.0</td>\n",
       "      <td>...</td>\n",
       "      <td>0</td>\n",
       "      <td>1</td>\n",
       "      <td>0</td>\n",
       "      <td>0</td>\n",
       "      <td>80-100</td>\n",
       "      <td>31-45</td>\n",
       "      <td>0</td>\n",
       "      <td>Гендеры разные</td>\n",
       "      <td>2</td>\n",
       "      <td>4</td>\n",
       "    </tr>\n",
       "    <tr>\n",
       "      <th>14165</th>\n",
       "      <td>18565</td>\n",
       "      <td>484398797</td>\n",
       "      <td>NaN</td>\n",
       "      <td>NaN</td>\n",
       "      <td>NaN</td>\n",
       "      <td>NaN</td>\n",
       "      <td>NaN</td>\n",
       "      <td>NaN</td>\n",
       "      <td>NaN</td>\n",
       "      <td>NaN</td>\n",
       "      <td>...</td>\n",
       "      <td>0</td>\n",
       "      <td>1</td>\n",
       "      <td>0</td>\n",
       "      <td>0</td>\n",
       "      <td>80-100</td>\n",
       "      <td>18-22</td>\n",
       "      <td>0</td>\n",
       "      <td>Гендеры разные</td>\n",
       "      <td>2</td>\n",
       "      <td>4</td>\n",
       "    </tr>\n",
       "  </tbody>\n",
       "</table>\n",
       "<p>10150 rows × 60 columns</p>\n",
       "</div>"
      ]
     },
     "execution_count": 15,
     "metadata": {},
     "output_type": "execute_result"
    }
   ],
   "execution_count": 15
  },
  {
   "metadata": {},
   "cell_type": "code",
   "outputs": [],
   "execution_count": null,
   "source": "",
   "id": "315a383d4c7ce18d"
  }
 ],
 "metadata": {
  "kernelspec": {
   "display_name": "Python 3",
   "language": "python",
   "name": "python3"
  },
  "language_info": {
   "codemirror_mode": {
    "name": "ipython",
    "version": 2
   },
   "file_extension": ".py",
   "mimetype": "text/x-python",
   "name": "python",
   "nbconvert_exporter": "python",
   "pygments_lexer": "ipython2",
   "version": "2.7.6"
  }
 },
 "nbformat": 4,
 "nbformat_minor": 5
}
