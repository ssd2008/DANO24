{
 "cells": [
  {
   "cell_type": "code",
   "id": "initial_id",
   "metadata": {
    "collapsed": true,
    "ExecuteTime": {
     "end_time": "2024-12-06T17:34:36.414361Z",
     "start_time": "2024-12-06T17:34:36.410412Z"
    }
   },
   "source": [
    "import pandas as pd\n",
    "import numpy as np\n",
    "import matplotlib.pyplot as plt\n",
    "import seaborn as sns\n",
    "import warnings\n",
    "\n",
    "from numpy.ma.core import count\n",
    "from prompt_toolkit.key_binding.bindings.named_commands import yank_pop\n",
    "\n",
    "warnings.filterwarnings('ignore')"
   ],
   "outputs": [],
   "execution_count": 1
  },
  {
   "metadata": {
    "ExecuteTime": {
     "end_time": "2024-12-06T17:34:36.547124Z",
     "start_time": "2024-12-06T17:34:36.423948Z"
    }
   },
   "cell_type": "code",
   "source": "bd = pd.read_csv('final.csv')",
   "id": "ec5fb6884d69b724",
   "outputs": [],
   "execution_count": 2
  },
  {
   "metadata": {
    "ExecuteTime": {
     "end_time": "2024-12-06T17:34:36.877605Z",
     "start_time": "2024-12-06T17:34:36.851042Z"
    }
   },
   "cell_type": "code",
   "source": [
    "bd['finish_dttm'] = pd.to_datetime(bd['finish_dttm'])\n",
    "bd['age'] = bd['age'].str.replace(',', '.').astype(float)"
   ],
   "id": "11e633c60b2fa5e8",
   "outputs": [],
   "execution_count": 3
  },
  {
   "metadata": {
    "ExecuteTime": {
     "end_time": "2024-12-06T17:34:36.947184Z",
     "start_time": "2024-12-06T17:34:36.930753Z"
    }
   },
   "cell_type": "code",
   "source": [
    "bd['flag'] = (bd['wo_hit_status_result_desc'] == 'Дозвон, Успешно')\n",
    "bd['flag'] = bd['flag'].astype(int)\n",
    "days_of_week = bd['finish_dttm'].dt.day_name()\n",
    "days_of_week_num = bd['finish_dttm'].dt.weekday\n",
    "bd['day_of_week'] = days_of_week\n",
    "bd['num_of_week'] = days_of_week_num"
   ],
   "id": "f2f488e6dc05f507",
   "outputs": [],
   "execution_count": 4
  },
  {
   "metadata": {
    "ExecuteTime": {
     "end_time": "2024-12-06T17:34:37.008857Z",
     "start_time": "2024-12-06T17:34:37.003814Z"
    }
   },
   "cell_type": "code",
   "source": [
    "def vibrosi(bd, i, x):\n",
    "    return pd.concat([bd[bd[i] < x], bd[bd[i].isna()]])\n",
    "def vibrosiVniz(bd, i, x):\n",
    "    return pd.concat([bd[bd[i] > x], bd[bd[i].isna()]])"
   ],
   "id": "dc73fa1ae86523c3",
   "outputs": [],
   "execution_count": 5
  },
  {
   "metadata": {
    "ExecuteTime": {
     "end_time": "2024-12-06T17:34:37.056325Z",
     "start_time": "2024-12-06T17:34:37.047738Z"
    }
   },
   "cell_type": "code",
   "source": [
    "bd['child_flg'] = bd['child_amt'] != 0\n",
    "bd['child_flg'] = bd['child_flg'].astype(int)"
   ],
   "id": "864d3c44d6b58ff1",
   "outputs": [],
   "execution_count": 6
  },
  {
   "metadata": {
    "ExecuteTime": {
     "end_time": "2024-12-06T17:34:37.912604Z",
     "start_time": "2024-12-06T17:34:37.850462Z"
    }
   },
   "cell_type": "code",
   "source": [
    "bd = vibrosi(bd, 'confirmed_income', 40000)\n",
    "bd = vibrosi(bd, 'predicted_income', 45000)\n",
    "bd = vibrosiVniz(bd, 'predicted_income', 0)\n",
    "bd = vibrosiVniz(bd, 'age', 13)\n",
    "# хочу делить по: age, auto_flg, partnership_flg, child_flg, realty_type, functional_cd, emp_work_months_cnt, emp_gender_cd, emp_age"
   ],
   "id": "cc6385b9399c71b",
   "outputs": [],
   "execution_count": 7
  },
  {
   "metadata": {
    "ExecuteTime": {
     "end_time": "2024-12-06T17:34:38.648892Z",
     "start_time": "2024-12-06T17:34:38.597022Z"
    }
   },
   "cell_type": "code",
   "source": [
    "df = bd.drop(bd[bd['wo_hit_status_reason_desc'].isin(['Отказ прослушать предложение', 'Не звонить', 'Левый контакт', 'Отказ от диалога', 'отказ от диалога', 'Отказ от разговора', 'Не звонить, резкий негатив', 'Негатив/Не звонить', 'Отказ без объяснения причин', 'просит не звонить', 'Не звонить / резкий негатив', 'Вежливо попросил не звонить', 'Номер не принадлежит страхователю', 'отказ без объяснения причин', 'Отказался озвучить причину', 'Чёрный список', 'негатив к Тинькофф', 'Грубо попросил не звонить', 'Не звонить (негатив)', 'Отказался от диалога', 'Просит больше не звонить', 'Недозвон', 'некорректная заявка', 'Техническая ошибка', 'Не нравится Т-Банк', 'Негатив к Т-Банку', 'Негативная информация о клиенте', 'Отказ без объяснения причины', 'Неизвестен / Не контактирует', 'Человек не участвовал в Дано', 'отменили'])].index)\n",
    "# Создание нового столбца с логикой замещения NaN\n",
    "df['income'] = df['confirmed_income'].fillna(df['predicted_income'])\n",
    "df['segment_number'] = df['segment_cd'].str.extract(r'\\((\\d+)\\)').astype(float)"
   ],
   "id": "f86297d17041ba55",
   "outputs": [],
   "execution_count": 8
  },
  {
   "metadata": {
    "ExecuteTime": {
     "end_time": "2024-12-06T17:34:39.364143Z",
     "start_time": "2024-12-06T17:34:39.353763Z"
    }
   },
   "cell_type": "code",
   "source": [
    "df['num_segment'] = (df['segment_cd'].str[2:4])\n",
    "df['num_segment'] = df['num_segment'].astype(float)"
   ],
   "id": "a978a84a52635e5d",
   "outputs": [],
   "execution_count": 9
  },
  {
   "metadata": {
    "ExecuteTime": {
     "end_time": "2024-12-06T17:34:40.218143Z",
     "start_time": "2024-12-06T17:34:40.195201Z"
    }
   },
   "cell_type": "code",
   "source": [
    "# Функция для определения сезона по номеру месяца\n",
    "def get_season(month):\n",
    "    if month in [12, 1, 2]:\n",
    "        return 'Зима'\n",
    "    elif month in [3, 4, 5]:\n",
    "        return 'Весна'\n",
    "    elif month in [6, 7, 8]:\n",
    "        return 'Лето'\n",
    "    elif month in [9, 10, 11]:\n",
    "        return 'Осень'\n",
    "\n",
    "# Преобразуем finish_dttm в datetime, если нужно\n",
    "df['finish_dttm'] = pd.to_datetime(df['finish_dttm'])\n",
    "\n",
    "# Извлекаем номер месяца\n",
    "df['month'] = df['finish_dttm'].dt.month\n",
    "\n",
    "# Применяем функцию для создания нового столбца season\n",
    "df['season'] = df['month'].apply(get_season)"
   ],
   "id": "92430a22ee589c58",
   "outputs": [],
   "execution_count": 10
  },
  {
   "metadata": {
    "ExecuteTime": {
     "end_time": "2024-12-06T17:53:22.233682Z",
     "start_time": "2024-12-06T17:53:22.212964Z"
    }
   },
   "cell_type": "code",
   "source": "df['finish_dttm']",
   "id": "cb6175f05652a841",
   "outputs": [
    {
     "ename": "AttributeError",
     "evalue": "'Series' object has no attribute 'hours'",
     "output_type": "error",
     "traceback": [
      "\u001B[0;31m---------------------------------------------------------------------------\u001B[0m",
      "\u001B[0;31mAttributeError\u001B[0m                            Traceback (most recent call last)",
      "\u001B[0;32m/var/folders/85/nvry22pd6nx6pfd1c1h6z_nr0000gp/T/ipykernel_29899/4009285881.py\u001B[0m in \u001B[0;36m?\u001B[0;34m()\u001B[0m\n\u001B[0;32m----> 1\u001B[0;31m \u001B[0mdf\u001B[0m\u001B[0;34m[\u001B[0m\u001B[0;34m'finish_dttm'\u001B[0m\u001B[0;34m]\u001B[0m\u001B[0;34m.\u001B[0m\u001B[0mhours\u001B[0m\u001B[0;34m\u001B[0m\u001B[0;34m\u001B[0m\u001B[0m\n\u001B[0m",
      "\u001B[0;32m~/Documents/src/dano24/zvonki/venv/lib/python3.9/site-packages/pandas/core/generic.py\u001B[0m in \u001B[0;36m?\u001B[0;34m(self, name)\u001B[0m\n\u001B[1;32m   6295\u001B[0m             \u001B[0;32mand\u001B[0m \u001B[0mname\u001B[0m \u001B[0;32mnot\u001B[0m \u001B[0;32min\u001B[0m \u001B[0mself\u001B[0m\u001B[0;34m.\u001B[0m\u001B[0m_accessors\u001B[0m\u001B[0;34m\u001B[0m\u001B[0;34m\u001B[0m\u001B[0m\n\u001B[1;32m   6296\u001B[0m             \u001B[0;32mand\u001B[0m \u001B[0mself\u001B[0m\u001B[0;34m.\u001B[0m\u001B[0m_info_axis\u001B[0m\u001B[0;34m.\u001B[0m\u001B[0m_can_hold_identifiers_and_holds_name\u001B[0m\u001B[0;34m(\u001B[0m\u001B[0mname\u001B[0m\u001B[0;34m)\u001B[0m\u001B[0;34m\u001B[0m\u001B[0;34m\u001B[0m\u001B[0m\n\u001B[1;32m   6297\u001B[0m         ):\n\u001B[1;32m   6298\u001B[0m             \u001B[0;32mreturn\u001B[0m \u001B[0mself\u001B[0m\u001B[0;34m[\u001B[0m\u001B[0mname\u001B[0m\u001B[0;34m]\u001B[0m\u001B[0;34m\u001B[0m\u001B[0;34m\u001B[0m\u001B[0m\n\u001B[0;32m-> 6299\u001B[0;31m         \u001B[0;32mreturn\u001B[0m \u001B[0mobject\u001B[0m\u001B[0;34m.\u001B[0m\u001B[0m__getattribute__\u001B[0m\u001B[0;34m(\u001B[0m\u001B[0mself\u001B[0m\u001B[0;34m,\u001B[0m \u001B[0mname\u001B[0m\u001B[0;34m)\u001B[0m\u001B[0;34m\u001B[0m\u001B[0;34m\u001B[0m\u001B[0m\n\u001B[0m",
      "\u001B[0;31mAttributeError\u001B[0m: 'Series' object has no attribute 'hours'"
     ]
    }
   ],
   "execution_count": 33
  },
  {
   "metadata": {
    "ExecuteTime": {
     "end_time": "2024-12-06T18:24:15.531872Z",
     "start_time": "2024-12-06T18:24:15.520787Z"
    }
   },
   "cell_type": "code",
   "source": "cl = df[df['product_cd'] == 'Cash Loan']",
   "id": "38f77bbc9a342e45",
   "outputs": [],
   "execution_count": 67
  },
  {
   "metadata": {
    "ExecuteTime": {
     "end_time": "2024-12-06T18:17:44.805678Z",
     "start_time": "2024-12-06T18:17:44.797495Z"
    }
   },
   "cell_type": "code",
   "source": "cl['wo_hit_status_reason_desc'].value_counts()",
   "id": "e7b7579150393a36",
   "outputs": [
    {
     "data": {
      "text/plain": [
       "wo_hit_status_reason_desc\n",
       "Кредит уже не нужен                                       758\n",
       "Другое                                                    568\n",
       "Отказ по всем продуктам                                   179\n",
       "Не устраивает одобренная сумма                             96\n",
       "Переведен в банк                                           79\n",
       "Назначена встреча                                          79\n",
       "Нет потребности в кредите                                  74\n",
       "Высокая ставка по кредиту                                  68\n",
       "Третье лицо                                                65\n",
       "Отказ после БКИ                                            40\n",
       "Согласовано без встречи                                    37\n",
       "Другой банк                                                31\n",
       "Нет потребности                                            29\n",
       "Upsell на КНЗ                                              27\n",
       "Другое (нестандартная ситуация)                            26\n",
       "Активирует самостоятельно позднее                          22\n",
       "Отказ после дедупликации                                   21\n",
       "Клиент ранее отказался                                     21\n",
       "Встреча не назначена                                       16\n",
       "Не устраивает ни одно предложение                          15\n",
       "Некорректный трансфер                                      12\n",
       "Не устраивает ставка                                       12\n",
       "Без встречи, активация кредита                             12\n",
       "Без встречи                                                12\n",
       "Уже оставил заявку                                         11\n",
       "Нет собственного жилья                                     10\n",
       "Перезвонит самостоятельно                                  10\n",
       "Не устраивают условия                                       8\n",
       "Боится закладывать квартиру                                 7\n",
       "Действующий клиент                                          6\n",
       "Просто интересовался условиями                              5\n",
       "Частный дом                                                 5\n",
       "Upsell на КНА                                               5\n",
       "Не соответствует по возрасту                                4\n",
       "Взял кредит в другом банке                                  4\n",
       "Уже активировал кредит                                      4\n",
       "Не гражданин РФ                                             3\n",
       "Жилье под обременением                                      3\n",
       "Не устраивает сумма                                         2\n",
       "В списке нет подходящей причины (укажи в комментариях)      2\n",
       "Не готов брать заем вместо кредита                          2\n",
       "Согласен активировать Кредит Наличными                      2\n",
       "Отказ от займа                                              2\n",
       "Не нужен продукт                                            1\n",
       "Отказ от кредита                                            1\n",
       "Не устраивает срок                                          1\n",
       "Кредит / КК в другом банке                                  1\n",
       "Черный список                                               1\n",
       "Передумал                                                   1\n",
       "Жилье не подходит по другим условиям                        1\n",
       "Не оставлял заявку                                          1\n",
       "Name: count, dtype: int64"
      ]
     },
     "execution_count": 50,
     "metadata": {},
     "output_type": "execute_result"
    }
   ],
   "execution_count": 50
  },
  {
   "metadata": {
    "ExecuteTime": {
     "end_time": "2024-12-06T18:24:24.043063Z",
     "start_time": "2024-12-06T18:24:23.744305Z"
    }
   },
   "cell_type": "code",
   "source": [
    "import pandasql as ps\n",
    "\n",
    "q1 = \"\"\"\n",
    "SELECT * FROM cl\n",
    "WHERE \"Unnamed: 0\" NOT IN (\n",
    "    SELECT \"Unnamed: 0\" FROM cl\n",
    "    WHERE \"wo_hit_status_reason_desc\" IN (\n",
    "        \"Третье лицо\", \"Другое\", \"Другое (нестандартная ситуация)\", \n",
    "        \"Другой банк\", \"Некорректный трансфер\", \"Уже оставил заявку\",\n",
    "        \"Действующий клиент\", \"Просто интересовался условиями\", \"Не соответствует по возрасту\",\n",
    "        \"Взял кредит в другом банке\", \"Уже активировал кредит\", \n",
    "        \"В списке нет подходящей причины (укажи в комментариях)\",\n",
    "        \"Кредит / КК в другом банке\", \"Черный список\", \"Не оставлял заявку\"\n",
    "    ) \n",
    ")\n",
    "\"\"\"\n",
    "\n",
    "cl = ps.sqldf(q1, locals())"
   ],
   "id": "8871b80f0d836927",
   "outputs": [],
   "execution_count": 69
  },
  {
   "metadata": {
    "ExecuteTime": {
     "end_time": "2024-12-06T17:34:45.392337Z",
     "start_time": "2024-12-06T17:34:45.119147Z"
    }
   },
   "cell_type": "code",
   "source": [
    "percent_by_gender = cl[['flag', 'gender_cd']].copy()\n",
    "# percent_by_gender = percent_by_gender[np.isfinite(percent_by_gender['gender_cd'])]\n",
    "percent_by_gender = percent_by_gender.groupby('gender_cd').mean()\n",
    "\n",
    "ax = percent_by_gender.plot(kind='bar', color='skyblue', edgecolor='black')\n",
    "plt.title(\"Процент успешности по полу для Credit Cards\")\n",
    "plt.xlabel(\"Возрастная пол\")\n",
    "plt.ylabel(\"Процент\")\n",
    "plt.show()"
   ],
   "id": "9b589de0e215b7cb",
   "outputs": [
    {
     "data": {
      "text/plain": [
       "<Figure size 640x480 with 1 Axes>"
      ],
      "image/png": "[encoded data removed]"
     },
     "metadata": {},
     "output_type": "display_data"
    }
   ],
   "execution_count": 14
  },
  {
   "metadata": {
    "ExecuteTime": {
     "end_time": "2024-12-05T14:01:24.753526Z",
     "start_time": "2024-12-05T14:01:24.539076Z"
    }
   },
   "cell_type": "code",
   "source": [
    "percent_by_child_cnt = cl[cl['child_amt'] < 3][['child_amt', 'flag']].copy()\n",
    "percent_by_child_cnt = percent_by_child_cnt[np.isfinite(percent_by_child_cnt['child_amt'])]\n",
    "percent_by_child_cnt = percent_by_child_cnt.groupby('child_amt').mean()\n",
    "\n",
    "ax = percent_by_child_cnt.plot(kind='bar', color='skyblue', edgecolor='black')\n",
    "labels = [0, 1, 2]\n",
    "ax.set_xticklabels(labels, rotation=0)\n",
    "plt.title(\"Процент успешности для по кол-ву детей для Credit Cards\")\n",
    "plt.xlabel(\"кол-во дкетей\")\n",
    "plt.ylabel(\"Процент\")\n",
    "plt.show()"
   ],
   "id": "e1b0eaa68712087c",
   "outputs": [
    {
     "data": {
      "text/plain": [
       "<Figure size 640x480 with 1 Axes>"
      ],
      "image/png": "[encoded data removed]"
     },
     "metadata": {},
     "output_type": "display_data"
    }
   ],
   "execution_count": 20
  },
  {
   "metadata": {
    "ExecuteTime": {
     "end_time": "2024-12-05T14:02:17.483114Z",
     "start_time": "2024-12-05T14:02:17.193516Z"
    }
   },
   "cell_type": "code",
   "source": [
    "import math\n",
    "\n",
    "def Anton(x, musthave, c):\n",
    "    # Определяем k (для минимального числа) и n (для максимального числа)\n",
    "    k = math.ceil((musthave - 14) / c)\n",
    "    n = math.ceil((68 - musthave) / c)\n",
    "    \n",
    "    # Номер группы\n",
    "    if x < musthave:  # Группы ниже musthave\n",
    "        group = k - math.ceil((musthave - x) / c) + 1\n",
    "    elif x >= musthave:  # Группы выше или равны musthave\n",
    "        group = k + math.floor((x - musthave) / c) + 1\n",
    "    \n",
    "    return group\n",
    "\n",
    "\n",
    "def Dima(musthave, c):\n",
    "    import math\n",
    "    \n",
    "    # Определяем k и n\n",
    "    k = math.ceil((musthave - 14) / c)\n",
    "    n = math.ceil((71 - musthave) / c)\n",
    "    \n",
    "    # Массив групп\n",
    "    groups = []\n",
    "    for i in range(-(k - 2), n):  # От второй группы до предпоследней\n",
    "        group_start = musthave + (i - 1) * c\n",
    "        group_end = musthave + i * c - 1\n",
    "        groups.append(f\"{group_start}-{group_end}\")\n",
    "    \n",
    "    # Числа начала второй группы и конца предпоследней\n",
    "    second_group_start = musthave - (k - 1) * c\n",
    "    penultimate_group_end = musthave + (n - 1) * c - 1\n",
    "    \n",
    "    return groups, second_group_start, penultimate_group_end\n",
    "\n",
    "# Пример вызова функции\n",
    "musthave = 45\n",
    "c = 10\n",
    "groups, second_start, penultimate_end = Dima(musthave, c)\n",
    "\n",
    "percent_by_age = cl[cl['age'] <= 71][['age', 'flag']].copy()\n",
    "percent_by_age = percent_by_age[np.isfinite(percent_by_age['age'])]\n",
    "percent_by_age['age_group'] = percent_by_age['age'].apply(lambda x: Anton(x, musthave, c))\n",
    "percent_by_age = percent_by_age[['age_group', 'flag']].groupby('age_group').mean()\n",
    "\n",
    "ax = percent_by_age.plot(kind='bar', color='skyblue', edgecolor='black')\n",
    "labels = groups\n",
    "if second_start != 14:\n",
    "    labels = [f'14-{second_start-1}'] + labels\n",
    "if penultimate_end != 71:\n",
    "    labels = labels + [f'{penultimate_end}+']\n",
    "ax.set_xticklabels(labels, rotation=0)\n",
    "plt.title(\"Процент успешности для возрастной группы для Credit Cards\")\n",
    "plt.xlabel(\"Возрастная группа\")\n",
    "plt.ylabel(\"Процент\")\n",
    "plt.show()"
   ],
   "id": "a42cfcaa26baf1ce",
   "outputs": [
    {
     "ename": "ValueError",
     "evalue": "The number of FixedLocator locations (6), usually from a call to set_ticks, does not match the number of labels (7).",
     "output_type": "error",
     "traceback": [
      "\u001B[0;31m---------------------------------------------------------------------------\u001B[0m",
      "\u001B[0;31mValueError\u001B[0m                                Traceback (most recent call last)",
      "Cell \u001B[0;32mIn[22], line 53\u001B[0m\n\u001B[1;32m     51\u001B[0m \u001B[38;5;28;01mif\u001B[39;00m penultimate_end \u001B[38;5;241m!=\u001B[39m \u001B[38;5;241m71\u001B[39m:\n\u001B[1;32m     52\u001B[0m     labels \u001B[38;5;241m=\u001B[39m labels \u001B[38;5;241m+\u001B[39m [\u001B[38;5;124mf\u001B[39m\u001B[38;5;124m'\u001B[39m\u001B[38;5;132;01m{\u001B[39;00mpenultimate_end\u001B[38;5;132;01m}\u001B[39;00m\u001B[38;5;124m+\u001B[39m\u001B[38;5;124m'\u001B[39m]\n\u001B[0;32m---> 53\u001B[0m \u001B[43max\u001B[49m\u001B[38;5;241;43m.\u001B[39;49m\u001B[43mset_xticklabels\u001B[49m\u001B[43m(\u001B[49m\u001B[43mlabels\u001B[49m\u001B[43m,\u001B[49m\u001B[43m \u001B[49m\u001B[43mrotation\u001B[49m\u001B[38;5;241;43m=\u001B[39;49m\u001B[38;5;241;43m0\u001B[39;49m\u001B[43m)\u001B[49m\n\u001B[1;32m     54\u001B[0m plt\u001B[38;5;241m.\u001B[39mtitle(\u001B[38;5;124m\"\u001B[39m\u001B[38;5;124mПроцент успешности для возрастной группы для Credit Cards\u001B[39m\u001B[38;5;124m\"\u001B[39m)\n\u001B[1;32m     55\u001B[0m plt\u001B[38;5;241m.\u001B[39mxlabel(\u001B[38;5;124m\"\u001B[39m\u001B[38;5;124mВозрастная группа\u001B[39m\u001B[38;5;124m\"\u001B[39m)\n",
      "File \u001B[0;32m~/Documents/src/dano24/zvonki/venv/lib/python3.9/site-packages/matplotlib/axes/_base.py:74\u001B[0m, in \u001B[0;36m_axis_method_wrapper.__set_name__.<locals>.wrapper\u001B[0;34m(self, *args, **kwargs)\u001B[0m\n\u001B[1;32m     73\u001B[0m \u001B[38;5;28;01mdef\u001B[39;00m \u001B[38;5;21mwrapper\u001B[39m(\u001B[38;5;28mself\u001B[39m, \u001B[38;5;241m*\u001B[39margs, \u001B[38;5;241m*\u001B[39m\u001B[38;5;241m*\u001B[39mkwargs):\n\u001B[0;32m---> 74\u001B[0m     \u001B[38;5;28;01mreturn\u001B[39;00m \u001B[43mget_method\u001B[49m\u001B[43m(\u001B[49m\u001B[38;5;28;43mself\u001B[39;49m\u001B[43m)\u001B[49m\u001B[43m(\u001B[49m\u001B[38;5;241;43m*\u001B[39;49m\u001B[43margs\u001B[49m\u001B[43m,\u001B[49m\u001B[43m \u001B[49m\u001B[38;5;241;43m*\u001B[39;49m\u001B[38;5;241;43m*\u001B[39;49m\u001B[43mkwargs\u001B[49m\u001B[43m)\u001B[49m\n",
      "File \u001B[0;32m~/Documents/src/dano24/zvonki/venv/lib/python3.9/site-packages/matplotlib/axis.py:2071\u001B[0m, in \u001B[0;36mAxis.set_ticklabels\u001B[0;34m(self, labels, minor, fontdict, **kwargs)\u001B[0m\n\u001B[1;32m   2067\u001B[0m \u001B[38;5;28;01melif\u001B[39;00m \u001B[38;5;28misinstance\u001B[39m(locator, mticker\u001B[38;5;241m.\u001B[39mFixedLocator):\n\u001B[1;32m   2068\u001B[0m     \u001B[38;5;66;03m# Passing [] as a list of labels is often used as a way to\u001B[39;00m\n\u001B[1;32m   2069\u001B[0m     \u001B[38;5;66;03m# remove all tick labels, so only error for > 0 labels\u001B[39;00m\n\u001B[1;32m   2070\u001B[0m     \u001B[38;5;28;01mif\u001B[39;00m \u001B[38;5;28mlen\u001B[39m(locator\u001B[38;5;241m.\u001B[39mlocs) \u001B[38;5;241m!=\u001B[39m \u001B[38;5;28mlen\u001B[39m(labels) \u001B[38;5;129;01mand\u001B[39;00m \u001B[38;5;28mlen\u001B[39m(labels) \u001B[38;5;241m!=\u001B[39m \u001B[38;5;241m0\u001B[39m:\n\u001B[0;32m-> 2071\u001B[0m         \u001B[38;5;28;01mraise\u001B[39;00m \u001B[38;5;167;01mValueError\u001B[39;00m(\n\u001B[1;32m   2072\u001B[0m             \u001B[38;5;124m\"\u001B[39m\u001B[38;5;124mThe number of FixedLocator locations\u001B[39m\u001B[38;5;124m\"\u001B[39m\n\u001B[1;32m   2073\u001B[0m             \u001B[38;5;124mf\u001B[39m\u001B[38;5;124m\"\u001B[39m\u001B[38;5;124m (\u001B[39m\u001B[38;5;132;01m{\u001B[39;00m\u001B[38;5;28mlen\u001B[39m(locator\u001B[38;5;241m.\u001B[39mlocs)\u001B[38;5;132;01m}\u001B[39;00m\u001B[38;5;124m), usually from a call to\u001B[39m\u001B[38;5;124m\"\u001B[39m\n\u001B[1;32m   2074\u001B[0m             \u001B[38;5;124m\"\u001B[39m\u001B[38;5;124m set_ticks, does not match\u001B[39m\u001B[38;5;124m\"\u001B[39m\n\u001B[1;32m   2075\u001B[0m             \u001B[38;5;124mf\u001B[39m\u001B[38;5;124m\"\u001B[39m\u001B[38;5;124m the number of labels (\u001B[39m\u001B[38;5;132;01m{\u001B[39;00m\u001B[38;5;28mlen\u001B[39m(labels)\u001B[38;5;132;01m}\u001B[39;00m\u001B[38;5;124m).\u001B[39m\u001B[38;5;124m\"\u001B[39m)\n\u001B[1;32m   2076\u001B[0m     tickd \u001B[38;5;241m=\u001B[39m {loc: lab \u001B[38;5;28;01mfor\u001B[39;00m loc, lab \u001B[38;5;129;01min\u001B[39;00m \u001B[38;5;28mzip\u001B[39m(locator\u001B[38;5;241m.\u001B[39mlocs, labels)}\n\u001B[1;32m   2077\u001B[0m     func \u001B[38;5;241m=\u001B[39m functools\u001B[38;5;241m.\u001B[39mpartial(\u001B[38;5;28mself\u001B[39m\u001B[38;5;241m.\u001B[39m_format_with_dict, tickd)\n",
      "\u001B[0;31mValueError\u001B[0m: The number of FixedLocator locations (6), usually from a call to set_ticks, does not match the number of labels (7)."
     ]
    },
    {
     "data": {
      "text/plain": [
       "<Figure size 640x480 with 1 Axes>"
      ],
      "image/png": "[encoded data removed]"
     },
     "metadata": {},
     "output_type": "display_data"
    }
   ],
   "execution_count": 22
  },
  {
   "metadata": {
    "ExecuteTime": {
     "end_time": "2024-12-05T14:03:07.317227Z",
     "start_time": "2024-12-05T14:03:07.081312Z"
    }
   },
   "cell_type": "code",
   "source": [
    "cl['income'] = cl['confirmed_income'].fillna(cl['predicted_income'])\n",
    "percent_by_income = cl[cl['income'] < 28000][['flag', 'income']].copy()\n",
    "percent_by_income = percent_by_income[np.isfinite(percent_by_income['income'])]\n",
    "percent_by_income['income'] = (percent_by_income[percent_by_income['income'] > 8000]['income'] // 8000 * 8000).astype(int)\n",
    "percent_by_income = percent_by_income.groupby('income').mean()\n",
    "\n",
    "ax = percent_by_income.plot(kind='bar', color='skyblue', edgecolor='black')\n",
    "labels = [(str(i) + 'к - ' + str(i+8) + 'к') for i in range(8, 28, 7)]\n",
    "ax.set_xticklabels(labels, rotation=0)\n",
    "plt.title(\"Процент успешности для зарплат для Credit Cards\")\n",
    "plt.xlabel(\"зарплата\")\n",
    "plt.ylabel(\"Процент\")\n",
    "plt.show()"
   ],
   "id": "1d827823a073f881",
   "outputs": [
    {
     "data": {
      "text/plain": [
       "<Figure size 640x480 with 1 Axes>"
      ],
      "image/png": "[encoded data removed]"
     },
     "metadata": {},
     "output_type": "display_data"
    }
   ],
   "execution_count": 24
  },
  {
   "metadata": {
    "ExecuteTime": {
     "end_time": "2024-12-05T14:03:33.823491Z",
     "start_time": "2024-12-05T14:03:33.569117Z"
    }
   },
   "cell_type": "code",
   "source": [
    "# Гистограмма доходов\n",
    "cl['income'] = cl['confirmed_income'].fillna(cl['predicted_income'])\n",
    "\n",
    "sns.histplot(cl['income'], bins=10, kde=True)\n",
    "plt.title('Распределение доходов клиентов для Credit Cards')\n",
    "plt.xlabel('Доход')\n",
    "plt.ylabel('Количество клиентов')\n",
    "plt.show()\n",
    "\n",
    "# Средняя и медианная зарплата\n",
    "mean_income = cl['income'].mean()\n",
    "median_income = cl['income'].median()\n",
    "\n",
    "print(f\"Средний доход: {mean_income:.2f}\")\n",
    "print(f\"Медианный доход: {median_income:.2f}\")\n"
   ],
   "id": "c69401e11f61a536",
   "outputs": [
    {
     "data": {
      "text/plain": [
       "<Figure size 640x480 with 1 Axes>"
      ],
      "image/png": "[encoded data removed]"
     },
     "metadata": {},
     "output_type": "display_data"
    },
    {
     "name": "stdout",
     "output_type": "stream",
     "text": [
      "Средний доход: 16241.04\n",
      "Медианный доход: 15033.50\n"
     ]
    }
   ],
   "execution_count": 26
  },
  {
   "metadata": {
    "ExecuteTime": {
     "end_time": "2024-12-05T14:04:02.024150Z",
     "start_time": "2024-12-05T14:04:01.840333Z"
    }
   },
   "cell_type": "code",
   "source": [
    "# Фильтрация данных и расчет среднего процента успешности по `auto_flg`\n",
    "percent_by_auto = cl[['auto_flg', 'flag']].copy()\n",
    "percent_by_auto = percent_by_auto.dropna(subset=['auto_flg'])  # Убираем NaN из auto_flg\n",
    "percent_by_auto['auto_flg'] = percent_by_auto['auto_flg'].astype(int)  # Приведение к целому\n",
    "\n",
    "# Группировка и расчет средней успешности\n",
    "percent_by_auto = percent_by_auto.groupby('auto_flg').mean()\n",
    "\n",
    "# Построение графика\n",
    "ax = percent_by_auto.plot(kind='bar', color='skyblue', edgecolor='black', legend=False)\n",
    "ax.set_xticklabels(['Нет авто', 'Есть авто'], rotation=0)\n",
    "plt.title(\"Процент успешности в зависимости от наличия авто\")\n",
    "plt.xlabel(\"Наличие авто (auto_flg)\")\n",
    "plt.ylabel(\"Процент успешности\")\n",
    "plt.show()\n"
   ],
   "id": "a04f705a154adad",
   "outputs": [
    {
     "data": {
      "text/plain": [
       "<Figure size 640x480 with 1 Axes>"
      ],
      "image/png": "[encoded data removed]"
     },
     "metadata": {},
     "output_type": "display_data"
    }
   ],
   "execution_count": 28
  },
  {
   "metadata": {
    "ExecuteTime": {
     "end_time": "2024-12-06T17:44:06.204333Z",
     "start_time": "2024-12-06T17:44:05.987956Z"
    }
   },
   "cell_type": "code",
   "source": [
    "# Фильтрация данных и расчет среднего процента успешности по `region_size`\n",
    "percent_by_region = cl[['region_size', 'flag']].copy()\n",
    "percent_by_region = percent_by_region.dropna(subset=['region_size'])  # Убираем NaN из region_size\n",
    "\n",
    "# Группировка и расчет средней успешности\n",
    "percent_by_region = percent_by_region.groupby('region_size').mean()\n",
    "\n",
    "# Построение графика\n",
    "ax = percent_by_region.plot(kind='bar', color='skyblue', edgecolor='black', legend=False)\n",
    "ax.set_xticklabels(percent_by_region.index, rotation=0)\n",
    "plt.title(\"Процент успешности по размеру региона\")\n",
    "plt.xlabel(\"Размер региона (region_size)\")\n",
    "plt.ylabel(\"Процент успешности\")\n",
    "plt.show()\n"
   ],
   "id": "2124bb5918fdcbdd",
   "outputs": [
    {
     "data": {
      "text/plain": [
       "<Figure size 640x480 with 1 Axes>"
      ],
      "image/png": "[encoded data removed]"
     },
     "metadata": {},
     "output_type": "display_data"
    }
   ],
   "execution_count": 22
  },
  {
   "metadata": {
    "ExecuteTime": {
     "end_time": "2024-12-06T17:44:41.059315Z",
     "start_time": "2024-12-06T17:44:40.846370Z"
    }
   },
   "cell_type": "code",
   "source": [
    "# Фильтрация данных и расчет среднего процента успешности по `region_size`\n",
    "percent_by_region = cl[['region_size', 'flag']].copy()\n",
    "percent_by_region = percent_by_region.dropna(subset=['region_size'])  # Убираем NaN из region_size\n",
    "\n",
    "# Группировка и расчет средней успешности\n",
    "percent_by_region = percent_by_region.groupby('region_size').mean()\n",
    "\n",
    "# Построение графика\n",
    "ax = percent_by_region.plot(kind='bar', color='skyblue', edgecolor='black', legend=False)\n",
    "ax.set_xticklabels(percent_by_region.index, rotation=0)\n",
    "plt.title(\"Процент успешности по размеру региона\")\n",
    "plt.xlabel(\"Размер региона (region_size)\")\n",
    "plt.ylabel(\"Процент успешности\")\n",
    "plt.show()\n"
   ],
   "id": "949654f72622b810",
   "outputs": [
    {
     "data": {
      "text/plain": [
       "<Figure size 640x480 with 1 Axes>"
      ],
      "image/png": "[encoded data removed]"
     },
     "metadata": {},
     "output_type": "display_data"
    }
   ],
   "execution_count": 24
  },
  {
   "metadata": {
    "ExecuteTime": {
     "end_time": "2024-12-06T17:37:05.511639Z",
     "start_time": "2024-12-06T17:37:05.482166Z"
    }
   },
   "cell_type": "code",
   "source": "cl[cl['region_size'] == 'rural']",
   "id": "3f860a8dd151a9ee",
   "outputs": [
    {
     "data": {
      "text/plain": [
       "      Unnamed: 0  customer_id   age gender_cd region_size  foreign_flg  \\\n",
       "2            273    304142124  23.0         M       rural          0.0   \n",
       "15          2500    448716687  42.0         F       rural          0.0   \n",
       "16          2544     67918764  43.0         M       rural          0.0   \n",
       "30          4739    136089519  26.0         F       rural          0.0   \n",
       "32          5380    309284298  34.0         M       rural          0.0   \n",
       "...          ...          ...   ...       ...         ...          ...   \n",
       "1591       17589    305526158  36.0         F       rural          0.0   \n",
       "1630       18398    536787560  64.0         F       rural          0.0   \n",
       "1633       18431    478533773  36.0         F       rural          0.0   \n",
       "1641       18506    259287709  36.0         M       rural          0.0   \n",
       "1657       10076    513612902   NaN      None       rural          0.0   \n",
       "\n",
       "      entrepreneur_flg  auto_flg  traveler_flg  partnership_flg  ...  \\\n",
       "2                  0.0       1.0           1.0              1.0  ...   \n",
       "15                 0.0       0.0           0.0              1.0  ...   \n",
       "16                 0.0       1.0           0.0              1.0  ...   \n",
       "30                 1.0       0.0           0.0              1.0  ...   \n",
       "32                 0.0       1.0           1.0              1.0  ...   \n",
       "...                ...       ...           ...              ...  ...   \n",
       "1591               1.0       0.0           0.0              1.0  ...   \n",
       "1630               0.0       1.0           0.0              1.0  ...   \n",
       "1633               0.0       1.0           0.0              1.0  ...   \n",
       "1641               0.0       0.0           0.0              1.0  ...   \n",
       "1657               0.0       0.0           0.0              0.0  ...   \n",
       "\n",
       "      emp_marital_status_cd flag day_of_week num_of_week  child_flg    income  \\\n",
       "2                      None    0      Monday           0          0  15283.50   \n",
       "15                     None    1    Thursday           3          0  15808.33   \n",
       "16        Холост/не замужем    0   Wednesday           2          0   8360.78   \n",
       "30                     None    0   Wednesday           2          0  15823.50   \n",
       "32                     None    0      Monday           0          0  21665.78   \n",
       "...                     ...  ...         ...         ...        ...       ...   \n",
       "1591          Женат/замужем    0    Thursday           3          1       NaN   \n",
       "1630                   None    0     Tuesday           1          0       NaN   \n",
       "1633                   None    0    Thursday           3          1       NaN   \n",
       "1641      Холост/не замужем    0     Tuesday           1          1       NaN   \n",
       "1657                   None    1      Monday           0          0       NaN   \n",
       "\n",
       "     segment_number num_segment month  season  \n",
       "2               7.0         2.0     1    Зима  \n",
       "15              6.0         1.0     1    Зима  \n",
       "16             20.0         3.0     8    Лето  \n",
       "30              7.0         2.0     2    Зима  \n",
       "32              7.0         2.0     1    Зима  \n",
       "...             ...         ...   ...     ...  \n",
       "1591           20.0         3.0     3   Весна  \n",
       "1630           24.0         5.0     1    Зима  \n",
       "1633           20.0         3.0     1    Зима  \n",
       "1641           20.0         3.0    11   Осень  \n",
       "1657           33.0         6.0     7    Лето  \n",
       "\n",
       "[132 rows x 39 columns]"
      ],
      "text/html": [
       "<div>\n",
       "<style scoped>\n",
       "    .dataframe tbody tr th:only-of-type {\n",
       "        vertical-align: middle;\n",
       "    }\n",
       "\n",
       "    .dataframe tbody tr th {\n",
       "        vertical-align: top;\n",
       "    }\n",
       "\n",
       "    .dataframe thead th {\n",
       "        text-align: right;\n",
       "    }\n",
       "</style>\n",
       "<table border=\"1\" class=\"dataframe\">\n",
       "  <thead>\n",
       "    <tr style=\"text-align: right;\">\n",
       "      <th></th>\n",
       "      <th>Unnamed: 0</th>\n",
       "      <th>customer_id</th>\n",
       "      <th>age</th>\n",
       "      <th>gender_cd</th>\n",
       "      <th>region_size</th>\n",
       "      <th>foreign_flg</th>\n",
       "      <th>entrepreneur_flg</th>\n",
       "      <th>auto_flg</th>\n",
       "      <th>traveler_flg</th>\n",
       "      <th>partnership_flg</th>\n",
       "      <th>...</th>\n",
       "      <th>emp_marital_status_cd</th>\n",
       "      <th>flag</th>\n",
       "      <th>day_of_week</th>\n",
       "      <th>num_of_week</th>\n",
       "      <th>child_flg</th>\n",
       "      <th>income</th>\n",
       "      <th>segment_number</th>\n",
       "      <th>num_segment</th>\n",
       "      <th>month</th>\n",
       "      <th>season</th>\n",
       "    </tr>\n",
       "  </thead>\n",
       "  <tbody>\n",
       "    <tr>\n",
       "      <th>2</th>\n",
       "      <td>273</td>\n",
       "      <td>304142124</td>\n",
       "      <td>23.0</td>\n",
       "      <td>M</td>\n",
       "      <td>rural</td>\n",
       "      <td>0.0</td>\n",
       "      <td>0.0</td>\n",
       "      <td>1.0</td>\n",
       "      <td>1.0</td>\n",
       "      <td>1.0</td>\n",
       "      <td>...</td>\n",
       "      <td>None</td>\n",
       "      <td>0</td>\n",
       "      <td>Monday</td>\n",
       "      <td>0</td>\n",
       "      <td>0</td>\n",
       "      <td>15283.50</td>\n",
       "      <td>7.0</td>\n",
       "      <td>2.0</td>\n",
       "      <td>1</td>\n",
       "      <td>Зима</td>\n",
       "    </tr>\n",
       "    <tr>\n",
       "      <th>15</th>\n",
       "      <td>2500</td>\n",
       "      <td>448716687</td>\n",
       "      <td>42.0</td>\n",
       "      <td>F</td>\n",
       "      <td>rural</td>\n",
       "      <td>0.0</td>\n",
       "      <td>0.0</td>\n",
       "      <td>0.0</td>\n",
       "      <td>0.0</td>\n",
       "      <td>1.0</td>\n",
       "      <td>...</td>\n",
       "      <td>None</td>\n",
       "      <td>1</td>\n",
       "      <td>Thursday</td>\n",
       "      <td>3</td>\n",
       "      <td>0</td>\n",
       "      <td>15808.33</td>\n",
       "      <td>6.0</td>\n",
       "      <td>1.0</td>\n",
       "      <td>1</td>\n",
       "      <td>Зима</td>\n",
       "    </tr>\n",
       "    <tr>\n",
       "      <th>16</th>\n",
       "      <td>2544</td>\n",
       "      <td>67918764</td>\n",
       "      <td>43.0</td>\n",
       "      <td>M</td>\n",
       "      <td>rural</td>\n",
       "      <td>0.0</td>\n",
       "      <td>0.0</td>\n",
       "      <td>1.0</td>\n",
       "      <td>0.0</td>\n",
       "      <td>1.0</td>\n",
       "      <td>...</td>\n",
       "      <td>Холост/не замужем</td>\n",
       "      <td>0</td>\n",
       "      <td>Wednesday</td>\n",
       "      <td>2</td>\n",
       "      <td>0</td>\n",
       "      <td>8360.78</td>\n",
       "      <td>20.0</td>\n",
       "      <td>3.0</td>\n",
       "      <td>8</td>\n",
       "      <td>Лето</td>\n",
       "    </tr>\n",
       "    <tr>\n",
       "      <th>30</th>\n",
       "      <td>4739</td>\n",
       "      <td>136089519</td>\n",
       "      <td>26.0</td>\n",
       "      <td>F</td>\n",
       "      <td>rural</td>\n",
       "      <td>0.0</td>\n",
       "      <td>1.0</td>\n",
       "      <td>0.0</td>\n",
       "      <td>0.0</td>\n",
       "      <td>1.0</td>\n",
       "      <td>...</td>\n",
       "      <td>None</td>\n",
       "      <td>0</td>\n",
       "      <td>Wednesday</td>\n",
       "      <td>2</td>\n",
       "      <td>0</td>\n",
       "      <td>15823.50</td>\n",
       "      <td>7.0</td>\n",
       "      <td>2.0</td>\n",
       "      <td>2</td>\n",
       "      <td>Зима</td>\n",
       "    </tr>\n",
       "    <tr>\n",
       "      <th>32</th>\n",
       "      <td>5380</td>\n",
       "      <td>309284298</td>\n",
       "      <td>34.0</td>\n",
       "      <td>M</td>\n",
       "      <td>rural</td>\n",
       "      <td>0.0</td>\n",
       "      <td>0.0</td>\n",
       "      <td>1.0</td>\n",
       "      <td>1.0</td>\n",
       "      <td>1.0</td>\n",
       "      <td>...</td>\n",
       "      <td>None</td>\n",
       "      <td>0</td>\n",
       "      <td>Monday</td>\n",
       "      <td>0</td>\n",
       "      <td>0</td>\n",
       "      <td>21665.78</td>\n",
       "      <td>7.0</td>\n",
       "      <td>2.0</td>\n",
       "      <td>1</td>\n",
       "      <td>Зима</td>\n",
       "    </tr>\n",
       "    <tr>\n",
       "      <th>...</th>\n",
       "      <td>...</td>\n",
       "      <td>...</td>\n",
       "      <td>...</td>\n",
       "      <td>...</td>\n",
       "      <td>...</td>\n",
       "      <td>...</td>\n",
       "      <td>...</td>\n",
       "      <td>...</td>\n",
       "      <td>...</td>\n",
       "      <td>...</td>\n",
       "      <td>...</td>\n",
       "      <td>...</td>\n",
       "      <td>...</td>\n",
       "      <td>...</td>\n",
       "      <td>...</td>\n",
       "      <td>...</td>\n",
       "      <td>...</td>\n",
       "      <td>...</td>\n",
       "      <td>...</td>\n",
       "      <td>...</td>\n",
       "      <td>...</td>\n",
       "    </tr>\n",
       "    <tr>\n",
       "      <th>1591</th>\n",
       "      <td>17589</td>\n",
       "      <td>305526158</td>\n",
       "      <td>36.0</td>\n",
       "      <td>F</td>\n",
       "      <td>rural</td>\n",
       "      <td>0.0</td>\n",
       "      <td>1.0</td>\n",
       "      <td>0.0</td>\n",
       "      <td>0.0</td>\n",
       "      <td>1.0</td>\n",
       "      <td>...</td>\n",
       "      <td>Женат/замужем</td>\n",
       "      <td>0</td>\n",
       "      <td>Thursday</td>\n",
       "      <td>3</td>\n",
       "      <td>1</td>\n",
       "      <td>NaN</td>\n",
       "      <td>20.0</td>\n",
       "      <td>3.0</td>\n",
       "      <td>3</td>\n",
       "      <td>Весна</td>\n",
       "    </tr>\n",
       "    <tr>\n",
       "      <th>1630</th>\n",
       "      <td>18398</td>\n",
       "      <td>536787560</td>\n",
       "      <td>64.0</td>\n",
       "      <td>F</td>\n",
       "      <td>rural</td>\n",
       "      <td>0.0</td>\n",
       "      <td>0.0</td>\n",
       "      <td>1.0</td>\n",
       "      <td>0.0</td>\n",
       "      <td>1.0</td>\n",
       "      <td>...</td>\n",
       "      <td>None</td>\n",
       "      <td>0</td>\n",
       "      <td>Tuesday</td>\n",
       "      <td>1</td>\n",
       "      <td>0</td>\n",
       "      <td>NaN</td>\n",
       "      <td>24.0</td>\n",
       "      <td>5.0</td>\n",
       "      <td>1</td>\n",
       "      <td>Зима</td>\n",
       "    </tr>\n",
       "    <tr>\n",
       "      <th>1633</th>\n",
       "      <td>18431</td>\n",
       "      <td>478533773</td>\n",
       "      <td>36.0</td>\n",
       "      <td>F</td>\n",
       "      <td>rural</td>\n",
       "      <td>0.0</td>\n",
       "      <td>0.0</td>\n",
       "      <td>1.0</td>\n",
       "      <td>0.0</td>\n",
       "      <td>1.0</td>\n",
       "      <td>...</td>\n",
       "      <td>None</td>\n",
       "      <td>0</td>\n",
       "      <td>Thursday</td>\n",
       "      <td>3</td>\n",
       "      <td>1</td>\n",
       "      <td>NaN</td>\n",
       "      <td>20.0</td>\n",
       "      <td>3.0</td>\n",
       "      <td>1</td>\n",
       "      <td>Зима</td>\n",
       "    </tr>\n",
       "    <tr>\n",
       "      <th>1641</th>\n",
       "      <td>18506</td>\n",
       "      <td>259287709</td>\n",
       "      <td>36.0</td>\n",
       "      <td>M</td>\n",
       "      <td>rural</td>\n",
       "      <td>0.0</td>\n",
       "      <td>0.0</td>\n",
       "      <td>0.0</td>\n",
       "      <td>0.0</td>\n",
       "      <td>1.0</td>\n",
       "      <td>...</td>\n",
       "      <td>Холост/не замужем</td>\n",
       "      <td>0</td>\n",
       "      <td>Tuesday</td>\n",
       "      <td>1</td>\n",
       "      <td>1</td>\n",
       "      <td>NaN</td>\n",
       "      <td>20.0</td>\n",
       "      <td>3.0</td>\n",
       "      <td>11</td>\n",
       "      <td>Осень</td>\n",
       "    </tr>\n",
       "    <tr>\n",
       "      <th>1657</th>\n",
       "      <td>10076</td>\n",
       "      <td>513612902</td>\n",
       "      <td>NaN</td>\n",
       "      <td>None</td>\n",
       "      <td>rural</td>\n",
       "      <td>0.0</td>\n",
       "      <td>0.0</td>\n",
       "      <td>0.0</td>\n",
       "      <td>0.0</td>\n",
       "      <td>0.0</td>\n",
       "      <td>...</td>\n",
       "      <td>None</td>\n",
       "      <td>1</td>\n",
       "      <td>Monday</td>\n",
       "      <td>0</td>\n",
       "      <td>0</td>\n",
       "      <td>NaN</td>\n",
       "      <td>33.0</td>\n",
       "      <td>6.0</td>\n",
       "      <td>7</td>\n",
       "      <td>Лето</td>\n",
       "    </tr>\n",
       "  </tbody>\n",
       "</table>\n",
       "<p>132 rows × 39 columns</p>\n",
       "</div>"
      ]
     },
     "execution_count": 20,
     "metadata": {},
     "output_type": "execute_result"
    }
   ],
   "execution_count": 20
  },
  {
   "metadata": {
    "ExecuteTime": {
     "end_time": "2024-12-05T14:06:27.608256Z",
     "start_time": "2024-12-05T14:06:27.364470Z"
    }
   },
   "cell_type": "code",
   "source": [
    "percent_by_child_cnt = cl[['num_segment', 'flag']].copy()\n",
    "percent_by_child_cnt = percent_by_child_cnt[np.isfinite(percent_by_child_cnt['num_segment'])]\n",
    "percent_by_child_cnt = percent_by_child_cnt.groupby('num_segment').mean()\n",
    "\n",
    "ax = percent_by_child_cnt.plot(kind='bar', color='skyblue', edgecolor='black')\n",
    "labels = [i for i in range(1, 13)]\n",
    "ax.set_xticklabels(labels, rotation=0)\n",
    "plt.title(\"Процент успешности для по ctuvtyne для Credit Cards\")\n",
    "plt.xlabel(\"сегмаент\")\n",
    "plt.ylabel(\"Процент\")\n",
    "plt.show()"
   ],
   "id": "96dcbc1817fb43e6",
   "outputs": [
    {
     "data": {
      "text/plain": [
       "<Figure size 640x480 with 1 Axes>"
      ],
      "image/png": "[encoded data removed]"
     },
     "metadata": {},
     "output_type": "display_data"
    }
   ],
   "execution_count": 36
  },
  {
   "metadata": {
    "ExecuteTime": {
     "end_time": "2024-12-05T14:18:35.584477Z",
     "start_time": "2024-12-05T14:18:35.578963Z"
    }
   },
   "cell_type": "code",
   "source": "print(f\"процент успешности для сегментов <5 и >10: {round(cl[(cl['num_segment'] < 5) | (cl['num_segment'] > 10)]['flag'].mean()*100, 2)}%\")",
   "id": "97664b637595d33a",
   "outputs": [
    {
     "name": "stdout",
     "output_type": "stream",
     "text": [
      "процент успешности для сегментов <5 и >10: 12.87%\n"
     ]
    }
   ],
   "execution_count": 60
  },
  {
   "metadata": {
    "ExecuteTime": {
     "end_time": "2024-12-05T14:22:09.887500Z",
     "start_time": "2024-12-05T14:22:09.881926Z"
    }
   },
   "cell_type": "code",
   "source": "print(f\"процент успешности для сегментов >=5 и <=10: {round(cl[(cl['num_segment'] >= 5) & (cl['num_segment'] <= 10)]['flag'].mean()*100, 2)}%\")",
   "id": "37d8721043b3e974",
   "outputs": [
    {
     "name": "stdout",
     "output_type": "stream",
     "text": [
      "процент успешности для сегментов >=5 и <=10: 17.27%\n"
     ]
    }
   ],
   "execution_count": 68
  },
  {
   "metadata": {
    "ExecuteTime": {
     "end_time": "2024-12-05T14:26:24.785097Z",
     "start_time": "2024-12-05T14:26:24.778772Z"
    }
   },
   "cell_type": "code",
   "source": [
    "# Функция для определения сезона по номеру месяца\n",
    "def get_season(month):\n",
    "    if month in [1, 2, 3, 4]:\n",
    "        return '1-4'\n",
    "    elif month in [5, 6, 7, 8, 9, 10]:\n",
    "        return '5-10'\n",
    "    elif month in [11, 12]:\n",
    "        return '11-12'\n",
    "\n",
    "\n",
    "cl['group_segment'] = cl['num_segment'].apply(get_season)"
   ],
   "id": "c02af38838962312",
   "outputs": [],
   "execution_count": 71
  },
  {
   "metadata": {
    "ExecuteTime": {
     "end_time": "2024-12-05T14:44:58.048822Z",
     "start_time": "2024-12-05T14:44:57.728420Z"
    }
   },
   "cell_type": "code",
   "source": [
    "# Фильтрация данных и расчет среднего процента успешности по `region_size`\n",
    "percent_by_region = cl[cl['region_size'] == 'msk'][['group_segment', 'flag']].copy()\n",
    "percent_by_region = percent_by_region.dropna(subset=['group_segment'])  # Убираем NaN из region_size\n",
    "\n",
    "# Группировка и расчет средней успешности\n",
    "percent_by_region = percent_by_region.groupby('group_segment').mean()\n",
    "\n",
    "# Построение графика\n",
    "ax = percent_by_region.plot(kind='bar', color='skyblue', edgecolor='black', legend=False)\n",
    "ax.set_xticklabels(percent_by_region.index, rotation=0)\n",
    "plt.title(\"Кредит наличными\")\n",
    "plt.xlabel(\"сегмент чела (group_segment)\")\n",
    "plt.ylabel(\"Процент успешности\")\n",
    "plt.show()\n"
   ],
   "id": "2eb1cb82d8dad81",
   "outputs": [
    {
     "data": {
      "text/plain": [
       "<Figure size 640x480 with 1 Axes>"
      ],
      "image/png": "[encoded data removed]"
     },
     "metadata": {},
     "output_type": "display_data"
    }
   ],
   "execution_count": 76
  },
  {
   "metadata": {
    "ExecuteTime": {
     "end_time": "2024-12-05T14:48:16.349045Z",
     "start_time": "2024-12-05T14:48:16.149397Z"
    }
   },
   "cell_type": "code",
   "source": [
    "# Фильтрация данных и расчет среднего процента успешности по `region_size`\n",
    "percent_by_region = cl[cl['region_size'] == 'town'][['group_segment', 'flag']].copy()\n",
    "percent_by_region = percent_by_region.dropna(subset=['group_segment'])  # Убираем NaN из region_size\n",
    "\n",
    "# Группировка и расчет средней успешности\n",
    "percent_by_region = percent_by_region.groupby('group_segment').mean()\n",
    "\n",
    "# Построение графика\n",
    "ax = percent_by_region.plot(kind='bar', color='skyblue', edgecolor='black', legend=False)\n",
    "ax.set_xticklabels(percent_by_region.index, rotation=0)\n",
    "plt.title(\"Кредит наличными town\")\n",
    "plt.xlabel(\"сегмент чела (group_segment)\")\n",
    "plt.ylabel(\"Процент успешности\")\n",
    "plt.show()\n"
   ],
   "id": "c72985b22a7800e4",
   "outputs": [
    {
     "data": {
      "text/plain": [
       "<Figure size 640x480 with 1 Axes>"
      ],
      "image/png": "[encoded data removed]"
     },
     "metadata": {},
     "output_type": "display_data"
    }
   ],
   "execution_count": 81
  },
  {
   "metadata": {
    "ExecuteTime": {
     "end_time": "2024-12-05T14:45:53.084024Z",
     "start_time": "2024-12-05T14:45:52.901494Z"
    }
   },
   "cell_type": "code",
   "source": [
    "# Фильтрация данных и расчет среднего процента успешности по `region_size`\n",
    "percent_by_region = cl[cl['region_size'] == 'rural'][['group_segment', 'flag']].copy()\n",
    "percent_by_region = percent_by_region.dropna(subset=['group_segment'])  # Убираем NaN из region_size\n",
    "\n",
    "# Группировка и расчет средней успешности\n",
    "percent_by_region = percent_by_region.groupby('group_segment').mean()\n",
    "\n",
    "# Построение графика\n",
    "ax = percent_by_region.plot(kind='bar', color='skyblue', edgecolor='black', legend=False)\n",
    "ax.set_xticklabels(percent_by_region.index, rotation=0)\n",
    "plt.title(\"Кредит наличными\")\n",
    "plt.xlabel(\"сегмент чела (group_segment)\")\n",
    "plt.ylabel(\"Процент успешности\")\n",
    "plt.show()\n"
   ],
   "id": "6ca33558deceb622",
   "outputs": [
    {
     "data": {
      "text/plain": [
       "<Figure size 640x480 with 1 Axes>"
      ],
      "image/png": "[encoded data removed]"
     },
     "metadata": {},
     "output_type": "display_data"
    }
   ],
   "execution_count": 79
  },
  {
   "metadata": {
    "ExecuteTime": {
     "end_time": "2024-12-06T18:29:52.901515Z",
     "start_time": "2024-12-06T18:29:52.890753Z"
    }
   },
   "cell_type": "code",
   "source": "cl[cl['segment_number'].isna()]['income']",
   "id": "e5ce00d82c76b33d",
   "outputs": [
    {
     "data": {
      "text/plain": [
       "21       8754.51\n",
       "26      19323.50\n",
       "29      19823.50\n",
       "35      20823.50\n",
       "47      12323.50\n",
       "          ...   \n",
       "1655         NaN\n",
       "1656         NaN\n",
       "1658         NaN\n",
       "1659         NaN\n",
       "1660         NaN\n",
       "Name: income, Length: 325, dtype: float64"
      ]
     },
     "execution_count": 90,
     "metadata": {},
     "output_type": "execute_result"
    }
   ],
   "execution_count": 90
  },
  {
   "metadata": {
    "ExecuteTime": {
     "end_time": "2024-12-06T17:35:22.098840Z",
     "start_time": "2024-12-06T17:35:22.084166Z"
    }
   },
   "cell_type": "code",
   "source": "cl[['num_segment', 'flag']].groupby(by='num_segment').agg(['mean', 'count'])",
   "id": "e19344f9ef8c504d",
   "outputs": [
    {
     "data": {
      "text/plain": [
       "                 flag      \n",
       "                 mean count\n",
       "num_segment                \n",
       "1.0          0.113924   158\n",
       "2.0          0.153285   137\n",
       "3.0          0.160714   112\n",
       "4.0          0.119816   217\n",
       "5.0          0.186992   123\n",
       "6.0          0.154472   123\n",
       "7.0          0.137566   189\n",
       "8.0          0.161765    68\n",
       "9.0          0.181818    88\n",
       "10.0         0.275362    69\n",
       "11.0         0.088235    34\n",
       "12.0         0.055556    18"
      ],
      "text/html": [
       "<div>\n",
       "<style scoped>\n",
       "    .dataframe tbody tr th:only-of-type {\n",
       "        vertical-align: middle;\n",
       "    }\n",
       "\n",
       "    .dataframe tbody tr th {\n",
       "        vertical-align: top;\n",
       "    }\n",
       "\n",
       "    .dataframe thead tr th {\n",
       "        text-align: left;\n",
       "    }\n",
       "\n",
       "    .dataframe thead tr:last-of-type th {\n",
       "        text-align: right;\n",
       "    }\n",
       "</style>\n",
       "<table border=\"1\" class=\"dataframe\">\n",
       "  <thead>\n",
       "    <tr>\n",
       "      <th></th>\n",
       "      <th colspan=\"2\" halign=\"left\">flag</th>\n",
       "    </tr>\n",
       "    <tr>\n",
       "      <th></th>\n",
       "      <th>mean</th>\n",
       "      <th>count</th>\n",
       "    </tr>\n",
       "    <tr>\n",
       "      <th>num_segment</th>\n",
       "      <th></th>\n",
       "      <th></th>\n",
       "    </tr>\n",
       "  </thead>\n",
       "  <tbody>\n",
       "    <tr>\n",
       "      <th>1.0</th>\n",
       "      <td>0.113924</td>\n",
       "      <td>158</td>\n",
       "    </tr>\n",
       "    <tr>\n",
       "      <th>2.0</th>\n",
       "      <td>0.153285</td>\n",
       "      <td>137</td>\n",
       "    </tr>\n",
       "    <tr>\n",
       "      <th>3.0</th>\n",
       "      <td>0.160714</td>\n",
       "      <td>112</td>\n",
       "    </tr>\n",
       "    <tr>\n",
       "      <th>4.0</th>\n",
       "      <td>0.119816</td>\n",
       "      <td>217</td>\n",
       "    </tr>\n",
       "    <tr>\n",
       "      <th>5.0</th>\n",
       "      <td>0.186992</td>\n",
       "      <td>123</td>\n",
       "    </tr>\n",
       "    <tr>\n",
       "      <th>6.0</th>\n",
       "      <td>0.154472</td>\n",
       "      <td>123</td>\n",
       "    </tr>\n",
       "    <tr>\n",
       "      <th>7.0</th>\n",
       "      <td>0.137566</td>\n",
       "      <td>189</td>\n",
       "    </tr>\n",
       "    <tr>\n",
       "      <th>8.0</th>\n",
       "      <td>0.161765</td>\n",
       "      <td>68</td>\n",
       "    </tr>\n",
       "    <tr>\n",
       "      <th>9.0</th>\n",
       "      <td>0.181818</td>\n",
       "      <td>88</td>\n",
       "    </tr>\n",
       "    <tr>\n",
       "      <th>10.0</th>\n",
       "      <td>0.275362</td>\n",
       "      <td>69</td>\n",
       "    </tr>\n",
       "    <tr>\n",
       "      <th>11.0</th>\n",
       "      <td>0.088235</td>\n",
       "      <td>34</td>\n",
       "    </tr>\n",
       "    <tr>\n",
       "      <th>12.0</th>\n",
       "      <td>0.055556</td>\n",
       "      <td>18</td>\n",
       "    </tr>\n",
       "  </tbody>\n",
       "</table>\n",
       "</div>"
      ]
     },
     "execution_count": 17,
     "metadata": {},
     "output_type": "execute_result"
    }
   ],
   "execution_count": 17
  },
  {
   "metadata": {
    "ExecuteTime": {
     "end_time": "2024-12-06T19:38:48.470384Z",
     "start_time": "2024-12-06T19:38:48.463589Z"
    }
   },
   "cell_type": "code",
   "source": [
    "def OAXAXXAXAXAXAX(x):\n",
    "    # if x in [1, 2, 3]:\n",
    "    #     return '1-3'\n",
    "    # if x in [4, 5, 6]:\n",
    "    #     return '4-6'\n",
    "    # if x in [7, 8, 9]:\n",
    "    #     return '7-9'\n",
    "    # if x in [10, 11, 12]:\n",
    "    #     return '9-12'\n",
    "    if x in [5, 6, 7, 8, 9, 10]:\n",
    "        return 1\n",
    "    return 0\n",
    "\n",
    "cl['group_segment'] = cl['num_segment'].apply(OAXAXXAXAXAXAX)\n",
    "cl['segment_by_2'] = cl['num_segment'] // 2"
   ],
   "id": "4166e2848043bc80",
   "outputs": [],
   "execution_count": 157
  },
  {
   "metadata": {
    "ExecuteTime": {
     "end_time": "2024-12-06T19:38:50.139436Z",
     "start_time": "2024-12-06T19:38:50.126911Z"
    }
   },
   "cell_type": "code",
   "source": "cl[['group_segment', 'flag']].groupby('group_segment').agg(['mean', 'count'])",
   "id": "c80e9bc29bd8572f",
   "outputs": [
    {
     "data": {
      "text/plain": [
       "                   flag      \n",
       "                   mean count\n",
       "group_segment                \n",
       "0              0.161838  1001\n",
       "1              0.172727   660"
      ],
      "text/html": [
       "<div>\n",
       "<style scoped>\n",
       "    .dataframe tbody tr th:only-of-type {\n",
       "        vertical-align: middle;\n",
       "    }\n",
       "\n",
       "    .dataframe tbody tr th {\n",
       "        vertical-align: top;\n",
       "    }\n",
       "\n",
       "    .dataframe thead tr th {\n",
       "        text-align: left;\n",
       "    }\n",
       "\n",
       "    .dataframe thead tr:last-of-type th {\n",
       "        text-align: right;\n",
       "    }\n",
       "</style>\n",
       "<table border=\"1\" class=\"dataframe\">\n",
       "  <thead>\n",
       "    <tr>\n",
       "      <th></th>\n",
       "      <th colspan=\"2\" halign=\"left\">flag</th>\n",
       "    </tr>\n",
       "    <tr>\n",
       "      <th></th>\n",
       "      <th>mean</th>\n",
       "      <th>count</th>\n",
       "    </tr>\n",
       "    <tr>\n",
       "      <th>group_segment</th>\n",
       "      <th></th>\n",
       "      <th></th>\n",
       "    </tr>\n",
       "  </thead>\n",
       "  <tbody>\n",
       "    <tr>\n",
       "      <th>0</th>\n",
       "      <td>0.161838</td>\n",
       "      <td>1001</td>\n",
       "    </tr>\n",
       "    <tr>\n",
       "      <th>1</th>\n",
       "      <td>0.172727</td>\n",
       "      <td>660</td>\n",
       "    </tr>\n",
       "  </tbody>\n",
       "</table>\n",
       "</div>"
      ]
     },
     "execution_count": 158,
     "metadata": {},
     "output_type": "execute_result"
    }
   ],
   "execution_count": 158
  },
  {
   "metadata": {
    "ExecuteTime": {
     "end_time": "2024-12-06T18:34:34.106703Z",
     "start_time": "2024-12-06T18:34:34.094707Z"
    }
   },
   "cell_type": "code",
   "source": "cl_rural[['is_rural', 'flag']].groupby('is_rural').agg(['mean', 'count'])",
   "id": "644e7202833f7cea",
   "outputs": [
    {
     "data": {
      "text/plain": [
       "              flag      \n",
       "              mean count\n",
       "is_rural                \n",
       "0         0.179161   787\n",
       "1         0.154462   874"
      ],
      "text/html": [
       "<div>\n",
       "<style scoped>\n",
       "    .dataframe tbody tr th:only-of-type {\n",
       "        vertical-align: middle;\n",
       "    }\n",
       "\n",
       "    .dataframe tbody tr th {\n",
       "        vertical-align: top;\n",
       "    }\n",
       "\n",
       "    .dataframe thead tr th {\n",
       "        text-align: left;\n",
       "    }\n",
       "\n",
       "    .dataframe thead tr:last-of-type th {\n",
       "        text-align: right;\n",
       "    }\n",
       "</style>\n",
       "<table border=\"1\" class=\"dataframe\">\n",
       "  <thead>\n",
       "    <tr>\n",
       "      <th></th>\n",
       "      <th colspan=\"2\" halign=\"left\">flag</th>\n",
       "    </tr>\n",
       "    <tr>\n",
       "      <th></th>\n",
       "      <th>mean</th>\n",
       "      <th>count</th>\n",
       "    </tr>\n",
       "    <tr>\n",
       "      <th>is_rural</th>\n",
       "      <th></th>\n",
       "      <th></th>\n",
       "    </tr>\n",
       "  </thead>\n",
       "  <tbody>\n",
       "    <tr>\n",
       "      <th>0</th>\n",
       "      <td>0.179161</td>\n",
       "      <td>787</td>\n",
       "    </tr>\n",
       "    <tr>\n",
       "      <th>1</th>\n",
       "      <td>0.154462</td>\n",
       "      <td>874</td>\n",
       "    </tr>\n",
       "  </tbody>\n",
       "</table>\n",
       "</div>"
      ]
     },
     "execution_count": 96,
     "metadata": {},
     "output_type": "execute_result"
    }
   ],
   "execution_count": 96
  },
  {
   "metadata": {
    "ExecuteTime": {
     "end_time": "2024-12-06T19:40:58.301407Z",
     "start_time": "2024-12-06T19:40:58.288103Z"
    }
   },
   "cell_type": "code",
   "source": [
    "from scipy.stats import chi2_contingency\n",
    "\n",
    "cl_rural = cl.copy()\n",
    "contingency_table = pd.crosstab(cl_rural['group_segment'], cl_rural['flag'])\n",
    "chi2, p, dof, expected = chi2_contingency(contingency_table)\n",
    "\n",
    "print(\"Хи-квадрат:\", chi2)\n",
    "print(\"p-значение:\", p)\n",
    "\n",
    "if p < 0.05:\n",
    "    print(\"Зависимость между segment_number и flag статистически значима.\")\n",
    "else:\n",
    "    print(\"Зависимость между segment_number и flag не обнаружена.\")"
   ],
   "id": "5e9dbea32292a687",
   "outputs": [
    {
     "name": "stdout",
     "output_type": "stream",
     "text": [
      "Хи-квадрат: 0.2663329262930003\n",
      "p-значение: 0.605802352271788\n",
      "Зависимость между segment_number и flag не обнаружена.\n"
     ]
    }
   ],
   "execution_count": 160
  },
  {
   "metadata": {
    "ExecuteTime": {
     "end_time": "2024-12-06T18:37:03.454336Z",
     "start_time": "2024-12-06T18:37:03.435992Z"
    }
   },
   "cell_type": "code",
   "source": [
    "from scipy.stats import fisher_exact\n",
    "\n",
    "# Таблица сопряженности\n",
    "table = pd.crosstab(cl_rural['is_rural'], cl_rural['flag'])\n",
    "\n",
    "# Точный тест Фишера\n",
    "odds_ratio, p_value = fisher_exact(table)\n",
    "\n",
    "print(\"Odds Ratio:\", odds_ratio)\n",
    "print(\"p-значение:\", p_value)\n",
    "\n",
    "if p_value < 0.05:\n",
    "    print(\"Есть значимая зависимость между is_rural и flag.\")\n",
    "else:\n",
    "    print(\"Значимой зависимости между is_rural и flag не обнаружено.\")"
   ],
   "id": "3b47b42b22bb1010",
   "outputs": [
    {
     "name": "stdout",
     "output_type": "stream",
     "text": [
      "Odds Ratio: 0.8369562087927908\n",
      "p-значение: 0.1869747956668631\n",
      "Значимой зависимости между is_rural и flag не обнаружено.\n"
     ]
    }
   ],
   "execution_count": 99
  },
  {
   "metadata": {
    "ExecuteTime": {
     "end_time": "2024-12-06T18:28:50.818254Z",
     "start_time": "2024-12-06T18:28:50.803501Z"
    }
   },
   "cell_type": "code",
   "source": [
    "from scipy.stats import kruskal\n",
    "\n",
    "# Группировка по segment_number\n",
    "Xy = cl[['group_segment', 'flag']].dropna()\n",
    "\n",
    "group1 = Xy[Xy['group_segment'] == '1-4']['flag']\n",
    "group2 = Xy[Xy['group_segment'] == '5-8']['flag']\n",
    "group3 = Xy[Xy['group_segment'] == '9-12']['flag']\n",
    "\n",
    "# Критерий Краскала-Уоллиса\n",
    "stat, p = kruskal(group1, group2, group3, group4)\n",
    "\n",
    "print(\"Статистика критерия Краскала-Уоллиса:\", stat)\n",
    "print(\"p-значение:\", p)\n",
    "\n",
    "if p < 0.05:\n",
    "    print(\"Есть значимые различия в успехе между группами segment_number.\")\n",
    "else:\n",
    "    print(\"Значимых различий в успехе между группами нет.\")"
   ],
   "id": "a695ee705cc3fa28",
   "outputs": [
    {
     "name": "stdout",
     "output_type": "stream",
     "text": [
      "Статистика критерия Краскала-Уоллиса: 5.062804066958702\n",
      "p-значение: 0.1672556651915069\n",
      "Значимых различий в успехе между группами нет.\n"
     ]
    }
   ],
   "execution_count": 87
  },
  {
   "metadata": {
    "ExecuteTime": {
     "end_time": "2024-12-06T18:26:02.401699Z",
     "start_time": "2024-12-06T18:26:02.394947Z"
    }
   },
   "cell_type": "code",
   "source": "group1",
   "id": "5a7dd3c641f6255",
   "outputs": [
    {
     "data": {
      "text/plain": [
       "0       0\n",
       "2       0\n",
       "6       0\n",
       "7       0\n",
       "9       0\n",
       "       ..\n",
       "1622    0\n",
       "1633    0\n",
       "1635    0\n",
       "1641    0\n",
       "1643    0\n",
       "Name: flag, Length: 407, dtype: int64"
      ]
     },
     "execution_count": 76,
     "metadata": {},
     "output_type": "execute_result"
    }
   ],
   "execution_count": 76
  },
  {
   "metadata": {
    "ExecuteTime": {
     "end_time": "2024-12-06T18:18:52.288117Z",
     "start_time": "2024-12-06T18:18:51.926786Z"
    }
   },
   "cell_type": "code",
   "source": [
    "import pandas as pd\n",
    "from sklearn.linear_model import LogisticRegression\n",
    "from sklearn.metrics import classification_report\n",
    "import numpy as np\n",
    "\n",
    "Xy = cl[['segment_number', 'flag']].dropna()\n",
    "X = Xy['segment_number']\n",
    "y = Xy['flag']\n",
    "\n",
    "model = LogisticRegression()\n",
    "model.fit(X, y)\n",
    "\n",
    "# Вывод результатов\n",
    "print(\"Коэффициент segment_number:\", model.coef_[0][0])\n",
    "print(\"Интерцепт:\", model.intercept_[0])\n",
    "\n",
    "# Вывод вероятностей по сегментам\n",
    "cl['predicted_prob'] = model.predict_proba(X)[:, 1]\n",
    "\n",
    "# Средняя вероятность успеха для каждого сегмента\n",
    "avg_prob_per_segment = cl.groupby('segment_number')['predicted_prob'].mean()\n",
    "print(\"\\nСредние вероятности успеха по сегментам:\\n\", avg_prob_per_segment)"
   ],
   "id": "d8a7ba9dacc57c7f",
   "outputs": [
    {
     "ename": "ValueError",
     "evalue": "Expected a 2-dimensional container but got <class 'pandas.core.series.Series'> instead. Pass a DataFrame containing a single row (i.e. single sample) or a single column (i.e. single feature) instead.",
     "output_type": "error",
     "traceback": [
      "\u001B[0;31m---------------------------------------------------------------------------\u001B[0m",
      "\u001B[0;31mValueError\u001B[0m                                Traceback (most recent call last)",
      "Cell \u001B[0;32mIn[56], line 11\u001B[0m\n\u001B[1;32m      8\u001B[0m y \u001B[38;5;241m=\u001B[39m Xy[\u001B[38;5;124m'\u001B[39m\u001B[38;5;124mflag\u001B[39m\u001B[38;5;124m'\u001B[39m]\n\u001B[1;32m     10\u001B[0m model \u001B[38;5;241m=\u001B[39m LogisticRegression()\n\u001B[0;32m---> 11\u001B[0m \u001B[43mmodel\u001B[49m\u001B[38;5;241;43m.\u001B[39;49m\u001B[43mfit\u001B[49m\u001B[43m(\u001B[49m\u001B[43mX\u001B[49m\u001B[43m,\u001B[49m\u001B[43m \u001B[49m\u001B[43my\u001B[49m\u001B[43m)\u001B[49m\n\u001B[1;32m     13\u001B[0m \u001B[38;5;66;03m# Вывод результатов\u001B[39;00m\n\u001B[1;32m     14\u001B[0m \u001B[38;5;28mprint\u001B[39m(\u001B[38;5;124m\"\u001B[39m\u001B[38;5;124mКоэффициент segment_number:\u001B[39m\u001B[38;5;124m\"\u001B[39m, model\u001B[38;5;241m.\u001B[39mcoef_[\u001B[38;5;241m0\u001B[39m][\u001B[38;5;241m0\u001B[39m])\n",
      "File \u001B[0;32m~/Documents/src/dano24/zvonki/venv/lib/python3.9/site-packages/sklearn/base.py:1473\u001B[0m, in \u001B[0;36m_fit_context.<locals>.decorator.<locals>.wrapper\u001B[0;34m(estimator, *args, **kwargs)\u001B[0m\n\u001B[1;32m   1466\u001B[0m     estimator\u001B[38;5;241m.\u001B[39m_validate_params()\n\u001B[1;32m   1468\u001B[0m \u001B[38;5;28;01mwith\u001B[39;00m config_context(\n\u001B[1;32m   1469\u001B[0m     skip_parameter_validation\u001B[38;5;241m=\u001B[39m(\n\u001B[1;32m   1470\u001B[0m         prefer_skip_nested_validation \u001B[38;5;129;01mor\u001B[39;00m global_skip_validation\n\u001B[1;32m   1471\u001B[0m     )\n\u001B[1;32m   1472\u001B[0m ):\n\u001B[0;32m-> 1473\u001B[0m     \u001B[38;5;28;01mreturn\u001B[39;00m \u001B[43mfit_method\u001B[49m\u001B[43m(\u001B[49m\u001B[43mestimator\u001B[49m\u001B[43m,\u001B[49m\u001B[43m \u001B[49m\u001B[38;5;241;43m*\u001B[39;49m\u001B[43margs\u001B[49m\u001B[43m,\u001B[49m\u001B[43m \u001B[49m\u001B[38;5;241;43m*\u001B[39;49m\u001B[38;5;241;43m*\u001B[39;49m\u001B[43mkwargs\u001B[49m\u001B[43m)\u001B[49m\n",
      "File \u001B[0;32m~/Documents/src/dano24/zvonki/venv/lib/python3.9/site-packages/sklearn/linear_model/_logistic.py:1223\u001B[0m, in \u001B[0;36mLogisticRegression.fit\u001B[0;34m(self, X, y, sample_weight)\u001B[0m\n\u001B[1;32m   1220\u001B[0m \u001B[38;5;28;01melse\u001B[39;00m:\n\u001B[1;32m   1221\u001B[0m     _dtype \u001B[38;5;241m=\u001B[39m [np\u001B[38;5;241m.\u001B[39mfloat64, np\u001B[38;5;241m.\u001B[39mfloat32]\n\u001B[0;32m-> 1223\u001B[0m X, y \u001B[38;5;241m=\u001B[39m \u001B[38;5;28;43mself\u001B[39;49m\u001B[38;5;241;43m.\u001B[39;49m\u001B[43m_validate_data\u001B[49m\u001B[43m(\u001B[49m\n\u001B[1;32m   1224\u001B[0m \u001B[43m    \u001B[49m\u001B[43mX\u001B[49m\u001B[43m,\u001B[49m\n\u001B[1;32m   1225\u001B[0m \u001B[43m    \u001B[49m\u001B[43my\u001B[49m\u001B[43m,\u001B[49m\n\u001B[1;32m   1226\u001B[0m \u001B[43m    \u001B[49m\u001B[43maccept_sparse\u001B[49m\u001B[38;5;241;43m=\u001B[39;49m\u001B[38;5;124;43m\"\u001B[39;49m\u001B[38;5;124;43mcsr\u001B[39;49m\u001B[38;5;124;43m\"\u001B[39;49m\u001B[43m,\u001B[49m\n\u001B[1;32m   1227\u001B[0m \u001B[43m    \u001B[49m\u001B[43mdtype\u001B[49m\u001B[38;5;241;43m=\u001B[39;49m\u001B[43m_dtype\u001B[49m\u001B[43m,\u001B[49m\n\u001B[1;32m   1228\u001B[0m \u001B[43m    \u001B[49m\u001B[43morder\u001B[49m\u001B[38;5;241;43m=\u001B[39;49m\u001B[38;5;124;43m\"\u001B[39;49m\u001B[38;5;124;43mC\u001B[39;49m\u001B[38;5;124;43m\"\u001B[39;49m\u001B[43m,\u001B[49m\n\u001B[1;32m   1229\u001B[0m \u001B[43m    \u001B[49m\u001B[43maccept_large_sparse\u001B[49m\u001B[38;5;241;43m=\u001B[39;49m\u001B[43msolver\u001B[49m\u001B[43m \u001B[49m\u001B[38;5;129;43;01mnot\u001B[39;49;00m\u001B[43m \u001B[49m\u001B[38;5;129;43;01min\u001B[39;49;00m\u001B[43m \u001B[49m\u001B[43m[\u001B[49m\u001B[38;5;124;43m\"\u001B[39;49m\u001B[38;5;124;43mliblinear\u001B[39;49m\u001B[38;5;124;43m\"\u001B[39;49m\u001B[43m,\u001B[49m\u001B[43m \u001B[49m\u001B[38;5;124;43m\"\u001B[39;49m\u001B[38;5;124;43msag\u001B[39;49m\u001B[38;5;124;43m\"\u001B[39;49m\u001B[43m,\u001B[49m\u001B[43m \u001B[49m\u001B[38;5;124;43m\"\u001B[39;49m\u001B[38;5;124;43msaga\u001B[39;49m\u001B[38;5;124;43m\"\u001B[39;49m\u001B[43m]\u001B[49m\u001B[43m,\u001B[49m\n\u001B[1;32m   1230\u001B[0m \u001B[43m\u001B[49m\u001B[43m)\u001B[49m\n\u001B[1;32m   1231\u001B[0m check_classification_targets(y)\n\u001B[1;32m   1232\u001B[0m \u001B[38;5;28mself\u001B[39m\u001B[38;5;241m.\u001B[39mclasses_ \u001B[38;5;241m=\u001B[39m np\u001B[38;5;241m.\u001B[39munique(y)\n",
      "File \u001B[0;32m~/Documents/src/dano24/zvonki/venv/lib/python3.9/site-packages/sklearn/base.py:650\u001B[0m, in \u001B[0;36mBaseEstimator._validate_data\u001B[0;34m(self, X, y, reset, validate_separately, cast_to_ndarray, **check_params)\u001B[0m\n\u001B[1;32m    648\u001B[0m         y \u001B[38;5;241m=\u001B[39m check_array(y, input_name\u001B[38;5;241m=\u001B[39m\u001B[38;5;124m\"\u001B[39m\u001B[38;5;124my\u001B[39m\u001B[38;5;124m\"\u001B[39m, \u001B[38;5;241m*\u001B[39m\u001B[38;5;241m*\u001B[39mcheck_y_params)\n\u001B[1;32m    649\u001B[0m     \u001B[38;5;28;01melse\u001B[39;00m:\n\u001B[0;32m--> 650\u001B[0m         X, y \u001B[38;5;241m=\u001B[39m \u001B[43mcheck_X_y\u001B[49m\u001B[43m(\u001B[49m\u001B[43mX\u001B[49m\u001B[43m,\u001B[49m\u001B[43m \u001B[49m\u001B[43my\u001B[49m\u001B[43m,\u001B[49m\u001B[43m \u001B[49m\u001B[38;5;241;43m*\u001B[39;49m\u001B[38;5;241;43m*\u001B[39;49m\u001B[43mcheck_params\u001B[49m\u001B[43m)\u001B[49m\n\u001B[1;32m    651\u001B[0m     out \u001B[38;5;241m=\u001B[39m X, y\n\u001B[1;32m    653\u001B[0m \u001B[38;5;28;01mif\u001B[39;00m \u001B[38;5;129;01mnot\u001B[39;00m no_val_X \u001B[38;5;129;01mand\u001B[39;00m check_params\u001B[38;5;241m.\u001B[39mget(\u001B[38;5;124m\"\u001B[39m\u001B[38;5;124mensure_2d\u001B[39m\u001B[38;5;124m\"\u001B[39m, \u001B[38;5;28;01mTrue\u001B[39;00m):\n",
      "File \u001B[0;32m~/Documents/src/dano24/zvonki/venv/lib/python3.9/site-packages/sklearn/utils/validation.py:1301\u001B[0m, in \u001B[0;36mcheck_X_y\u001B[0;34m(X, y, accept_sparse, accept_large_sparse, dtype, order, copy, force_writeable, force_all_finite, ensure_2d, allow_nd, multi_output, ensure_min_samples, ensure_min_features, y_numeric, estimator)\u001B[0m\n\u001B[1;32m   1296\u001B[0m         estimator_name \u001B[38;5;241m=\u001B[39m _check_estimator_name(estimator)\n\u001B[1;32m   1297\u001B[0m     \u001B[38;5;28;01mraise\u001B[39;00m \u001B[38;5;167;01mValueError\u001B[39;00m(\n\u001B[1;32m   1298\u001B[0m         \u001B[38;5;124mf\u001B[39m\u001B[38;5;124m\"\u001B[39m\u001B[38;5;132;01m{\u001B[39;00mestimator_name\u001B[38;5;132;01m}\u001B[39;00m\u001B[38;5;124m requires y to be passed, but the target y is None\u001B[39m\u001B[38;5;124m\"\u001B[39m\n\u001B[1;32m   1299\u001B[0m     )\n\u001B[0;32m-> 1301\u001B[0m X \u001B[38;5;241m=\u001B[39m \u001B[43mcheck_array\u001B[49m\u001B[43m(\u001B[49m\n\u001B[1;32m   1302\u001B[0m \u001B[43m    \u001B[49m\u001B[43mX\u001B[49m\u001B[43m,\u001B[49m\n\u001B[1;32m   1303\u001B[0m \u001B[43m    \u001B[49m\u001B[43maccept_sparse\u001B[49m\u001B[38;5;241;43m=\u001B[39;49m\u001B[43maccept_sparse\u001B[49m\u001B[43m,\u001B[49m\n\u001B[1;32m   1304\u001B[0m \u001B[43m    \u001B[49m\u001B[43maccept_large_sparse\u001B[49m\u001B[38;5;241;43m=\u001B[39;49m\u001B[43maccept_large_sparse\u001B[49m\u001B[43m,\u001B[49m\n\u001B[1;32m   1305\u001B[0m \u001B[43m    \u001B[49m\u001B[43mdtype\u001B[49m\u001B[38;5;241;43m=\u001B[39;49m\u001B[43mdtype\u001B[49m\u001B[43m,\u001B[49m\n\u001B[1;32m   1306\u001B[0m \u001B[43m    \u001B[49m\u001B[43morder\u001B[49m\u001B[38;5;241;43m=\u001B[39;49m\u001B[43morder\u001B[49m\u001B[43m,\u001B[49m\n\u001B[1;32m   1307\u001B[0m \u001B[43m    \u001B[49m\u001B[43mcopy\u001B[49m\u001B[38;5;241;43m=\u001B[39;49m\u001B[43mcopy\u001B[49m\u001B[43m,\u001B[49m\n\u001B[1;32m   1308\u001B[0m \u001B[43m    \u001B[49m\u001B[43mforce_writeable\u001B[49m\u001B[38;5;241;43m=\u001B[39;49m\u001B[43mforce_writeable\u001B[49m\u001B[43m,\u001B[49m\n\u001B[1;32m   1309\u001B[0m \u001B[43m    \u001B[49m\u001B[43mforce_all_finite\u001B[49m\u001B[38;5;241;43m=\u001B[39;49m\u001B[43mforce_all_finite\u001B[49m\u001B[43m,\u001B[49m\n\u001B[1;32m   1310\u001B[0m \u001B[43m    \u001B[49m\u001B[43mensure_2d\u001B[49m\u001B[38;5;241;43m=\u001B[39;49m\u001B[43mensure_2d\u001B[49m\u001B[43m,\u001B[49m\n\u001B[1;32m   1311\u001B[0m \u001B[43m    \u001B[49m\u001B[43mallow_nd\u001B[49m\u001B[38;5;241;43m=\u001B[39;49m\u001B[43mallow_nd\u001B[49m\u001B[43m,\u001B[49m\n\u001B[1;32m   1312\u001B[0m \u001B[43m    \u001B[49m\u001B[43mensure_min_samples\u001B[49m\u001B[38;5;241;43m=\u001B[39;49m\u001B[43mensure_min_samples\u001B[49m\u001B[43m,\u001B[49m\n\u001B[1;32m   1313\u001B[0m \u001B[43m    \u001B[49m\u001B[43mensure_min_features\u001B[49m\u001B[38;5;241;43m=\u001B[39;49m\u001B[43mensure_min_features\u001B[49m\u001B[43m,\u001B[49m\n\u001B[1;32m   1314\u001B[0m \u001B[43m    \u001B[49m\u001B[43mestimator\u001B[49m\u001B[38;5;241;43m=\u001B[39;49m\u001B[43mestimator\u001B[49m\u001B[43m,\u001B[49m\n\u001B[1;32m   1315\u001B[0m \u001B[43m    \u001B[49m\u001B[43minput_name\u001B[49m\u001B[38;5;241;43m=\u001B[39;49m\u001B[38;5;124;43m\"\u001B[39;49m\u001B[38;5;124;43mX\u001B[39;49m\u001B[38;5;124;43m\"\u001B[39;49m\u001B[43m,\u001B[49m\n\u001B[1;32m   1316\u001B[0m \u001B[43m\u001B[49m\u001B[43m)\u001B[49m\n\u001B[1;32m   1318\u001B[0m y \u001B[38;5;241m=\u001B[39m _check_y(y, multi_output\u001B[38;5;241m=\u001B[39mmulti_output, y_numeric\u001B[38;5;241m=\u001B[39my_numeric, estimator\u001B[38;5;241m=\u001B[39mestimator)\n\u001B[1;32m   1320\u001B[0m check_consistent_length(X, y)\n",
      "File \u001B[0;32m~/Documents/src/dano24/zvonki/venv/lib/python3.9/site-packages/sklearn/utils/validation.py:1050\u001B[0m, in \u001B[0;36mcheck_array\u001B[0;34m(array, accept_sparse, accept_large_sparse, dtype, order, copy, force_writeable, force_all_finite, ensure_2d, allow_nd, ensure_min_samples, ensure_min_features, estimator, input_name)\u001B[0m\n\u001B[1;32m   1043\u001B[0m         \u001B[38;5;28;01melse\u001B[39;00m:\n\u001B[1;32m   1044\u001B[0m             msg \u001B[38;5;241m=\u001B[39m (\n\u001B[1;32m   1045\u001B[0m                 \u001B[38;5;124mf\u001B[39m\u001B[38;5;124m\"\u001B[39m\u001B[38;5;124mExpected 2D array, got 1D array instead:\u001B[39m\u001B[38;5;130;01m\\n\u001B[39;00m\u001B[38;5;124marray=\u001B[39m\u001B[38;5;132;01m{\u001B[39;00marray\u001B[38;5;132;01m}\u001B[39;00m\u001B[38;5;124m.\u001B[39m\u001B[38;5;130;01m\\n\u001B[39;00m\u001B[38;5;124m\"\u001B[39m\n\u001B[1;32m   1046\u001B[0m                 \u001B[38;5;124m\"\u001B[39m\u001B[38;5;124mReshape your data either using array.reshape(-1, 1) if \u001B[39m\u001B[38;5;124m\"\u001B[39m\n\u001B[1;32m   1047\u001B[0m                 \u001B[38;5;124m\"\u001B[39m\u001B[38;5;124myour data has a single feature or array.reshape(1, -1) \u001B[39m\u001B[38;5;124m\"\u001B[39m\n\u001B[1;32m   1048\u001B[0m                 \u001B[38;5;124m\"\u001B[39m\u001B[38;5;124mif it contains a single sample.\u001B[39m\u001B[38;5;124m\"\u001B[39m\n\u001B[1;32m   1049\u001B[0m             )\n\u001B[0;32m-> 1050\u001B[0m         \u001B[38;5;28;01mraise\u001B[39;00m \u001B[38;5;167;01mValueError\u001B[39;00m(msg)\n\u001B[1;32m   1052\u001B[0m \u001B[38;5;28;01mif\u001B[39;00m dtype_numeric \u001B[38;5;129;01mand\u001B[39;00m \u001B[38;5;28mhasattr\u001B[39m(array\u001B[38;5;241m.\u001B[39mdtype, \u001B[38;5;124m\"\u001B[39m\u001B[38;5;124mkind\u001B[39m\u001B[38;5;124m\"\u001B[39m) \u001B[38;5;129;01mand\u001B[39;00m array\u001B[38;5;241m.\u001B[39mdtype\u001B[38;5;241m.\u001B[39mkind \u001B[38;5;129;01min\u001B[39;00m \u001B[38;5;124m\"\u001B[39m\u001B[38;5;124mUSV\u001B[39m\u001B[38;5;124m\"\u001B[39m:\n\u001B[1;32m   1053\u001B[0m     \u001B[38;5;28;01mraise\u001B[39;00m \u001B[38;5;167;01mValueError\u001B[39;00m(\n\u001B[1;32m   1054\u001B[0m         \u001B[38;5;124m\"\u001B[39m\u001B[38;5;124mdtype=\u001B[39m\u001B[38;5;124m'\u001B[39m\u001B[38;5;124mnumeric\u001B[39m\u001B[38;5;124m'\u001B[39m\u001B[38;5;124m is not compatible with arrays of bytes/strings.\u001B[39m\u001B[38;5;124m\"\u001B[39m\n\u001B[1;32m   1055\u001B[0m         \u001B[38;5;124m\"\u001B[39m\u001B[38;5;124mConvert your data to numeric values explicitly instead.\u001B[39m\u001B[38;5;124m\"\u001B[39m\n\u001B[1;32m   1056\u001B[0m     )\n",
      "\u001B[0;31mValueError\u001B[0m: Expected a 2-dimensional container but got <class 'pandas.core.series.Series'> instead. Pass a DataFrame containing a single row (i.e. single sample) or a single column (i.e. single feature) instead."
     ]
    }
   ],
   "execution_count": 56
  },
  {
   "metadata": {
    "ExecuteTime": {
     "end_time": "2024-12-06T18:39:54.497105Z",
     "start_time": "2024-12-06T18:39:53.825109Z"
    }
   },
   "cell_type": "code",
   "source": [
    "ccc = df[df['product_cd'] == 'Credit Cards']\n",
    "\n",
    "import pandasql as ps\n",
    "q4 = \"\"\"\n",
    "SELECT * FROM ccc\n",
    "WHERE \"Unnamed: 0\" NOT IN (\n",
    "    SELECT \"Unnamed: 0\" FROM ccc\n",
    "    WHERE \"wo_hit_status_reason_desc\" IN (\n",
    "        \"Третье лицо\", \"Другое\", \"Другой банк\", \"Карту навязали\",\n",
    "        \"Заявку не оставлял\", \"Другое (нестандартная ситуация)\",\n",
    "        \"Кредит / КК в другом банке\", \"Отказ предоставить персональные данные\",\n",
    "        \"Другое (укажи в комментарии)\", \"Не соответствует по возрасту\",\n",
    "        \"Пользуюсь другим антивирусом\", \"Некорректный трансфер\"\n",
    "    ) \n",
    ")\n",
    "\"\"\"\n",
    "\n",
    "cc_clients = ps.sqldf(q4, locals())"
   ],
   "id": "fd3a6903bdaf8576",
   "outputs": [],
   "execution_count": 101
  },
  {
   "metadata": {
    "ExecuteTime": {
     "end_time": "2024-12-06T18:45:27.416091Z",
     "start_time": "2024-12-06T18:45:27.401106Z"
    }
   },
   "cell_type": "code",
   "source": "df[['region_size', 'flag']].groupby(by='region_size').agg(['mean', 'count'])",
   "id": "11c63c8c719bd0",
   "outputs": [
    {
     "data": {
      "text/plain": [
       "                 flag      \n",
       "                 mean count\n",
       "region_size                \n",
       "msk          0.137349  1245\n",
       "rural        0.201245   964\n",
       "town         0.176725  5087\n",
       "urban        0.146207  2175"
      ],
      "text/html": [
       "<div>\n",
       "<style scoped>\n",
       "    .dataframe tbody tr th:only-of-type {\n",
       "        vertical-align: middle;\n",
       "    }\n",
       "\n",
       "    .dataframe tbody tr th {\n",
       "        vertical-align: top;\n",
       "    }\n",
       "\n",
       "    .dataframe thead tr th {\n",
       "        text-align: left;\n",
       "    }\n",
       "\n",
       "    .dataframe thead tr:last-of-type th {\n",
       "        text-align: right;\n",
       "    }\n",
       "</style>\n",
       "<table border=\"1\" class=\"dataframe\">\n",
       "  <thead>\n",
       "    <tr>\n",
       "      <th></th>\n",
       "      <th colspan=\"2\" halign=\"left\">flag</th>\n",
       "    </tr>\n",
       "    <tr>\n",
       "      <th></th>\n",
       "      <th>mean</th>\n",
       "      <th>count</th>\n",
       "    </tr>\n",
       "    <tr>\n",
       "      <th>region_size</th>\n",
       "      <th></th>\n",
       "      <th></th>\n",
       "    </tr>\n",
       "  </thead>\n",
       "  <tbody>\n",
       "    <tr>\n",
       "      <th>msk</th>\n",
       "      <td>0.137349</td>\n",
       "      <td>1245</td>\n",
       "    </tr>\n",
       "    <tr>\n",
       "      <th>rural</th>\n",
       "      <td>0.201245</td>\n",
       "      <td>964</td>\n",
       "    </tr>\n",
       "    <tr>\n",
       "      <th>town</th>\n",
       "      <td>0.176725</td>\n",
       "      <td>5087</td>\n",
       "    </tr>\n",
       "    <tr>\n",
       "      <th>urban</th>\n",
       "      <td>0.146207</td>\n",
       "      <td>2175</td>\n",
       "    </tr>\n",
       "  </tbody>\n",
       "</table>\n",
       "</div>"
      ]
     },
     "execution_count": 105,
     "metadata": {},
     "output_type": "execute_result"
    }
   ],
   "execution_count": 105
  },
  {
   "metadata": {
    "ExecuteTime": {
     "end_time": "2024-12-06T18:41:47.884063Z",
     "start_time": "2024-12-06T18:41:47.786805Z"
    }
   },
   "cell_type": "code",
   "source": "ccc",
   "id": "19e179bb303c0a6d",
   "outputs": [
    {
     "data": {
      "text/plain": [
       "       Unnamed: 0  customer_id   age gender_cd region_size  foreign_flg  \\\n",
       "23             23    342879157  27.0         M         NaN          NaN   \n",
       "63             63    282407696  41.0         M       rural          0.0   \n",
       "117           117    509469281  42.0         F        town          0.0   \n",
       "710           710    326663782  21.0         F        town          0.0   \n",
       "1178         1178    480706447  44.0         M        town          0.0   \n",
       "...           ...          ...   ...       ...         ...          ...   \n",
       "18077       18077    584331549   NaN         M        town          0.0   \n",
       "18110       18110    525669032   NaN         F         NaN          NaN   \n",
       "18220       18220    539821879   NaN       NaN         msk          1.0   \n",
       "18353       18353    476196896   NaN       NaN       urban          1.0   \n",
       "18565       18565    484398797   NaN       NaN         NaN          NaN   \n",
       "\n",
       "       entrepreneur_flg  auto_flg  traveler_flg  partnership_flg  ...  \\\n",
       "23                  NaN       NaN           NaN              NaN  ...   \n",
       "63                  1.0       1.0           0.0              1.0  ...   \n",
       "117                 0.0       0.0           0.0              1.0  ...   \n",
       "710                 0.0       1.0           0.0              1.0  ...   \n",
       "1178                0.0       0.0           0.0              1.0  ...   \n",
       "...                 ...       ...           ...              ...  ...   \n",
       "18077               0.0       0.0           0.0              0.0  ...   \n",
       "18110               NaN       NaN           NaN              NaN  ...   \n",
       "18220               0.0       0.0           0.0              1.0  ...   \n",
       "18353               0.0       0.0           0.0              0.0  ...   \n",
       "18565               NaN       NaN           NaN              NaN  ...   \n",
       "\n",
       "       emp_marital_status_cd flag day_of_week num_of_week  child_flg  \\\n",
       "23         Холост/не замужем    0      Monday           0          1   \n",
       "63         Холост/не замужем    0    Saturday           5          0   \n",
       "117        Холост/не замужем    0      Friday           4          1   \n",
       "710                      NaN    0    Thursday           3          0   \n",
       "1178                     NaN    0      Friday           4          1   \n",
       "...                      ...  ...         ...         ...        ...   \n",
       "18077                    NaN    0   Wednesday           2          0   \n",
       "18110                    NaN    0    Thursday           3          1   \n",
       "18220                    NaN    0    Thursday           3          0   \n",
       "18353                    NaN    0      Sunday           6          0   \n",
       "18565                    NaN    0    Thursday           3          1   \n",
       "\n",
       "         income segment_number num_segment month  season  \n",
       "23     20323.50            NaN         NaN     1    Зима  \n",
       "63     15823.50            7.0         2.0     2    Зима  \n",
       "117    13639.56           29.0         7.0     2    Зима  \n",
       "710    12878.91           36.0         9.0    10   Осень  \n",
       "1178    7984.12           16.0         4.0     8    Лето  \n",
       "...         ...            ...         ...   ...     ...  \n",
       "18077       NaN           44.0        12.0     6    Лето  \n",
       "18110       NaN            NaN         NaN     9   Осень  \n",
       "18220       NaN           26.0        10.0     1    Зима  \n",
       "18353       NaN           27.0         7.0    12    Зима  \n",
       "18565       NaN            NaN         NaN     2    Зима  \n",
       "\n",
       "[7401 rows x 39 columns]"
      ],
      "text/html": [
       "<div>\n",
       "<style scoped>\n",
       "    .dataframe tbody tr th:only-of-type {\n",
       "        vertical-align: middle;\n",
       "    }\n",
       "\n",
       "    .dataframe tbody tr th {\n",
       "        vertical-align: top;\n",
       "    }\n",
       "\n",
       "    .dataframe thead th {\n",
       "        text-align: right;\n",
       "    }\n",
       "</style>\n",
       "<table border=\"1\" class=\"dataframe\">\n",
       "  <thead>\n",
       "    <tr style=\"text-align: right;\">\n",
       "      <th></th>\n",
       "      <th>Unnamed: 0</th>\n",
       "      <th>customer_id</th>\n",
       "      <th>age</th>\n",
       "      <th>gender_cd</th>\n",
       "      <th>region_size</th>\n",
       "      <th>foreign_flg</th>\n",
       "      <th>entrepreneur_flg</th>\n",
       "      <th>auto_flg</th>\n",
       "      <th>traveler_flg</th>\n",
       "      <th>partnership_flg</th>\n",
       "      <th>...</th>\n",
       "      <th>emp_marital_status_cd</th>\n",
       "      <th>flag</th>\n",
       "      <th>day_of_week</th>\n",
       "      <th>num_of_week</th>\n",
       "      <th>child_flg</th>\n",
       "      <th>income</th>\n",
       "      <th>segment_number</th>\n",
       "      <th>num_segment</th>\n",
       "      <th>month</th>\n",
       "      <th>season</th>\n",
       "    </tr>\n",
       "  </thead>\n",
       "  <tbody>\n",
       "    <tr>\n",
       "      <th>23</th>\n",
       "      <td>23</td>\n",
       "      <td>342879157</td>\n",
       "      <td>27.0</td>\n",
       "      <td>M</td>\n",
       "      <td>NaN</td>\n",
       "      <td>NaN</td>\n",
       "      <td>NaN</td>\n",
       "      <td>NaN</td>\n",
       "      <td>NaN</td>\n",
       "      <td>NaN</td>\n",
       "      <td>...</td>\n",
       "      <td>Холост/не замужем</td>\n",
       "      <td>0</td>\n",
       "      <td>Monday</td>\n",
       "      <td>0</td>\n",
       "      <td>1</td>\n",
       "      <td>20323.50</td>\n",
       "      <td>NaN</td>\n",
       "      <td>NaN</td>\n",
       "      <td>1</td>\n",
       "      <td>Зима</td>\n",
       "    </tr>\n",
       "    <tr>\n",
       "      <th>63</th>\n",
       "      <td>63</td>\n",
       "      <td>282407696</td>\n",
       "      <td>41.0</td>\n",
       "      <td>M</td>\n",
       "      <td>rural</td>\n",
       "      <td>0.0</td>\n",
       "      <td>1.0</td>\n",
       "      <td>1.0</td>\n",
       "      <td>0.0</td>\n",
       "      <td>1.0</td>\n",
       "      <td>...</td>\n",
       "      <td>Холост/не замужем</td>\n",
       "      <td>0</td>\n",
       "      <td>Saturday</td>\n",
       "      <td>5</td>\n",
       "      <td>0</td>\n",
       "      <td>15823.50</td>\n",
       "      <td>7.0</td>\n",
       "      <td>2.0</td>\n",
       "      <td>2</td>\n",
       "      <td>Зима</td>\n",
       "    </tr>\n",
       "    <tr>\n",
       "      <th>117</th>\n",
       "      <td>117</td>\n",
       "      <td>509469281</td>\n",
       "      <td>42.0</td>\n",
       "      <td>F</td>\n",
       "      <td>town</td>\n",
       "      <td>0.0</td>\n",
       "      <td>0.0</td>\n",
       "      <td>0.0</td>\n",
       "      <td>0.0</td>\n",
       "      <td>1.0</td>\n",
       "      <td>...</td>\n",
       "      <td>Холост/не замужем</td>\n",
       "      <td>0</td>\n",
       "      <td>Friday</td>\n",
       "      <td>4</td>\n",
       "      <td>1</td>\n",
       "      <td>13639.56</td>\n",
       "      <td>29.0</td>\n",
       "      <td>7.0</td>\n",
       "      <td>2</td>\n",
       "      <td>Зима</td>\n",
       "    </tr>\n",
       "    <tr>\n",
       "      <th>710</th>\n",
       "      <td>710</td>\n",
       "      <td>326663782</td>\n",
       "      <td>21.0</td>\n",
       "      <td>F</td>\n",
       "      <td>town</td>\n",
       "      <td>0.0</td>\n",
       "      <td>0.0</td>\n",
       "      <td>1.0</td>\n",
       "      <td>0.0</td>\n",
       "      <td>1.0</td>\n",
       "      <td>...</td>\n",
       "      <td>NaN</td>\n",
       "      <td>0</td>\n",
       "      <td>Thursday</td>\n",
       "      <td>3</td>\n",
       "      <td>0</td>\n",
       "      <td>12878.91</td>\n",
       "      <td>36.0</td>\n",
       "      <td>9.0</td>\n",
       "      <td>10</td>\n",
       "      <td>Осень</td>\n",
       "    </tr>\n",
       "    <tr>\n",
       "      <th>1178</th>\n",
       "      <td>1178</td>\n",
       "      <td>480706447</td>\n",
       "      <td>44.0</td>\n",
       "      <td>M</td>\n",
       "      <td>town</td>\n",
       "      <td>0.0</td>\n",
       "      <td>0.0</td>\n",
       "      <td>0.0</td>\n",
       "      <td>0.0</td>\n",
       "      <td>1.0</td>\n",
       "      <td>...</td>\n",
       "      <td>NaN</td>\n",
       "      <td>0</td>\n",
       "      <td>Friday</td>\n",
       "      <td>4</td>\n",
       "      <td>1</td>\n",
       "      <td>7984.12</td>\n",
       "      <td>16.0</td>\n",
       "      <td>4.0</td>\n",
       "      <td>8</td>\n",
       "      <td>Лето</td>\n",
       "    </tr>\n",
       "    <tr>\n",
       "      <th>...</th>\n",
       "      <td>...</td>\n",
       "      <td>...</td>\n",
       "      <td>...</td>\n",
       "      <td>...</td>\n",
       "      <td>...</td>\n",
       "      <td>...</td>\n",
       "      <td>...</td>\n",
       "      <td>...</td>\n",
       "      <td>...</td>\n",
       "      <td>...</td>\n",
       "      <td>...</td>\n",
       "      <td>...</td>\n",
       "      <td>...</td>\n",
       "      <td>...</td>\n",
       "      <td>...</td>\n",
       "      <td>...</td>\n",
       "      <td>...</td>\n",
       "      <td>...</td>\n",
       "      <td>...</td>\n",
       "      <td>...</td>\n",
       "      <td>...</td>\n",
       "    </tr>\n",
       "    <tr>\n",
       "      <th>18077</th>\n",
       "      <td>18077</td>\n",
       "      <td>584331549</td>\n",
       "      <td>NaN</td>\n",
       "      <td>M</td>\n",
       "      <td>town</td>\n",
       "      <td>0.0</td>\n",
       "      <td>0.0</td>\n",
       "      <td>0.0</td>\n",
       "      <td>0.0</td>\n",
       "      <td>0.0</td>\n",
       "      <td>...</td>\n",
       "      <td>NaN</td>\n",
       "      <td>0</td>\n",
       "      <td>Wednesday</td>\n",
       "      <td>2</td>\n",
       "      <td>0</td>\n",
       "      <td>NaN</td>\n",
       "      <td>44.0</td>\n",
       "      <td>12.0</td>\n",
       "      <td>6</td>\n",
       "      <td>Лето</td>\n",
       "    </tr>\n",
       "    <tr>\n",
       "      <th>18110</th>\n",
       "      <td>18110</td>\n",
       "      <td>525669032</td>\n",
       "      <td>NaN</td>\n",
       "      <td>F</td>\n",
       "      <td>NaN</td>\n",
       "      <td>NaN</td>\n",
       "      <td>NaN</td>\n",
       "      <td>NaN</td>\n",
       "      <td>NaN</td>\n",
       "      <td>NaN</td>\n",
       "      <td>...</td>\n",
       "      <td>NaN</td>\n",
       "      <td>0</td>\n",
       "      <td>Thursday</td>\n",
       "      <td>3</td>\n",
       "      <td>1</td>\n",
       "      <td>NaN</td>\n",
       "      <td>NaN</td>\n",
       "      <td>NaN</td>\n",
       "      <td>9</td>\n",
       "      <td>Осень</td>\n",
       "    </tr>\n",
       "    <tr>\n",
       "      <th>18220</th>\n",
       "      <td>18220</td>\n",
       "      <td>539821879</td>\n",
       "      <td>NaN</td>\n",
       "      <td>NaN</td>\n",
       "      <td>msk</td>\n",
       "      <td>1.0</td>\n",
       "      <td>0.0</td>\n",
       "      <td>0.0</td>\n",
       "      <td>0.0</td>\n",
       "      <td>1.0</td>\n",
       "      <td>...</td>\n",
       "      <td>NaN</td>\n",
       "      <td>0</td>\n",
       "      <td>Thursday</td>\n",
       "      <td>3</td>\n",
       "      <td>0</td>\n",
       "      <td>NaN</td>\n",
       "      <td>26.0</td>\n",
       "      <td>10.0</td>\n",
       "      <td>1</td>\n",
       "      <td>Зима</td>\n",
       "    </tr>\n",
       "    <tr>\n",
       "      <th>18353</th>\n",
       "      <td>18353</td>\n",
       "      <td>476196896</td>\n",
       "      <td>NaN</td>\n",
       "      <td>NaN</td>\n",
       "      <td>urban</td>\n",
       "      <td>1.0</td>\n",
       "      <td>0.0</td>\n",
       "      <td>0.0</td>\n",
       "      <td>0.0</td>\n",
       "      <td>0.0</td>\n",
       "      <td>...</td>\n",
       "      <td>NaN</td>\n",
       "      <td>0</td>\n",
       "      <td>Sunday</td>\n",
       "      <td>6</td>\n",
       "      <td>0</td>\n",
       "      <td>NaN</td>\n",
       "      <td>27.0</td>\n",
       "      <td>7.0</td>\n",
       "      <td>12</td>\n",
       "      <td>Зима</td>\n",
       "    </tr>\n",
       "    <tr>\n",
       "      <th>18565</th>\n",
       "      <td>18565</td>\n",
       "      <td>484398797</td>\n",
       "      <td>NaN</td>\n",
       "      <td>NaN</td>\n",
       "      <td>NaN</td>\n",
       "      <td>NaN</td>\n",
       "      <td>NaN</td>\n",
       "      <td>NaN</td>\n",
       "      <td>NaN</td>\n",
       "      <td>NaN</td>\n",
       "      <td>...</td>\n",
       "      <td>NaN</td>\n",
       "      <td>0</td>\n",
       "      <td>Thursday</td>\n",
       "      <td>3</td>\n",
       "      <td>1</td>\n",
       "      <td>NaN</td>\n",
       "      <td>NaN</td>\n",
       "      <td>NaN</td>\n",
       "      <td>2</td>\n",
       "      <td>Зима</td>\n",
       "    </tr>\n",
       "  </tbody>\n",
       "</table>\n",
       "<p>7401 rows × 39 columns</p>\n",
       "</div>"
      ]
     },
     "execution_count": 103,
     "metadata": {},
     "output_type": "execute_result"
    }
   ],
   "execution_count": 103
  },
  {
   "metadata": {
    "ExecuteTime": {
     "end_time": "2024-12-06T19:03:52.044898Z",
     "start_time": "2024-12-06T19:03:51.695631Z"
    }
   },
   "cell_type": "code",
   "source": [
    "import math\n",
    "\n",
    "def Anton(x, musthave, c):\n",
    "    # Определяем k (для минимального числа) и n (для максимального числа)\n",
    "    k = math.ceil((musthave - 14) / c)\n",
    "    n = math.ceil((68 - musthave) / c)\n",
    "    \n",
    "    # Номер группы\n",
    "    if x < musthave:  # Группы ниже musthave\n",
    "        group = k - math.ceil((musthave - x) / c) + 1\n",
    "    elif x >= musthave:  # Группы выше или равны musthave\n",
    "        group = k + math.floor((x - musthave) / c) + 1\n",
    "    \n",
    "    return group\n",
    "\n",
    "\n",
    "def Dima(musthave, c):\n",
    "    import math\n",
    "    \n",
    "    # Определяем k и n\n",
    "    k = math.ceil((musthave - 14) / c)\n",
    "    n = math.ceil((68 - musthave) / c)\n",
    "    \n",
    "    # Массив групп\n",
    "    groups = []\n",
    "    for i in range(-(k - 2), n):  # От второй группы до предпоследней\n",
    "        group_start = musthave + (i - 1) * c\n",
    "        group_end = musthave + i * c - 1\n",
    "        groups.append(f\"{group_start}-{group_end}\")\n",
    "    \n",
    "    # Числа начала второй группы и конца предпоследней\n",
    "    second_group_start = musthave - (k - 1) * c\n",
    "    penultimate_group_end = musthave + (n - 1) * c - 1\n",
    "    \n",
    "    return groups, second_group_start, penultimate_group_end\n",
    "\n",
    "# Пример вызова функции\n",
    "musthave = 35\n",
    "c = 15\n",
    "groups, second_start, penultimate_end = Dima(musthave, c)\n",
    "\n",
    "percent_by_age = cl[cl['age'] <= 68][['age', 'flag']].copy()\n",
    "percent_by_age = percent_by_age[np.isfinite(percent_by_age['age'])]\n",
    "percent_by_age['age_group'] = percent_by_age['age'].apply(lambda x: Anton(x, musthave, c))\n",
    "percent_by_age = percent_by_age[['age_group', 'flag']].groupby('age_group').mean()\n",
    "\n",
    "ax = percent_by_age.plot(kind='bar', color='skyblue', edgecolor='black')\n",
    "labels = groups\n",
    "if second_start != 14:\n",
    "    labels = [f'14-{second_start-1}'] + labels\n",
    "if penultimate_end != 71:\n",
    "    labels = labels + [f'{penultimate_end}+']\n",
    "ax.set_xticklabels(labels, rotation=0)\n",
    "plt.title(\"Процент успешности для возрастной группы для Credit Cards\")\n",
    "plt.xlabel(\"Возрастная группа\")\n",
    "plt.ylabel(\"Процент\")\n",
    "plt.show()"
   ],
   "id": "faf2aacfa18f34f",
   "outputs": [
    {
     "data": {
      "text/plain": [
       "<Figure size 640x480 with 1 Axes>"
      ],
      "image/png": "[encoded data removed]"
     },
     "metadata": {},
     "output_type": "display_data"
    }
   ],
   "execution_count": 106
  },
  {
   "metadata": {
    "ExecuteTime": {
     "end_time": "2024-12-06T19:04:30.858496Z",
     "start_time": "2024-12-06T19:04:30.849357Z"
    }
   },
   "cell_type": "code",
   "source": "df['product_cd'].value_counts()",
   "id": "3382cef7b05d273",
   "outputs": [
    {
     "data": {
      "text/plain": [
       "product_cd\n",
       "Credit Cards          7401\n",
       "Cash Loan             2402\n",
       "MVNO                  1652\n",
       "Debit Cards           1529\n",
       "Investment             565\n",
       "Secured Loan           435\n",
       "Casco                  291\n",
       "Mortgage Insurance     246\n",
       "Car Loan               237\n",
       "Osago                   23\n",
       "Deposit                  8\n",
       "Travel Avia              5\n",
       "T-Auto                   2\n",
       "Name: count, dtype: int64"
      ]
     },
     "execution_count": 107,
     "metadata": {},
     "output_type": "execute_result"
    }
   ],
   "execution_count": 107
  },
  {
   "metadata": {
    "ExecuteTime": {
     "end_time": "2024-12-06T19:46:21.569890Z",
     "start_time": "2024-12-06T19:46:21.557990Z"
    }
   },
   "cell_type": "code",
   "source": [
    "def Anton(x, musthave, c):\n",
    "    # Определяем k (для минимального числа) и n (для максимального числа)\n",
    "    k = math.ceil((musthave - 14) / c)\n",
    "    n = math.ceil((68 - musthave) / c)\n",
    "    \n",
    "    # Номер группы\n",
    "    if x < musthave:  # Группы ниже musthave\n",
    "        group = k - math.ceil((musthave - x) / c) + 1\n",
    "    elif x >= musthave:  # Группы выше или равны musthave\n",
    "        group = k + math.floor((x - musthave) / c) + 1\n",
    "    \n",
    "    return group\n",
    "\n",
    "\n",
    "def Dima(musthave, c):\n",
    "    import math\n",
    "    \n",
    "    # Определяем k и n\n",
    "    k = math.ceil((musthave - 14) / c)\n",
    "    n = math.ceil((68 - musthave) / c)\n",
    "    \n",
    "    # Массив групп\n",
    "    groups = []\n",
    "    for i in range(-(k - 2), n):  # От второй группы до предпоследней\n",
    "        group_start = musthave + (i - 1) * c\n",
    "        group_end = musthave + i * c - 1\n",
    "        groups.append(f\"{group_start}-{group_end}\")\n",
    "    \n",
    "    # Числа начала второй группы и конца предпоследней\n",
    "    second_group_start = musthave - (k - 1) * c\n",
    "    penultimate_group_end = musthave + (n - 1) * c - 1\n",
    "    \n",
    "    return groups, second_group_start, penultimate_group_end\n",
    "\n",
    "def da(cl):\n",
    "    musthave = 35\n",
    "    c = 10\n",
    "    groups, second_start, penultimate_end = Dima(musthave, c)\n",
    "    \n",
    "    percent_by_age = cl[cl['age'] <= 68][['age', 'flag']].copy()\n",
    "    percent_by_age = percent_by_age[np.isfinite(percent_by_age['age'])]\n",
    "    percent_by_age['age_group'] = percent_by_age['age'].apply(lambda x: Anton(x, musthave, c))\n",
    "    percent_by_age = percent_by_age[['age_group', 'flag']].groupby('age_group').mean()\n",
    "    \n",
    "    ax = percent_by_age.plot(kind='bar', color='skyblue', edgecolor='black')\n",
    "    labels = groups\n",
    "    if second_start != 14:\n",
    "        labels = [f'14-{second_start-1}'] + labels\n",
    "    if penultimate_end != 71:\n",
    "        labels = labels + [f'{penultimate_end}+']\n",
    "    ax.set_xticklabels(labels, rotation=0)\n",
    "    plt.title(\"Процент успешности для возрастной группы для Credit Cards\")\n",
    "    plt.xlabel(\"Возрастная группа\")\n",
    "    plt.ylabel(\"Процент\")\n",
    "    plt.show()"
   ],
   "id": "818e910bdc627f02",
   "outputs": [],
   "execution_count": 167
  },
  {
   "metadata": {
    "ExecuteTime": {
     "end_time": "2024-12-06T19:30:56.657305Z",
     "start_time": "2024-12-06T19:30:56.650255Z"
    }
   },
   "cell_type": "code",
   "source": "df.functional_cd.value_counts()",
   "id": "57e8189a8e13f27e",
   "outputs": [
    {
     "data": {
      "text/plain": [
       "functional_cd\n",
       "Preapprove       6797\n",
       "Afterfilling     1899\n",
       "Utilization      1319\n",
       "Upsell           1225\n",
       "Cold             1131\n",
       "Meeting           995\n",
       "Agreement         486\n",
       "Incoming          353\n",
       "Downsell          198\n",
       "Reutilization     171\n",
       "Activation         85\n",
       "BAF                52\n",
       "Prolongation       46\n",
       "Autoleads          30\n",
       "Deposit             8\n",
       "Refinancing         1\n",
       "Name: count, dtype: int64"
      ]
     },
     "execution_count": 142,
     "metadata": {},
     "output_type": "execute_result"
    }
   ],
   "execution_count": 142
  },
  {
   "metadata": {
    "ExecuteTime": {
     "end_time": "2024-12-06T19:31:35.710918Z",
     "start_time": "2024-12-06T19:31:35.692615Z"
    }
   },
   "cell_type": "code",
   "source": "df[df['functional_cd'] == 'Upsell'][['flag', 'region_size']].groupby(by='region_size').agg(['mean', 'count'])",
   "id": "5ac3e8a611c21e35",
   "outputs": [
    {
     "data": {
      "text/plain": [
       "                 flag      \n",
       "                 mean count\n",
       "region_size                \n",
       "msk          0.097826    92\n",
       "rural        0.104000   125\n",
       "town         0.085343   539\n",
       "urban        0.056995   193"
      ],
      "text/html": [
       "<div>\n",
       "<style scoped>\n",
       "    .dataframe tbody tr th:only-of-type {\n",
       "        vertical-align: middle;\n",
       "    }\n",
       "\n",
       "    .dataframe tbody tr th {\n",
       "        vertical-align: top;\n",
       "    }\n",
       "\n",
       "    .dataframe thead tr th {\n",
       "        text-align: left;\n",
       "    }\n",
       "\n",
       "    .dataframe thead tr:last-of-type th {\n",
       "        text-align: right;\n",
       "    }\n",
       "</style>\n",
       "<table border=\"1\" class=\"dataframe\">\n",
       "  <thead>\n",
       "    <tr>\n",
       "      <th></th>\n",
       "      <th colspan=\"2\" halign=\"left\">flag</th>\n",
       "    </tr>\n",
       "    <tr>\n",
       "      <th></th>\n",
       "      <th>mean</th>\n",
       "      <th>count</th>\n",
       "    </tr>\n",
       "    <tr>\n",
       "      <th>region_size</th>\n",
       "      <th></th>\n",
       "      <th></th>\n",
       "    </tr>\n",
       "  </thead>\n",
       "  <tbody>\n",
       "    <tr>\n",
       "      <th>msk</th>\n",
       "      <td>0.097826</td>\n",
       "      <td>92</td>\n",
       "    </tr>\n",
       "    <tr>\n",
       "      <th>rural</th>\n",
       "      <td>0.104000</td>\n",
       "      <td>125</td>\n",
       "    </tr>\n",
       "    <tr>\n",
       "      <th>town</th>\n",
       "      <td>0.085343</td>\n",
       "      <td>539</td>\n",
       "    </tr>\n",
       "    <tr>\n",
       "      <th>urban</th>\n",
       "      <td>0.056995</td>\n",
       "      <td>193</td>\n",
       "    </tr>\n",
       "  </tbody>\n",
       "</table>\n",
       "</div>"
      ]
     },
     "execution_count": 145,
     "metadata": {},
     "output_type": "execute_result"
    }
   ],
   "execution_count": 145
  },
  {
   "metadata": {
    "ExecuteTime": {
     "end_time": "2024-12-06T19:34:29.664755Z",
     "start_time": "2024-12-06T19:34:29.635354Z"
    }
   },
   "cell_type": "code",
   "source": [
    "from scipy.stats import chi2_contingency\n",
    "\n",
    "cl_rural = df[df['5'] != 'rural'][df['functional_cd'] == 'Upsell']\n",
    "cl_rural['is_msk'] = (cl_rural['region_size'].isin(['msk'])).astype(int)\n",
    "contingency_table = pd.crosstab(cl_rural['is_msk'], cl_rural['flag'])\n",
    "chi2, p, dof, expected = chi2_contingency(contingency_table)\n",
    "\n",
    "print(\"Хи-квадрат:\", chi2)\n",
    "print(\"p-значение:\", p)\n",
    "\n",
    "if p < 0.05:\n",
    "    print(\"Зависимость между segment_number и flag статистически значима.\")\n",
    "else:\n",
    "    print(\"Зависимость между segment_number и flag не обнаружена.\")"
   ],
   "id": "aa8169698cc50c98",
   "outputs": [
    {
     "name": "stdout",
     "output_type": "stream",
     "text": [
      "Хи-квадрат: 0.14939910571457407\n",
      "p-значение: 0.6991102569487428\n",
      "Зависимость между segment_number и flag не обнаружена.\n"
     ]
    }
   ],
   "execution_count": 146
  },
  {
   "metadata": {
    "ExecuteTime": {
     "end_time": "2024-12-06T19:46:31.134568Z",
     "start_time": "2024-12-06T19:46:30.829394Z"
    }
   },
   "cell_type": "code",
   "source": "da(upsell)",
   "id": "75d9add1ca97accc",
   "outputs": [
    {
     "ename": "ValueError",
     "evalue": "The number of FixedLocator locations (5), usually from a call to set_ticks, does not match the number of labels (7).",
     "output_type": "error",
     "traceback": [
      "\u001B[0;31m---------------------------------------------------------------------------\u001B[0m",
      "\u001B[0;31mValueError\u001B[0m                                Traceback (most recent call last)",
      "Cell \u001B[0;32mIn[168], line 1\u001B[0m\n\u001B[0;32m----> 1\u001B[0m \u001B[43mda\u001B[49m\u001B[43m(\u001B[49m\u001B[43mupsell\u001B[49m\u001B[43m)\u001B[49m\n",
      "Cell \u001B[0;32mIn[167], line 51\u001B[0m, in \u001B[0;36mda\u001B[0;34m(cl)\u001B[0m\n\u001B[1;32m     49\u001B[0m \u001B[38;5;28;01mif\u001B[39;00m penultimate_end \u001B[38;5;241m!=\u001B[39m \u001B[38;5;241m71\u001B[39m:\n\u001B[1;32m     50\u001B[0m     labels \u001B[38;5;241m=\u001B[39m labels \u001B[38;5;241m+\u001B[39m [\u001B[38;5;124mf\u001B[39m\u001B[38;5;124m'\u001B[39m\u001B[38;5;132;01m{\u001B[39;00mpenultimate_end\u001B[38;5;132;01m}\u001B[39;00m\u001B[38;5;124m+\u001B[39m\u001B[38;5;124m'\u001B[39m]\n\u001B[0;32m---> 51\u001B[0m \u001B[43max\u001B[49m\u001B[38;5;241;43m.\u001B[39;49m\u001B[43mset_xticklabels\u001B[49m\u001B[43m(\u001B[49m\u001B[43mlabels\u001B[49m\u001B[43m,\u001B[49m\u001B[43m \u001B[49m\u001B[43mrotation\u001B[49m\u001B[38;5;241;43m=\u001B[39;49m\u001B[38;5;241;43m0\u001B[39;49m\u001B[43m)\u001B[49m\n\u001B[1;32m     52\u001B[0m plt\u001B[38;5;241m.\u001B[39mtitle(\u001B[38;5;124m\"\u001B[39m\u001B[38;5;124mПроцент успешности для возрастной группы для Credit Cards\u001B[39m\u001B[38;5;124m\"\u001B[39m)\n\u001B[1;32m     53\u001B[0m plt\u001B[38;5;241m.\u001B[39mxlabel(\u001B[38;5;124m\"\u001B[39m\u001B[38;5;124mВозрастная группа\u001B[39m\u001B[38;5;124m\"\u001B[39m)\n",
      "File \u001B[0;32m~/Documents/src/dano24/zvonki/venv/lib/python3.9/site-packages/matplotlib/axes/_base.py:74\u001B[0m, in \u001B[0;36m_axis_method_wrapper.__set_name__.<locals>.wrapper\u001B[0;34m(self, *args, **kwargs)\u001B[0m\n\u001B[1;32m     73\u001B[0m \u001B[38;5;28;01mdef\u001B[39;00m \u001B[38;5;21mwrapper\u001B[39m(\u001B[38;5;28mself\u001B[39m, \u001B[38;5;241m*\u001B[39margs, \u001B[38;5;241m*\u001B[39m\u001B[38;5;241m*\u001B[39mkwargs):\n\u001B[0;32m---> 74\u001B[0m     \u001B[38;5;28;01mreturn\u001B[39;00m \u001B[43mget_method\u001B[49m\u001B[43m(\u001B[49m\u001B[38;5;28;43mself\u001B[39;49m\u001B[43m)\u001B[49m\u001B[43m(\u001B[49m\u001B[38;5;241;43m*\u001B[39;49m\u001B[43margs\u001B[49m\u001B[43m,\u001B[49m\u001B[43m \u001B[49m\u001B[38;5;241;43m*\u001B[39;49m\u001B[38;5;241;43m*\u001B[39;49m\u001B[43mkwargs\u001B[49m\u001B[43m)\u001B[49m\n",
      "File \u001B[0;32m~/Documents/src/dano24/zvonki/venv/lib/python3.9/site-packages/matplotlib/axis.py:2071\u001B[0m, in \u001B[0;36mAxis.set_ticklabels\u001B[0;34m(self, labels, minor, fontdict, **kwargs)\u001B[0m\n\u001B[1;32m   2067\u001B[0m \u001B[38;5;28;01melif\u001B[39;00m \u001B[38;5;28misinstance\u001B[39m(locator, mticker\u001B[38;5;241m.\u001B[39mFixedLocator):\n\u001B[1;32m   2068\u001B[0m     \u001B[38;5;66;03m# Passing [] as a list of labels is often used as a way to\u001B[39;00m\n\u001B[1;32m   2069\u001B[0m     \u001B[38;5;66;03m# remove all tick labels, so only error for > 0 labels\u001B[39;00m\n\u001B[1;32m   2070\u001B[0m     \u001B[38;5;28;01mif\u001B[39;00m \u001B[38;5;28mlen\u001B[39m(locator\u001B[38;5;241m.\u001B[39mlocs) \u001B[38;5;241m!=\u001B[39m \u001B[38;5;28mlen\u001B[39m(labels) \u001B[38;5;129;01mand\u001B[39;00m \u001B[38;5;28mlen\u001B[39m(labels) \u001B[38;5;241m!=\u001B[39m \u001B[38;5;241m0\u001B[39m:\n\u001B[0;32m-> 2071\u001B[0m         \u001B[38;5;28;01mraise\u001B[39;00m \u001B[38;5;167;01mValueError\u001B[39;00m(\n\u001B[1;32m   2072\u001B[0m             \u001B[38;5;124m\"\u001B[39m\u001B[38;5;124mThe number of FixedLocator locations\u001B[39m\u001B[38;5;124m\"\u001B[39m\n\u001B[1;32m   2073\u001B[0m             \u001B[38;5;124mf\u001B[39m\u001B[38;5;124m\"\u001B[39m\u001B[38;5;124m (\u001B[39m\u001B[38;5;132;01m{\u001B[39;00m\u001B[38;5;28mlen\u001B[39m(locator\u001B[38;5;241m.\u001B[39mlocs)\u001B[38;5;132;01m}\u001B[39;00m\u001B[38;5;124m), usually from a call to\u001B[39m\u001B[38;5;124m\"\u001B[39m\n\u001B[1;32m   2074\u001B[0m             \u001B[38;5;124m\"\u001B[39m\u001B[38;5;124m set_ticks, does not match\u001B[39m\u001B[38;5;124m\"\u001B[39m\n\u001B[1;32m   2075\u001B[0m             \u001B[38;5;124mf\u001B[39m\u001B[38;5;124m\"\u001B[39m\u001B[38;5;124m the number of labels (\u001B[39m\u001B[38;5;132;01m{\u001B[39;00m\u001B[38;5;28mlen\u001B[39m(labels)\u001B[38;5;132;01m}\u001B[39;00m\u001B[38;5;124m).\u001B[39m\u001B[38;5;124m\"\u001B[39m)\n\u001B[1;32m   2076\u001B[0m     tickd \u001B[38;5;241m=\u001B[39m {loc: lab \u001B[38;5;28;01mfor\u001B[39;00m loc, lab \u001B[38;5;129;01min\u001B[39;00m \u001B[38;5;28mzip\u001B[39m(locator\u001B[38;5;241m.\u001B[39mlocs, labels)}\n\u001B[1;32m   2077\u001B[0m     func \u001B[38;5;241m=\u001B[39m functools\u001B[38;5;241m.\u001B[39mpartial(\u001B[38;5;28mself\u001B[39m\u001B[38;5;241m.\u001B[39m_format_with_dict, tickd)\n",
      "\u001B[0;31mValueError\u001B[0m: The number of FixedLocator locations (5), usually from a call to set_ticks, does not match the number of labels (7)."
     ]
    },
    {
     "data": {
      "text/plain": [
       "<Figure size 640x480 with 1 Axes>"
      ],
      "image/png": "[encoded data removed]"
     },
     "metadata": {},
     "output_type": "display_data"
    }
   ],
   "execution_count": 168
  },
  {
   "metadata": {
    "ExecuteTime": {
     "end_time": "2024-12-06T20:05:21.554802Z",
     "start_time": "2024-12-06T20:05:21.548082Z"
    }
   },
   "cell_type": "code",
   "source": "upsell['wo_hit_status_reason_desc'].value_counts()",
   "id": "46139b3e8cb32207",
   "outputs": [
    {
     "data": {
      "text/plain": [
       "wo_hit_status_reason_desc\n",
       "Не устраивает одобренная сумма                57\n",
       "Назначена встреча                             50\n",
       "Upsell на КНЗ                                 28\n",
       "Высокая ставка по кредиту                     27\n",
       "Не устраивает ни одно предложение             15\n",
       "Клиент ранее отказался                        15\n",
       "Нет недвижимости для залога                   12\n",
       "Upsell на КНА                                  8\n",
       "Отказ от кредита                               8\n",
       "Дозаполнение заявки                            7\n",
       "Нет квартиры для залога                        7\n",
       "Без встречи                                    6\n",
       "Отказ предоставлять недвижимость под залог     5\n",
       "Без встречи, активация кредита                 4\n",
       "Нет авто для залога                            3\n",
       "Name: count, dtype: int64"
      ]
     },
     "execution_count": 204,
     "metadata": {},
     "output_type": "execute_result"
    }
   ],
   "execution_count": 204
  },
  {
   "metadata": {
    "ExecuteTime": {
     "end_time": "2024-12-06T20:06:25.695929Z",
     "start_time": "2024-12-06T20:06:25.584160Z"
    }
   },
   "cell_type": "code",
   "source": [
    "import pandasql as ps\n",
    "\n",
    "upsell = df[df['functional_cd'] == 'Upsell']\n",
    "upsell = upsell.reset_index()\n",
    "\n",
    "q1 = \"\"\"\n",
    "SELECT * FROM upsell \n",
    "WHERE \"index\" NOT IN (\n",
    "    SELECT \"index\" \n",
    "    FROM upsell \n",
    "    WHERE wo_hit_status_reason_desc IN (\n",
    "        'Кредит уже не нужен', 'Другое', 'Отказ по всем продуктам', \n",
    "        'Третье лицо', 'Клиент ранее отказался'\n",
    "    )\n",
    ")\n",
    "\"\"\"\n",
    "upsell = ps.sqldf(q1, locals())"
   ],
   "id": "ca151fdb836fad25",
   "outputs": [],
   "execution_count": 213
  },
  {
   "metadata": {
    "ExecuteTime": {
     "end_time": "2024-12-06T20:30:28.611243Z",
     "start_time": "2024-12-06T20:30:28.606357Z"
    }
   },
   "cell_type": "code",
   "source": [
    "def OAXAXXAXAXAXAX(x):\n",
    "    # if x in [1, 2, 3]:\n",
    "    #     return '1-3'\n",
    "    # if x in [4, 5, 6]:\n",
    "    #     return '4-6'\n",
    "    # if x in [7, 8, 9]:\n",
    "    #     return '7-9'\n",
    "    # if x in [10, 11, 12]:\n",
    "    #     return '9-12'\n",
    "    if x in [4, 5, 6, 7, 8, 9, 10, 11, 12]:\n",
    "        return 1\n",
    "    return 0\n",
    "\n",
    "upsell['group_segment'] = upsell['num_segment'].apply(OAXAXXAXAXAXAX)"
   ],
   "id": "f54368abe0d8ecdd",
   "outputs": [],
   "execution_count": 244
  },
  {
   "metadata": {
    "ExecuteTime": {
     "end_time": "2024-12-06T20:30:29.557598Z",
     "start_time": "2024-12-06T20:30:29.541505Z"
    }
   },
   "cell_type": "code",
   "source": [
    "upsell['num_segment'] = (upsell['segment_cd'].str[2:4])\n",
    "upsell['num_segment'] = upsell['num_segment'].astype(float)\n",
    "upsell[['flag', 'group_segment']].groupby(by='group_segment').agg(['mean', 'count'])"
   ],
   "id": "58d2fb54220cc6ff",
   "outputs": [
    {
     "data": {
      "text/plain": [
       "                   flag      \n",
       "                   mean count\n",
       "group_segment                \n",
       "0              0.333333   138\n",
       "1              0.463415   123"
      ],
      "text/html": [
       "<div>\n",
       "<style scoped>\n",
       "    .dataframe tbody tr th:only-of-type {\n",
       "        vertical-align: middle;\n",
       "    }\n",
       "\n",
       "    .dataframe tbody tr th {\n",
       "        vertical-align: top;\n",
       "    }\n",
       "\n",
       "    .dataframe thead tr th {\n",
       "        text-align: left;\n",
       "    }\n",
       "\n",
       "    .dataframe thead tr:last-of-type th {\n",
       "        text-align: right;\n",
       "    }\n",
       "</style>\n",
       "<table border=\"1\" class=\"dataframe\">\n",
       "  <thead>\n",
       "    <tr>\n",
       "      <th></th>\n",
       "      <th colspan=\"2\" halign=\"left\">flag</th>\n",
       "    </tr>\n",
       "    <tr>\n",
       "      <th></th>\n",
       "      <th>mean</th>\n",
       "      <th>count</th>\n",
       "    </tr>\n",
       "    <tr>\n",
       "      <th>group_segment</th>\n",
       "      <th></th>\n",
       "      <th></th>\n",
       "    </tr>\n",
       "  </thead>\n",
       "  <tbody>\n",
       "    <tr>\n",
       "      <th>0</th>\n",
       "      <td>0.333333</td>\n",
       "      <td>138</td>\n",
       "    </tr>\n",
       "    <tr>\n",
       "      <th>1</th>\n",
       "      <td>0.463415</td>\n",
       "      <td>123</td>\n",
       "    </tr>\n",
       "  </tbody>\n",
       "</table>\n",
       "</div>"
      ]
     },
     "execution_count": 245,
     "metadata": {},
     "output_type": "execute_result"
    }
   ],
   "execution_count": 245
  },
  {
   "metadata": {
    "ExecuteTime": {
     "end_time": "2024-12-06T20:30:31.499224Z",
     "start_time": "2024-12-06T20:30:31.484788Z"
    }
   },
   "cell_type": "code",
   "source": [
    "from scipy.stats import chi2_contingency\n",
    "\n",
    "cl_rural = upsell.copy()\n",
    "contingency_table = pd.crosstab(upsell['group_segment'], upsell['flag'])\n",
    "chi2, p, dof, expected = chi2_contingency(contingency_table)\n",
    "\n",
    "print(\"Хи-квадрат:\", chi2)\n",
    "print(\"p-значение:\", p)\n",
    "\n",
    "if p < 0.05:\n",
    "    print(\"Зависимость между group_segment и flag статистически значима.\")\n",
    "else:\n",
    "    print(\"Зависимость между group_segment и flag не обнаружена.\")"
   ],
   "id": "10410af20816fdb3",
   "outputs": [
    {
     "name": "stdout",
     "output_type": "stream",
     "text": [
      "Хи-квадрат: 4.077970340175294\n",
      "p-значение: 0.04344581634691718\n",
      "Зависимость между group_segment и flag статистически значима.\n"
     ]
    }
   ],
   "execution_count": 246
  },
  {
   "metadata": {
    "ExecuteTime": {
     "end_time": "2024-12-06T20:30:33.392059Z",
     "start_time": "2024-12-06T20:30:33.385777Z"
    }
   },
   "cell_type": "code",
   "source": "upsell['group_segment'].value_counts()",
   "id": "bc89dc16dd57477d",
   "outputs": [
    {
     "data": {
      "text/plain": [
       "group_segment\n",
       "0    138\n",
       "1    123\n",
       "Name: count, dtype: int64"
      ]
     },
     "execution_count": 247,
     "metadata": {},
     "output_type": "execute_result"
    }
   ],
   "execution_count": 247
  },
  {
   "metadata": {
    "ExecuteTime": {
     "end_time": "2024-12-06T20:18:07.868372Z",
     "start_time": "2024-12-06T20:18:07.853959Z"
    }
   },
   "cell_type": "code",
   "source": "df[['region_size', 'income']].groupby(by='region_size').agg(['mean', 'count'])",
   "id": "b83386966b98223",
   "outputs": [
    {
     "data": {
      "text/plain": [
       "                   income      \n",
       "                     mean count\n",
       "region_size                    \n",
       "msk          18397.303091   372\n",
       "rural        15110.911561   378\n",
       "town         15202.906127  1699\n",
       "urban        15802.967398   757"
      ],
      "text/html": [
       "<div>\n",
       "<style scoped>\n",
       "    .dataframe tbody tr th:only-of-type {\n",
       "        vertical-align: middle;\n",
       "    }\n",
       "\n",
       "    .dataframe tbody tr th {\n",
       "        vertical-align: top;\n",
       "    }\n",
       "\n",
       "    .dataframe thead tr th {\n",
       "        text-align: left;\n",
       "    }\n",
       "\n",
       "    .dataframe thead tr:last-of-type th {\n",
       "        text-align: right;\n",
       "    }\n",
       "</style>\n",
       "<table border=\"1\" class=\"dataframe\">\n",
       "  <thead>\n",
       "    <tr>\n",
       "      <th></th>\n",
       "      <th colspan=\"2\" halign=\"left\">income</th>\n",
       "    </tr>\n",
       "    <tr>\n",
       "      <th></th>\n",
       "      <th>mean</th>\n",
       "      <th>count</th>\n",
       "    </tr>\n",
       "    <tr>\n",
       "      <th>region_size</th>\n",
       "      <th></th>\n",
       "      <th></th>\n",
       "    </tr>\n",
       "  </thead>\n",
       "  <tbody>\n",
       "    <tr>\n",
       "      <th>msk</th>\n",
       "      <td>18397.303091</td>\n",
       "      <td>372</td>\n",
       "    </tr>\n",
       "    <tr>\n",
       "      <th>rural</th>\n",
       "      <td>15110.911561</td>\n",
       "      <td>378</td>\n",
       "    </tr>\n",
       "    <tr>\n",
       "      <th>town</th>\n",
       "      <td>15202.906127</td>\n",
       "      <td>1699</td>\n",
       "    </tr>\n",
       "    <tr>\n",
       "      <th>urban</th>\n",
       "      <td>15802.967398</td>\n",
       "      <td>757</td>\n",
       "    </tr>\n",
       "  </tbody>\n",
       "</table>\n",
       "</div>"
      ]
     },
     "execution_count": 226,
     "metadata": {},
     "output_type": "execute_result"
    }
   ],
   "execution_count": 226
  },
  {
   "metadata": {
    "ExecuteTime": {
     "end_time": "2024-12-06T20:23:47.046282Z",
     "start_time": "2024-12-06T20:23:47.035517Z"
    }
   },
   "cell_type": "code",
   "source": "df_income_by_segment = df[['num_segment', 'income']].groupby(by='num_segment').agg(['mean', 'count'])",
   "id": "b48d14073f36b467",
   "outputs": [],
   "execution_count": 229
  },
  {
   "metadata": {
    "ExecuteTime": {
     "end_time": "2024-12-06T20:28:08.958808Z",
     "start_time": "2024-12-06T20:28:08.922547Z"
    }
   },
   "cell_type": "code",
   "source": "df[df['functional_cd'] == 'Incoming']",
   "id": "cfca7e83f36e2c2b",
   "outputs": [
    {
     "data": {
      "text/plain": [
       "       Unnamed: 0  customer_id   age gender_cd region_size  foreign_flg  \\\n",
       "11330       11330    279255316  21.0         F       rural          0.0   \n",
       "18441       18441    337771365  43.0         M         NaN          NaN   \n",
       "532           532     82192736  28.0         M       rural          0.0   \n",
       "928           928    528349431  33.0         F       urban          0.0   \n",
       "1106         1106     70440857  36.0         M       rural          0.0   \n",
       "...           ...          ...   ...       ...         ...          ...   \n",
       "10542       10542    423009425   NaN         M         NaN          NaN   \n",
       "15497       15497    393622713   NaN       NaN         NaN          NaN   \n",
       "15641       15641    476402357   NaN       NaN         NaN          NaN   \n",
       "16340       16340    498328418   NaN         M         NaN          NaN   \n",
       "16568       16568    407722121   NaN       NaN         NaN          NaN   \n",
       "\n",
       "       entrepreneur_flg  auto_flg  traveler_flg  partnership_flg  ...  \\\n",
       "11330               0.0       0.0           0.0              1.0  ...   \n",
       "18441               NaN       NaN           NaN              NaN  ...   \n",
       "532                 0.0       0.0           0.0              1.0  ...   \n",
       "928                 1.0       1.0           0.0              1.0  ...   \n",
       "1106                0.0       1.0           0.0              0.0  ...   \n",
       "...                 ...       ...           ...              ...  ...   \n",
       "10542               NaN       NaN           NaN              NaN  ...   \n",
       "15497               NaN       NaN           NaN              NaN  ...   \n",
       "15641               NaN       NaN           NaN              NaN  ...   \n",
       "16340               NaN       NaN           NaN              NaN  ...   \n",
       "16568               NaN       NaN           NaN              NaN  ...   \n",
       "\n",
       "       emp_marital_status_cd flag day_of_week num_of_week  child_flg  \\\n",
       "11330                    NaN    0      Friday           4          0   \n",
       "18441                    NaN    1   Wednesday           2          1   \n",
       "532                      NaN    1    Thursday           3          0   \n",
       "928        Холост/не замужем    0   Wednesday           2          0   \n",
       "1106                     NaN    0      Friday           4          0   \n",
       "...                      ...  ...         ...         ...        ...   \n",
       "10542                    NaN    0      Sunday           6          1   \n",
       "15497                    NaN    1      Sunday           6          1   \n",
       "15641                    NaN    0      Monday           0          1   \n",
       "16340                    NaN    0    Thursday           3          1   \n",
       "16568                    NaN    0      Friday           4          1   \n",
       "\n",
       "         income segment_number num_segment month  season  \n",
       "11330  16312.86            7.0         2.0    10   Осень  \n",
       "18441   7823.50            NaN         NaN     2    Зима  \n",
       "532    24823.50            7.0         2.0    10   Осень  \n",
       "928    14969.96            5.0         2.0    11   Осень  \n",
       "1106   18823.50           20.0         3.0     5   Весна  \n",
       "...         ...            ...         ...   ...     ...  \n",
       "10542       NaN            NaN         NaN    12    Зима  \n",
       "15497       NaN            NaN         NaN     7    Лето  \n",
       "15641       NaN            NaN         NaN     1    Зима  \n",
       "16340       NaN            NaN         NaN     4   Весна  \n",
       "16568       NaN            NaN         NaN     7    Лето  \n",
       "\n",
       "[353 rows x 39 columns]"
      ],
      "text/html": [
       "<div>\n",
       "<style scoped>\n",
       "    .dataframe tbody tr th:only-of-type {\n",
       "        vertical-align: middle;\n",
       "    }\n",
       "\n",
       "    .dataframe tbody tr th {\n",
       "        vertical-align: top;\n",
       "    }\n",
       "\n",
       "    .dataframe thead th {\n",
       "        text-align: right;\n",
       "    }\n",
       "</style>\n",
       "<table border=\"1\" class=\"dataframe\">\n",
       "  <thead>\n",
       "    <tr style=\"text-align: right;\">\n",
       "      <th></th>\n",
       "      <th>Unnamed: 0</th>\n",
       "      <th>customer_id</th>\n",
       "      <th>age</th>\n",
       "      <th>gender_cd</th>\n",
       "      <th>region_size</th>\n",
       "      <th>foreign_flg</th>\n",
       "      <th>entrepreneur_flg</th>\n",
       "      <th>auto_flg</th>\n",
       "      <th>traveler_flg</th>\n",
       "      <th>partnership_flg</th>\n",
       "      <th>...</th>\n",
       "      <th>emp_marital_status_cd</th>\n",
       "      <th>flag</th>\n",
       "      <th>day_of_week</th>\n",
       "      <th>num_of_week</th>\n",
       "      <th>child_flg</th>\n",
       "      <th>income</th>\n",
       "      <th>segment_number</th>\n",
       "      <th>num_segment</th>\n",
       "      <th>month</th>\n",
       "      <th>season</th>\n",
       "    </tr>\n",
       "  </thead>\n",
       "  <tbody>\n",
       "    <tr>\n",
       "      <th>11330</th>\n",
       "      <td>11330</td>\n",
       "      <td>279255316</td>\n",
       "      <td>21.0</td>\n",
       "      <td>F</td>\n",
       "      <td>rural</td>\n",
       "      <td>0.0</td>\n",
       "      <td>0.0</td>\n",
       "      <td>0.0</td>\n",
       "      <td>0.0</td>\n",
       "      <td>1.0</td>\n",
       "      <td>...</td>\n",
       "      <td>NaN</td>\n",
       "      <td>0</td>\n",
       "      <td>Friday</td>\n",
       "      <td>4</td>\n",
       "      <td>0</td>\n",
       "      <td>16312.86</td>\n",
       "      <td>7.0</td>\n",
       "      <td>2.0</td>\n",
       "      <td>10</td>\n",
       "      <td>Осень</td>\n",
       "    </tr>\n",
       "    <tr>\n",
       "      <th>18441</th>\n",
       "      <td>18441</td>\n",
       "      <td>337771365</td>\n",
       "      <td>43.0</td>\n",
       "      <td>M</td>\n",
       "      <td>NaN</td>\n",
       "      <td>NaN</td>\n",
       "      <td>NaN</td>\n",
       "      <td>NaN</td>\n",
       "      <td>NaN</td>\n",
       "      <td>NaN</td>\n",
       "      <td>...</td>\n",
       "      <td>NaN</td>\n",
       "      <td>1</td>\n",
       "      <td>Wednesday</td>\n",
       "      <td>2</td>\n",
       "      <td>1</td>\n",
       "      <td>7823.50</td>\n",
       "      <td>NaN</td>\n",
       "      <td>NaN</td>\n",
       "      <td>2</td>\n",
       "      <td>Зима</td>\n",
       "    </tr>\n",
       "    <tr>\n",
       "      <th>532</th>\n",
       "      <td>532</td>\n",
       "      <td>82192736</td>\n",
       "      <td>28.0</td>\n",
       "      <td>M</td>\n",
       "      <td>rural</td>\n",
       "      <td>0.0</td>\n",
       "      <td>0.0</td>\n",
       "      <td>0.0</td>\n",
       "      <td>0.0</td>\n",
       "      <td>1.0</td>\n",
       "      <td>...</td>\n",
       "      <td>NaN</td>\n",
       "      <td>1</td>\n",
       "      <td>Thursday</td>\n",
       "      <td>3</td>\n",
       "      <td>0</td>\n",
       "      <td>24823.50</td>\n",
       "      <td>7.0</td>\n",
       "      <td>2.0</td>\n",
       "      <td>10</td>\n",
       "      <td>Осень</td>\n",
       "    </tr>\n",
       "    <tr>\n",
       "      <th>928</th>\n",
       "      <td>928</td>\n",
       "      <td>528349431</td>\n",
       "      <td>33.0</td>\n",
       "      <td>F</td>\n",
       "      <td>urban</td>\n",
       "      <td>0.0</td>\n",
       "      <td>1.0</td>\n",
       "      <td>1.0</td>\n",
       "      <td>0.0</td>\n",
       "      <td>1.0</td>\n",
       "      <td>...</td>\n",
       "      <td>Холост/не замужем</td>\n",
       "      <td>0</td>\n",
       "      <td>Wednesday</td>\n",
       "      <td>2</td>\n",
       "      <td>0</td>\n",
       "      <td>14969.96</td>\n",
       "      <td>5.0</td>\n",
       "      <td>2.0</td>\n",
       "      <td>11</td>\n",
       "      <td>Осень</td>\n",
       "    </tr>\n",
       "    <tr>\n",
       "      <th>1106</th>\n",
       "      <td>1106</td>\n",
       "      <td>70440857</td>\n",
       "      <td>36.0</td>\n",
       "      <td>M</td>\n",
       "      <td>rural</td>\n",
       "      <td>0.0</td>\n",
       "      <td>0.0</td>\n",
       "      <td>1.0</td>\n",
       "      <td>0.0</td>\n",
       "      <td>0.0</td>\n",
       "      <td>...</td>\n",
       "      <td>NaN</td>\n",
       "      <td>0</td>\n",
       "      <td>Friday</td>\n",
       "      <td>4</td>\n",
       "      <td>0</td>\n",
       "      <td>18823.50</td>\n",
       "      <td>20.0</td>\n",
       "      <td>3.0</td>\n",
       "      <td>5</td>\n",
       "      <td>Весна</td>\n",
       "    </tr>\n",
       "    <tr>\n",
       "      <th>...</th>\n",
       "      <td>...</td>\n",
       "      <td>...</td>\n",
       "      <td>...</td>\n",
       "      <td>...</td>\n",
       "      <td>...</td>\n",
       "      <td>...</td>\n",
       "      <td>...</td>\n",
       "      <td>...</td>\n",
       "      <td>...</td>\n",
       "      <td>...</td>\n",
       "      <td>...</td>\n",
       "      <td>...</td>\n",
       "      <td>...</td>\n",
       "      <td>...</td>\n",
       "      <td>...</td>\n",
       "      <td>...</td>\n",
       "      <td>...</td>\n",
       "      <td>...</td>\n",
       "      <td>...</td>\n",
       "      <td>...</td>\n",
       "      <td>...</td>\n",
       "    </tr>\n",
       "    <tr>\n",
       "      <th>10542</th>\n",
       "      <td>10542</td>\n",
       "      <td>423009425</td>\n",
       "      <td>NaN</td>\n",
       "      <td>M</td>\n",
       "      <td>NaN</td>\n",
       "      <td>NaN</td>\n",
       "      <td>NaN</td>\n",
       "      <td>NaN</td>\n",
       "      <td>NaN</td>\n",
       "      <td>NaN</td>\n",
       "      <td>...</td>\n",
       "      <td>NaN</td>\n",
       "      <td>0</td>\n",
       "      <td>Sunday</td>\n",
       "      <td>6</td>\n",
       "      <td>1</td>\n",
       "      <td>NaN</td>\n",
       "      <td>NaN</td>\n",
       "      <td>NaN</td>\n",
       "      <td>12</td>\n",
       "      <td>Зима</td>\n",
       "    </tr>\n",
       "    <tr>\n",
       "      <th>15497</th>\n",
       "      <td>15497</td>\n",
       "      <td>393622713</td>\n",
       "      <td>NaN</td>\n",
       "      <td>NaN</td>\n",
       "      <td>NaN</td>\n",
       "      <td>NaN</td>\n",
       "      <td>NaN</td>\n",
       "      <td>NaN</td>\n",
       "      <td>NaN</td>\n",
       "      <td>NaN</td>\n",
       "      <td>...</td>\n",
       "      <td>NaN</td>\n",
       "      <td>1</td>\n",
       "      <td>Sunday</td>\n",
       "      <td>6</td>\n",
       "      <td>1</td>\n",
       "      <td>NaN</td>\n",
       "      <td>NaN</td>\n",
       "      <td>NaN</td>\n",
       "      <td>7</td>\n",
       "      <td>Лето</td>\n",
       "    </tr>\n",
       "    <tr>\n",
       "      <th>15641</th>\n",
       "      <td>15641</td>\n",
       "      <td>476402357</td>\n",
       "      <td>NaN</td>\n",
       "      <td>NaN</td>\n",
       "      <td>NaN</td>\n",
       "      <td>NaN</td>\n",
       "      <td>NaN</td>\n",
       "      <td>NaN</td>\n",
       "      <td>NaN</td>\n",
       "      <td>NaN</td>\n",
       "      <td>...</td>\n",
       "      <td>NaN</td>\n",
       "      <td>0</td>\n",
       "      <td>Monday</td>\n",
       "      <td>0</td>\n",
       "      <td>1</td>\n",
       "      <td>NaN</td>\n",
       "      <td>NaN</td>\n",
       "      <td>NaN</td>\n",
       "      <td>1</td>\n",
       "      <td>Зима</td>\n",
       "    </tr>\n",
       "    <tr>\n",
       "      <th>16340</th>\n",
       "      <td>16340</td>\n",
       "      <td>498328418</td>\n",
       "      <td>NaN</td>\n",
       "      <td>M</td>\n",
       "      <td>NaN</td>\n",
       "      <td>NaN</td>\n",
       "      <td>NaN</td>\n",
       "      <td>NaN</td>\n",
       "      <td>NaN</td>\n",
       "      <td>NaN</td>\n",
       "      <td>...</td>\n",
       "      <td>NaN</td>\n",
       "      <td>0</td>\n",
       "      <td>Thursday</td>\n",
       "      <td>3</td>\n",
       "      <td>1</td>\n",
       "      <td>NaN</td>\n",
       "      <td>NaN</td>\n",
       "      <td>NaN</td>\n",
       "      <td>4</td>\n",
       "      <td>Весна</td>\n",
       "    </tr>\n",
       "    <tr>\n",
       "      <th>16568</th>\n",
       "      <td>16568</td>\n",
       "      <td>407722121</td>\n",
       "      <td>NaN</td>\n",
       "      <td>NaN</td>\n",
       "      <td>NaN</td>\n",
       "      <td>NaN</td>\n",
       "      <td>NaN</td>\n",
       "      <td>NaN</td>\n",
       "      <td>NaN</td>\n",
       "      <td>NaN</td>\n",
       "      <td>...</td>\n",
       "      <td>NaN</td>\n",
       "      <td>0</td>\n",
       "      <td>Friday</td>\n",
       "      <td>4</td>\n",
       "      <td>1</td>\n",
       "      <td>NaN</td>\n",
       "      <td>NaN</td>\n",
       "      <td>NaN</td>\n",
       "      <td>7</td>\n",
       "      <td>Лето</td>\n",
       "    </tr>\n",
       "  </tbody>\n",
       "</table>\n",
       "<p>353 rows × 39 columns</p>\n",
       "</div>"
      ]
     },
     "execution_count": 232,
     "metadata": {},
     "output_type": "execute_result"
    }
   ],
   "execution_count": 232
  },
  {
   "metadata": {
    "ExecuteTime": {
     "end_time": "2024-12-06T21:17:52.683388Z",
     "start_time": "2024-12-06T21:17:52.673290Z"
    }
   },
   "cell_type": "code",
   "source": "df['product_cd'].value_counts()",
   "id": "522856fcbc23ee9c",
   "outputs": [
    {
     "data": {
      "text/plain": [
       "product_cd\n",
       "Credit Cards          7401\n",
       "Cash Loan             2402\n",
       "MVNO                  1652\n",
       "Debit Cards           1529\n",
       "Investment             565\n",
       "Secured Loan           435\n",
       "Casco                  291\n",
       "Mortgage Insurance     246\n",
       "Car Loan               237\n",
       "Osago                   23\n",
       "Deposit                  8\n",
       "Travel Avia              5\n",
       "T-Auto                   2\n",
       "Name: count, dtype: int64"
      ]
     },
     "execution_count": 248,
     "metadata": {},
     "output_type": "execute_result"
    }
   ],
   "execution_count": 248
  },
  {
   "metadata": {
    "ExecuteTime": {
     "end_time": "2024-12-06T21:18:31.297312Z",
     "start_time": "2024-12-06T21:18:31.252224Z"
    }
   },
   "cell_type": "code",
   "source": "ccc",
   "id": "8a9f56962ff7ae73",
   "outputs": [
    {
     "data": {
      "text/plain": [
       "       Unnamed: 0  customer_id   age gender_cd region_size  foreign_flg  \\\n",
       "23             23    342879157  27.0         M         NaN          NaN   \n",
       "63             63    282407696  41.0         M       rural          0.0   \n",
       "117           117    509469281  42.0         F        town          0.0   \n",
       "710           710    326663782  21.0         F        town          0.0   \n",
       "1178         1178    480706447  44.0         M        town          0.0   \n",
       "...           ...          ...   ...       ...         ...          ...   \n",
       "18077       18077    584331549   NaN         M        town          0.0   \n",
       "18110       18110    525669032   NaN         F         NaN          NaN   \n",
       "18220       18220    539821879   NaN       NaN         msk          1.0   \n",
       "18353       18353    476196896   NaN       NaN       urban          1.0   \n",
       "18565       18565    484398797   NaN       NaN         NaN          NaN   \n",
       "\n",
       "       entrepreneur_flg  auto_flg  traveler_flg  partnership_flg  ...  \\\n",
       "23                  NaN       NaN           NaN              NaN  ...   \n",
       "63                  1.0       1.0           0.0              1.0  ...   \n",
       "117                 0.0       0.0           0.0              1.0  ...   \n",
       "710                 0.0       1.0           0.0              1.0  ...   \n",
       "1178                0.0       0.0           0.0              1.0  ...   \n",
       "...                 ...       ...           ...              ...  ...   \n",
       "18077               0.0       0.0           0.0              0.0  ...   \n",
       "18110               NaN       NaN           NaN              NaN  ...   \n",
       "18220               0.0       0.0           0.0              1.0  ...   \n",
       "18353               0.0       0.0           0.0              0.0  ...   \n",
       "18565               NaN       NaN           NaN              NaN  ...   \n",
       "\n",
       "       emp_marital_status_cd flag day_of_week num_of_week  child_flg  \\\n",
       "23         Холост/не замужем    0      Monday           0          1   \n",
       "63         Холост/не замужем    0    Saturday           5          0   \n",
       "117        Холост/не замужем    0      Friday           4          1   \n",
       "710                      NaN    0    Thursday           3          0   \n",
       "1178                     NaN    0      Friday           4          1   \n",
       "...                      ...  ...         ...         ...        ...   \n",
       "18077                    NaN    0   Wednesday           2          0   \n",
       "18110                    NaN    0    Thursday           3          1   \n",
       "18220                    NaN    0    Thursday           3          0   \n",
       "18353                    NaN    0      Sunday           6          0   \n",
       "18565                    NaN    0    Thursday           3          1   \n",
       "\n",
       "         income segment_number num_segment month  season  \n",
       "23     20323.50            NaN         NaN     1    Зима  \n",
       "63     15823.50            7.0         2.0     2    Зима  \n",
       "117    13639.56           29.0         7.0     2    Зима  \n",
       "710    12878.91           36.0         9.0    10   Осень  \n",
       "1178    7984.12           16.0         4.0     8    Лето  \n",
       "...         ...            ...         ...   ...     ...  \n",
       "18077       NaN           44.0        12.0     6    Лето  \n",
       "18110       NaN            NaN         NaN     9   Осень  \n",
       "18220       NaN           26.0        10.0     1    Зима  \n",
       "18353       NaN           27.0         7.0    12    Зима  \n",
       "18565       NaN            NaN         NaN     2    Зима  \n",
       "\n",
       "[7401 rows x 39 columns]"
      ],
      "text/html": [
       "<div>\n",
       "<style scoped>\n",
       "    .dataframe tbody tr th:only-of-type {\n",
       "        vertical-align: middle;\n",
       "    }\n",
       "\n",
       "    .dataframe tbody tr th {\n",
       "        vertical-align: top;\n",
       "    }\n",
       "\n",
       "    .dataframe thead th {\n",
       "        text-align: right;\n",
       "    }\n",
       "</style>\n",
       "<table border=\"1\" class=\"dataframe\">\n",
       "  <thead>\n",
       "    <tr style=\"text-align: right;\">\n",
       "      <th></th>\n",
       "      <th>Unnamed: 0</th>\n",
       "      <th>customer_id</th>\n",
       "      <th>age</th>\n",
       "      <th>gender_cd</th>\n",
       "      <th>region_size</th>\n",
       "      <th>foreign_flg</th>\n",
       "      <th>entrepreneur_flg</th>\n",
       "      <th>auto_flg</th>\n",
       "      <th>traveler_flg</th>\n",
       "      <th>partnership_flg</th>\n",
       "      <th>...</th>\n",
       "      <th>emp_marital_status_cd</th>\n",
       "      <th>flag</th>\n",
       "      <th>day_of_week</th>\n",
       "      <th>num_of_week</th>\n",
       "      <th>child_flg</th>\n",
       "      <th>income</th>\n",
       "      <th>segment_number</th>\n",
       "      <th>num_segment</th>\n",
       "      <th>month</th>\n",
       "      <th>season</th>\n",
       "    </tr>\n",
       "  </thead>\n",
       "  <tbody>\n",
       "    <tr>\n",
       "      <th>23</th>\n",
       "      <td>23</td>\n",
       "      <td>342879157</td>\n",
       "      <td>27.0</td>\n",
       "      <td>M</td>\n",
       "      <td>NaN</td>\n",
       "      <td>NaN</td>\n",
       "      <td>NaN</td>\n",
       "      <td>NaN</td>\n",
       "      <td>NaN</td>\n",
       "      <td>NaN</td>\n",
       "      <td>...</td>\n",
       "      <td>Холост/не замужем</td>\n",
       "      <td>0</td>\n",
       "      <td>Monday</td>\n",
       "      <td>0</td>\n",
       "      <td>1</td>\n",
       "      <td>20323.50</td>\n",
       "      <td>NaN</td>\n",
       "      <td>NaN</td>\n",
       "      <td>1</td>\n",
       "      <td>Зима</td>\n",
       "    </tr>\n",
       "    <tr>\n",
       "      <th>63</th>\n",
       "      <td>63</td>\n",
       "      <td>282407696</td>\n",
       "      <td>41.0</td>\n",
       "      <td>M</td>\n",
       "      <td>rural</td>\n",
       "      <td>0.0</td>\n",
       "      <td>1.0</td>\n",
       "      <td>1.0</td>\n",
       "      <td>0.0</td>\n",
       "      <td>1.0</td>\n",
       "      <td>...</td>\n",
       "      <td>Холост/не замужем</td>\n",
       "      <td>0</td>\n",
       "      <td>Saturday</td>\n",
       "      <td>5</td>\n",
       "      <td>0</td>\n",
       "      <td>15823.50</td>\n",
       "      <td>7.0</td>\n",
       "      <td>2.0</td>\n",
       "      <td>2</td>\n",
       "      <td>Зима</td>\n",
       "    </tr>\n",
       "    <tr>\n",
       "      <th>117</th>\n",
       "      <td>117</td>\n",
       "      <td>509469281</td>\n",
       "      <td>42.0</td>\n",
       "      <td>F</td>\n",
       "      <td>town</td>\n",
       "      <td>0.0</td>\n",
       "      <td>0.0</td>\n",
       "      <td>0.0</td>\n",
       "      <td>0.0</td>\n",
       "      <td>1.0</td>\n",
       "      <td>...</td>\n",
       "      <td>Холост/не замужем</td>\n",
       "      <td>0</td>\n",
       "      <td>Friday</td>\n",
       "      <td>4</td>\n",
       "      <td>1</td>\n",
       "      <td>13639.56</td>\n",
       "      <td>29.0</td>\n",
       "      <td>7.0</td>\n",
       "      <td>2</td>\n",
       "      <td>Зима</td>\n",
       "    </tr>\n",
       "    <tr>\n",
       "      <th>710</th>\n",
       "      <td>710</td>\n",
       "      <td>326663782</td>\n",
       "      <td>21.0</td>\n",
       "      <td>F</td>\n",
       "      <td>town</td>\n",
       "      <td>0.0</td>\n",
       "      <td>0.0</td>\n",
       "      <td>1.0</td>\n",
       "      <td>0.0</td>\n",
       "      <td>1.0</td>\n",
       "      <td>...</td>\n",
       "      <td>NaN</td>\n",
       "      <td>0</td>\n",
       "      <td>Thursday</td>\n",
       "      <td>3</td>\n",
       "      <td>0</td>\n",
       "      <td>12878.91</td>\n",
       "      <td>36.0</td>\n",
       "      <td>9.0</td>\n",
       "      <td>10</td>\n",
       "      <td>Осень</td>\n",
       "    </tr>\n",
       "    <tr>\n",
       "      <th>1178</th>\n",
       "      <td>1178</td>\n",
       "      <td>480706447</td>\n",
       "      <td>44.0</td>\n",
       "      <td>M</td>\n",
       "      <td>town</td>\n",
       "      <td>0.0</td>\n",
       "      <td>0.0</td>\n",
       "      <td>0.0</td>\n",
       "      <td>0.0</td>\n",
       "      <td>1.0</td>\n",
       "      <td>...</td>\n",
       "      <td>NaN</td>\n",
       "      <td>0</td>\n",
       "      <td>Friday</td>\n",
       "      <td>4</td>\n",
       "      <td>1</td>\n",
       "      <td>7984.12</td>\n",
       "      <td>16.0</td>\n",
       "      <td>4.0</td>\n",
       "      <td>8</td>\n",
       "      <td>Лето</td>\n",
       "    </tr>\n",
       "    <tr>\n",
       "      <th>...</th>\n",
       "      <td>...</td>\n",
       "      <td>...</td>\n",
       "      <td>...</td>\n",
       "      <td>...</td>\n",
       "      <td>...</td>\n",
       "      <td>...</td>\n",
       "      <td>...</td>\n",
       "      <td>...</td>\n",
       "      <td>...</td>\n",
       "      <td>...</td>\n",
       "      <td>...</td>\n",
       "      <td>...</td>\n",
       "      <td>...</td>\n",
       "      <td>...</td>\n",
       "      <td>...</td>\n",
       "      <td>...</td>\n",
       "      <td>...</td>\n",
       "      <td>...</td>\n",
       "      <td>...</td>\n",
       "      <td>...</td>\n",
       "      <td>...</td>\n",
       "    </tr>\n",
       "    <tr>\n",
       "      <th>18077</th>\n",
       "      <td>18077</td>\n",
       "      <td>584331549</td>\n",
       "      <td>NaN</td>\n",
       "      <td>M</td>\n",
       "      <td>town</td>\n",
       "      <td>0.0</td>\n",
       "      <td>0.0</td>\n",
       "      <td>0.0</td>\n",
       "      <td>0.0</td>\n",
       "      <td>0.0</td>\n",
       "      <td>...</td>\n",
       "      <td>NaN</td>\n",
       "      <td>0</td>\n",
       "      <td>Wednesday</td>\n",
       "      <td>2</td>\n",
       "      <td>0</td>\n",
       "      <td>NaN</td>\n",
       "      <td>44.0</td>\n",
       "      <td>12.0</td>\n",
       "      <td>6</td>\n",
       "      <td>Лето</td>\n",
       "    </tr>\n",
       "    <tr>\n",
       "      <th>18110</th>\n",
       "      <td>18110</td>\n",
       "      <td>525669032</td>\n",
       "      <td>NaN</td>\n",
       "      <td>F</td>\n",
       "      <td>NaN</td>\n",
       "      <td>NaN</td>\n",
       "      <td>NaN</td>\n",
       "      <td>NaN</td>\n",
       "      <td>NaN</td>\n",
       "      <td>NaN</td>\n",
       "      <td>...</td>\n",
       "      <td>NaN</td>\n",
       "      <td>0</td>\n",
       "      <td>Thursday</td>\n",
       "      <td>3</td>\n",
       "      <td>1</td>\n",
       "      <td>NaN</td>\n",
       "      <td>NaN</td>\n",
       "      <td>NaN</td>\n",
       "      <td>9</td>\n",
       "      <td>Осень</td>\n",
       "    </tr>\n",
       "    <tr>\n",
       "      <th>18220</th>\n",
       "      <td>18220</td>\n",
       "      <td>539821879</td>\n",
       "      <td>NaN</td>\n",
       "      <td>NaN</td>\n",
       "      <td>msk</td>\n",
       "      <td>1.0</td>\n",
       "      <td>0.0</td>\n",
       "      <td>0.0</td>\n",
       "      <td>0.0</td>\n",
       "      <td>1.0</td>\n",
       "      <td>...</td>\n",
       "      <td>NaN</td>\n",
       "      <td>0</td>\n",
       "      <td>Thursday</td>\n",
       "      <td>3</td>\n",
       "      <td>0</td>\n",
       "      <td>NaN</td>\n",
       "      <td>26.0</td>\n",
       "      <td>10.0</td>\n",
       "      <td>1</td>\n",
       "      <td>Зима</td>\n",
       "    </tr>\n",
       "    <tr>\n",
       "      <th>18353</th>\n",
       "      <td>18353</td>\n",
       "      <td>476196896</td>\n",
       "      <td>NaN</td>\n",
       "      <td>NaN</td>\n",
       "      <td>urban</td>\n",
       "      <td>1.0</td>\n",
       "      <td>0.0</td>\n",
       "      <td>0.0</td>\n",
       "      <td>0.0</td>\n",
       "      <td>0.0</td>\n",
       "      <td>...</td>\n",
       "      <td>NaN</td>\n",
       "      <td>0</td>\n",
       "      <td>Sunday</td>\n",
       "      <td>6</td>\n",
       "      <td>0</td>\n",
       "      <td>NaN</td>\n",
       "      <td>27.0</td>\n",
       "      <td>7.0</td>\n",
       "      <td>12</td>\n",
       "      <td>Зима</td>\n",
       "    </tr>\n",
       "    <tr>\n",
       "      <th>18565</th>\n",
       "      <td>18565</td>\n",
       "      <td>484398797</td>\n",
       "      <td>NaN</td>\n",
       "      <td>NaN</td>\n",
       "      <td>NaN</td>\n",
       "      <td>NaN</td>\n",
       "      <td>NaN</td>\n",
       "      <td>NaN</td>\n",
       "      <td>NaN</td>\n",
       "      <td>NaN</td>\n",
       "      <td>...</td>\n",
       "      <td>NaN</td>\n",
       "      <td>0</td>\n",
       "      <td>Thursday</td>\n",
       "      <td>3</td>\n",
       "      <td>1</td>\n",
       "      <td>NaN</td>\n",
       "      <td>NaN</td>\n",
       "      <td>NaN</td>\n",
       "      <td>2</td>\n",
       "      <td>Зима</td>\n",
       "    </tr>\n",
       "  </tbody>\n",
       "</table>\n",
       "<p>7401 rows × 39 columns</p>\n",
       "</div>"
      ]
     },
     "execution_count": 249,
     "metadata": {},
     "output_type": "execute_result"
    }
   ],
   "execution_count": 249
  },
  {
   "metadata": {
    "ExecuteTime": {
     "end_time": "2024-12-06T21:19:27.282886Z",
     "start_time": "2024-12-06T21:19:27.275364Z"
    }
   },
   "cell_type": "code",
   "source": "ccc['wo_hit_status_reason_desc'].value_counts()",
   "id": "b41fa4b1feb16361",
   "outputs": [
    {
     "data": {
      "text/plain": [
       "wo_hit_status_reason_desc\n",
       "Кредитная карта не нужна                                      3864\n",
       "Кредит уже не нужен                                            756\n",
       "Третье лицо                                                    499\n",
       "Назначена встреча                                              493\n",
       "Другое                                                         270\n",
       "                                                              ... \n",
       "Не выполню условия Premium                                       1\n",
       "Интересна агентская сеть, будет пользоваться POS-кредитами       1\n",
       "Перезвонит самостоятельно                                        1\n",
       "Карту навязали                                                   1\n",
       "Экстра-оффер                                                     1\n",
       "Name: count, Length: 68, dtype: int64"
      ]
     },
     "execution_count": 250,
     "metadata": {},
     "output_type": "execute_result"
    }
   ],
   "execution_count": 250
  },
  {
   "metadata": {
    "ExecuteTime": {
     "end_time": "2024-12-07T16:00:59.613372Z",
     "start_time": "2024-12-07T16:00:59.526737Z"
    }
   },
   "cell_type": "code",
   "source": "cl[cl['region_size'] == 'msk'][['num_segment', 'flag']].groupby(by='num_segment').mean()",
   "id": "a409b7183a04451",
   "outputs": [
    {
     "data": {
      "text/plain": [
       "                 flag\n",
       "num_segment          \n",
       "1.0          0.083333\n",
       "2.0          0.208333\n",
       "3.0          0.250000\n",
       "4.0          0.096774\n",
       "5.0          0.250000\n",
       "6.0          0.300000\n",
       "7.0          0.214286\n",
       "8.0          0.125000\n",
       "9.0          0.333333\n",
       "10.0         0.181818\n",
       "11.0         0.000000"
      ],
      "text/html": [
       "<div>\n",
       "<style scoped>\n",
       "    .dataframe tbody tr th:only-of-type {\n",
       "        vertical-align: middle;\n",
       "    }\n",
       "\n",
       "    .dataframe tbody tr th {\n",
       "        vertical-align: top;\n",
       "    }\n",
       "\n",
       "    .dataframe thead th {\n",
       "        text-align: right;\n",
       "    }\n",
       "</style>\n",
       "<table border=\"1\" class=\"dataframe\">\n",
       "  <thead>\n",
       "    <tr style=\"text-align: right;\">\n",
       "      <th></th>\n",
       "      <th>flag</th>\n",
       "    </tr>\n",
       "    <tr>\n",
       "      <th>num_segment</th>\n",
       "      <th></th>\n",
       "    </tr>\n",
       "  </thead>\n",
       "  <tbody>\n",
       "    <tr>\n",
       "      <th>1.0</th>\n",
       "      <td>0.083333</td>\n",
       "    </tr>\n",
       "    <tr>\n",
       "      <th>2.0</th>\n",
       "      <td>0.208333</td>\n",
       "    </tr>\n",
       "    <tr>\n",
       "      <th>3.0</th>\n",
       "      <td>0.250000</td>\n",
       "    </tr>\n",
       "    <tr>\n",
       "      <th>4.0</th>\n",
       "      <td>0.096774</td>\n",
       "    </tr>\n",
       "    <tr>\n",
       "      <th>5.0</th>\n",
       "      <td>0.250000</td>\n",
       "    </tr>\n",
       "    <tr>\n",
       "      <th>6.0</th>\n",
       "      <td>0.300000</td>\n",
       "    </tr>\n",
       "    <tr>\n",
       "      <th>7.0</th>\n",
       "      <td>0.214286</td>\n",
       "    </tr>\n",
       "    <tr>\n",
       "      <th>8.0</th>\n",
       "      <td>0.125000</td>\n",
       "    </tr>\n",
       "    <tr>\n",
       "      <th>9.0</th>\n",
       "      <td>0.333333</td>\n",
       "    </tr>\n",
       "    <tr>\n",
       "      <th>10.0</th>\n",
       "      <td>0.181818</td>\n",
       "    </tr>\n",
       "    <tr>\n",
       "      <th>11.0</th>\n",
       "      <td>0.000000</td>\n",
       "    </tr>\n",
       "  </tbody>\n",
       "</table>\n",
       "</div>"
      ]
     },
     "execution_count": 251,
     "metadata": {},
     "output_type": "execute_result"
    }
   ],
   "execution_count": 251
  },
  {
   "metadata": {},
   "cell_type": "code",
   "outputs": [],
   "execution_count": null,
   "source": "",
   "id": "248b1be3a151114c"
  }
 ],
 "metadata": {
  "kernelspec": {
   "display_name": "Python 3",
   "language": "python",
   "name": "python3"
  },
  "language_info": {
   "codemirror_mode": {
    "name": "ipython",
    "version": 2
   },
   "file_extension": ".py",
   "mimetype": "text/x-python",
   "name": "python",
   "nbconvert_exporter": "python",
   "pygments_lexer": "ipython2",
   "version": "2.7.6"
  }
 },
 "nbformat": 4,
 "nbformat_minor": 5
}
