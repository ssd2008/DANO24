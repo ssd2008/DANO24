{
 "cells": [
  {
   "cell_type": "code",
   "id": "initial_id",
   "metadata": {
    "collapsed": true,
    "ExecuteTime": {
     "end_time": "2024-12-12T22:03:14.889168Z",
     "start_time": "2024-12-12T22:03:14.885264Z"
    }
   },
   "source": [
    "import pandas as pd\n",
    "import numpy as np\n",
    "import matplotlib.pyplot as plt\n",
    "import seaborn as sns\n",
    "import warnings\n",
    "\n",
    "from numpy.ma.core import count\n",
    "from prompt_toolkit.key_binding.bindings.named_commands import yank_pop\n",
    "\n",
    "warnings.filterwarnings('ignore')"
   ],
   "outputs": [],
   "execution_count": 1
  },
  {
   "metadata": {
    "ExecuteTime": {
     "end_time": "2024-12-13T14:03:35.407955Z",
     "start_time": "2024-12-13T14:03:35.114335Z"
    }
   },
   "cell_type": "code",
   "source": [
    "bd = pd.read_csv('final.csv')\n",
    "bd['finish_dttm'] = pd.to_datetime(bd['finish_dttm'])\n",
    "bd['age'] = bd['age'].str.replace(',', '.').astype(float)\n",
    "bd['flag'] = (bd['wo_hit_status_result_desc'] == 'Дозвон, Успешно')\n",
    "bd['flag'] = bd['flag'].astype(int)\n",
    "\n",
    "days_of_week = bd['finish_dttm'].dt.day_name()\n",
    "days_of_week_num = bd['finish_dttm'].dt.weekday\n",
    "bd['day_of_week'] = days_of_week\n",
    "bd['num_of_week'] = days_of_week_num\n",
    "\n",
    "def vibrosi(bd, i, x):\n",
    "    return pd.concat([bd[bd[i] < x], bd[bd[i].isna()]])\n",
    "def vibrosiVniz(bd, i, x):\n",
    "    return pd.concat([bd[bd[i] > x], bd[bd[i].isna()]])\n",
    "def percentsByRegion(bd, i):\n",
    "    df = bd.copy()\n",
    "    pt = df[df['region_size'] == i][df['age'] >= 18][df['age'] < 60][['age', 'flag']].pivot_table(index='age', columns='product_cd', values='flag', aggfunc=['sum', 'count'])\n",
    "    # pt['percent'] = pt[(  'sum', 'flag')] / pt[('count', 'flag')] * 100\n",
    "    # pt[pt['percent'] != 0]\n",
    "\n",
    "bd['child_flg'] = bd['child_amt'] != 0\n",
    "bd['child_flg'] = bd['child_flg'].astype(int)\n",
    "\n",
    "bd = vibrosi(bd, 'confirmed_income', 40000)\n",
    "bd = vibrosi(bd, 'predicted_income', 45000)\n",
    "bd = vibrosiVniz(bd, 'predicted_income', 0)\n",
    "bd = vibrosiVniz(bd, 'age', 13)\n",
    "# хочу делить по: age, auto_flg, partnership_flg, child_flg, realty_type, functional_cd, emp_work_months_cnt, emp_gender_cd, emp_age\n",
    "\n",
    "df = bd.drop(bd[bd['wo_hit_status_reason_desc'].isin(['Отказ прослушать предложение', 'Не звонить', 'Левый контакт', 'Отказ от диалога', 'отказ от диалога', 'Отказ от разговора', 'Не звонить, резкий негатив', 'Негатив/Не звонить', 'Отказ без объяснения причин', 'просит не звонить', 'Не звонить / резкий негатив', 'Вежливо попросил не звонить', 'Номер не принадлежит страхователю', 'отказ без объяснения причин', 'Отказался озвучить причину', 'Чёрный список', 'негатив к Тинькофф', 'Грубо попросил не звонить', 'Не звонить (негатив)', 'Отказался от диалога', 'Просит больше не звонить', 'Недозвон', 'некорректная заявка', 'Техническая ошибка', 'Не нравится Т-Банк', 'Негатив к Т-Банку', 'Негативная информация о клиенте', 'Отказ без объяснения причины', 'Неизвестен / Не контактирует', 'Человек не участвовал в Дано', 'отменили'])].index)\n",
    "\n",
    "df['income'] = df['confirmed_income'].fillna(df['predicted_income'])\n",
    "df['segment_number'] = df['segment_cd'].str.extract(r'\\((\\d+)\\)').astype(float)\n",
    "df['num_segment'] = (df['segment_cd'].str[2:4])\n",
    "df['num_segment'] = df['num_segment'].astype(float)\n",
    "\n",
    "# Функция для определения сезона по номеру месяца\n",
    "def get_season(month):\n",
    "    if month in [12, 1, 2]:\n",
    "        return 'Зима'\n",
    "    elif month in [3, 4, 5]:\n",
    "        return 'Весна'\n",
    "    elif month in [6, 7, 8]:\n",
    "        return 'Лето'\n",
    "    elif month in [9, 10, 11]:\n",
    "        return 'Осень'\n",
    "\n",
    "# Преобразуем finish_dttm в datetime, если нужно\n",
    "df['finish_dttm'] = pd.to_datetime(df['finish_dttm'])\n",
    "\n",
    "# Извлекаем номер месяца\n",
    "df['month'] = df['finish_dttm'].dt.month\n",
    "df['hours'] = df['finish_dttm'].dt.hour\n",
    "\n",
    "# Применяем функцию для создания нового столбца season\n",
    "df['season'] = df['month'].apply(get_season)\n"
   ],
   "id": "1b146df47724373b",
   "outputs": [],
   "execution_count": 171
  },
  {
   "metadata": {
    "ExecuteTime": {
     "end_time": "2024-12-13T14:03:43.302096Z",
     "start_time": "2024-12-13T14:03:35.878444Z"
    }
   },
   "cell_type": "code",
   "source": [
    "emp = df[['employee_id', 'emp_age', 'emp_age_new', 'emp_gender_cd', 'emp_children_cnt', 'emp_work_months_cnt', 'state_talk_time_sec', 'flag']].groupby(by=['employee_id', 'emp_gender_cd']).mean()\n",
    "emp.reset_index(inplace=True)\n",
    "emp['time_uspeh'] = 0\n",
    "\n",
    "def ok(id):\n",
    "    return df[df['flag'] == 1][df['employee_id'] == id]['state_talk_time_sec'].mean()\n",
    "\n",
    "emp['time_uspeh'] = emp['employee_id'].apply(ok)\n",
    "\n",
    "def min(id):\n",
    "    if len(df[df['flag'] == 1][df['employee_id'] == id]['employee_id'].tolist()) == 0:\n",
    "        return 0\n",
    "    return np.percentile(df[df['flag'] == 1][df['employee_id'] == id]['age'], 25)\n",
    "\n",
    "def max(id):\n",
    "    if len(df[df['flag'] == 1][df['employee_id'] == id]['employee_id'].tolist()) == 0:\n",
    "        return 0\n",
    "    return np.percentile(df[df['flag'] == 1][df['employee_id'] == id]['age'], 75)\n",
    "\n",
    "emp['min_age'] = emp['employee_id'].apply(min)\n",
    "emp['max_age'] = emp['employee_id'].apply(max)\n",
    "\n",
    "# 1. Считаем успешность по employee_id и gender_cd\n",
    "success_rates = (\n",
    "    df.groupby(['employee_id', 'gender_cd'])['flag']\n",
    "    .mean()\n",
    "    .reset_index()\n",
    "    .rename(columns={'flag': 'success_rate'})\n",
    ")\n",
    "\n",
    "# 2. Для каждого employee_id выбираем gender_cd с максимальной успешностью\n",
    "best_gender_per_employee = (\n",
    "    success_rates.loc[success_rates.groupby('employee_id')['success_rate'].idxmax()]\n",
    "    [['employee_id', 'gender_cd']]\n",
    "    .rename(columns={'gender_cd': 'lovely_gender_cd'})\n",
    ")\n",
    "\n",
    "emp = emp.merge(best_gender_per_employee, on='employee_id', how='left')\n",
    "\n",
    "# Рассчитываем процент успешности по каждому оператору и продукту\n",
    "success_rate = df[['employee_id', 'product_cd', 'flag']].groupby(['employee_id', 'product_cd'])['flag'].mean().reset_index()\n",
    "success_rate.rename(columns={'flag': 'success_rate'}, inplace=True)\n",
    "\n",
    "# Для каждого оператора выбираем продукт с наибольшим процентом успешности\n",
    "best_product = success_rate.loc[success_rate.groupby('employee_id')['success_rate'].idxmax()]\n",
    "\n",
    "# Добавляем столбец best_product в исходный DataFrame\n",
    "emp = emp.merge(best_product[['employee_id', 'product_cd']], on='employee_id', how='left')\n",
    "emp.rename(columns={'product_cd': 'best_product'}, inplace=True)\n",
    "\n",
    "emp = emp.rename({'flag' : 'emp_mean_flag'}, axis=1)\n",
    "\n",
    "df_plus_emp = df.merge(emp[['employee_id', 'emp_mean_flag', 'time_uspeh', 'min_age', 'max_age', 'lovely_gender_cd', 'best_product']], on='employee_id', how='left')\n",
    "df_plus_emp['emps_product'] = (df_plus_emp['product_cd'] == df_plus_emp['best_product']).astype(int)\n",
    "\n",
    "df_plus_emp['gender_match'] = (df_plus_emp['gender_cd'] == df_plus_emp['emp_gender_cd']).astype(int)\n",
    "df_plus_emp['age_matching'] = ((df_plus_emp['age'] - df_plus_emp['emp_age']).abs() <= 5).astype(int)\n",
    "\n",
    "df_plus_emp['lovely_gender_cd_encoded'] = (df_plus_emp['lovely_gender_cd'] == 'M').astype(int)\n",
    "\n",
    "df_plus_emp['emps_lovely_age'] = ((df_plus_emp['min_age'] < df_plus_emp['age']) & (df_plus_emp['age'] < df_plus_emp['max_age'])).astype(int)\n",
    "\n",
    "df_plus_emp['child_by_emp_and_cd_flg'] = ((df_plus_emp['child_amt'] > 0) * (df_plus_emp['emp_children_cnt'] > 0)).astype(int)\n",
    "\n",
    "def sha_budet_rok(x):\n",
    "    if x <= 25:\n",
    "        return '14-25'\n",
    "    elif x <= 35:\n",
    "        return '26-35'\n",
    "    elif x <= 45:\n",
    "        return '36-45'\n",
    "    elif x <= 60:\n",
    "        return '45-60'\n",
    "    else:\n",
    "        return '60+'\n",
    "\n",
    "\n",
    "df_plus_emp['age_groups_cd'] = df_plus_emp['age'].apply(lambda x: sha_budet_rok(x))\n",
    "df_plus_emp['age_groups_emp'] = df_plus_emp['emp_age_new'].apply(lambda x: sha_budet_rok(x))\n",
    "df_plus_emp['age_group_matching'] = (df_plus_emp['age_groups_cd'] == df_plus_emp['age_groups_emp']).astype(int)\n"
   ],
   "id": "50de35978fcbc67a",
   "outputs": [],
   "execution_count": 172
  },
  {
   "metadata": {
    "ExecuteTime": {
     "end_time": "2024-12-13T14:03:43.404596Z",
     "start_time": "2024-12-13T14:03:43.307319Z"
    }
   },
   "cell_type": "code",
   "source": [
    "import pandasql as ps\n",
    "\n",
    "upsell = df_plus_emp[df_plus_emp['functional_cd'].isin(['Upsell'])]\n",
    "upsell = upsell.reset_index()\n",
    "\n",
    "q1 = \"\"\"\n",
    "SELECT * FROM upsell \n",
    "WHERE \"index\" NOT IN (\n",
    "    SELECT \"index\" \n",
    "    FROM upsell \n",
    "    WHERE wo_hit_status_reason_desc IN ( \n",
    "        'Другой банк', 'Третье лицо', 'Кредит уже не нужен', 'Другое'\n",
    "    )\n",
    ")\n",
    "\"\"\"\n",
    "upsell = ps.sqldf(q1, locals())"
   ],
   "id": "6261d641e3e2422e",
   "outputs": [],
   "execution_count": 173
  },
  {
   "metadata": {
    "ExecuteTime": {
     "end_time": "2024-12-13T13:46:43.956287Z",
     "start_time": "2024-12-13T13:46:43.823938Z"
    }
   },
   "cell_type": "code",
   "source": [
    "import pandasql as ps\n",
    "\n",
    "upsell2 = df_plus_emp[df_plus_emp['functional_cd'].isin(['Upsell'])]\n",
    "upsell2 = upsell2.reset_index()\n",
    "\n",
    "q2 = \"\"\"\n",
    "SELECT * FROM upsell2\n",
    "WHERE \"index\" NOT IN (\n",
    "    SELECT \"index\" \n",
    "    FROM upsell2\n",
    "    WHERE wo_hit_status_reason_desc IN ( \n",
    "        'Другой банк', 'Третье лицо'\n",
    "    )\n",
    ")\n",
    "\"\"\"\n",
    "upsell2 = ps.sqldf(q2, locals())"
   ],
   "id": "55ece9972ec6b7c5",
   "outputs": [],
   "execution_count": 131
  },
  {
   "metadata": {
    "ExecuteTime": {
     "end_time": "2024-12-13T13:46:46.561641Z",
     "start_time": "2024-12-13T13:46:46.434704Z"
    }
   },
   "cell_type": "code",
   "source": [
    "import pandasql as ps\n",
    "\n",
    "upsell4 = df_plus_emp[df_plus_emp['functional_cd'].isin(['Upsell'])]\n",
    "upsell4 = upsell4.reset_index()\n",
    "\n",
    "q4 = \"\"\"\n",
    "SELECT * FROM upsell4\n",
    "WHERE \"index\" NOT IN (\n",
    "    SELECT \"index\" \n",
    "    FROM upsell4\n",
    "    WHERE wo_hit_status_reason_desc IN ( \n",
    "        'Другой банк', 'Третье лицо', 'Кредит уже не нужен'\n",
    "    )\n",
    ")\n",
    "\"\"\"\n",
    "upsell4 = ps.sqldf(q4, locals())"
   ],
   "id": "47f02a12180179eb",
   "outputs": [],
   "execution_count": 132
  },
  {
   "metadata": {
    "ExecuteTime": {
     "end_time": "2024-12-13T13:47:07.420941Z",
     "start_time": "2024-12-13T13:47:07.411419Z"
    }
   },
   "cell_type": "code",
   "source": [
    "import pandasql as ps\n",
    "\n",
    "upsell3 = df_plus_emp[df_plus_emp['functional_cd'].isin(['Upsell'])]\n",
    "upsell3 = upsell3.reset_index()\n",
    "\n",
    "# q3 = \"\"\"\n",
    "# SELECT * FROM upsell3\n",
    "# WHERE \"index\" NOT IN (\n",
    "#     SELECT \"index\" \n",
    "#     FROM upsell3\n",
    "#     WHERE wo_hit_status_reason_desc IN ( \n",
    "#         'Другой банк', 'Третье лицо'\n",
    "#     )\n",
    "# )\n",
    "# \"\"\"\n",
    "# upsell3 = ps.sqldf(q3, locals())"
   ],
   "id": "a8bb6a6e40d99004",
   "outputs": [],
   "execution_count": 133
  },
  {
   "metadata": {
    "ExecuteTime": {
     "end_time": "2024-12-12T16:42:22.189964Z",
     "start_time": "2024-12-12T16:42:21.964022Z"
    }
   },
   "cell_type": "code",
   "source": [
    "from scipy.stats import chi2_contingency\n",
    "\n",
    "def KOSTIL(df, i, j):\n",
    "    while i <= j:\n",
    "        df = df[df['num_segment'] != i]\n",
    "        i += 1\n",
    "    return df\n",
    "\n",
    "p_val = 112\n",
    "ibest = -1\n",
    "jbest = -1\n",
    "\n",
    "for i in range(3, 10):\n",
    "    for j in range(i+1, 10):\n",
    "        df_credit = upsell.copy()\n",
    "        df_credit['low_income_flg'] = (df_credit['num_segment'].isin([i for i in range(12, j, -1)])).astype(int)\n",
    "        df_credit = KOSTIL(df_credit, i, j)\n",
    "        \n",
    "        # Таблица сопряженности: low_income_flg и flag (успех)\n",
    "        contingency_table = pd.crosstab(df_credit['low_income_flg'], df_credit['flag'])\n",
    "        \n",
    "        # Тест хи-квадрат\n",
    "        chi2, p, dof, expected = chi2_contingency(contingency_table)\n",
    "        \n",
    "        if p < 0.05:\n",
    "            print(i, j)\n",
    "        \n",
    "        if p < p_val:\n",
    "            p_val = p\n",
    "            ibest = i\n",
    "            jbest = j\n",
    "\n",
    "print()\n",
    "\n",
    "df_credit = upsell.copy()\n",
    "df_credit['low_income_flg'] = (df_credit['num_segment'].isin([i for i in range(12, jbest, -1)])).astype(int)\n",
    "df_credit = KOSTIL(df_credit, ibest, jbest)\n",
    "\n",
    "# Таблица сопряженности: low_income_flg и flag (успех)\n",
    "contingency_table = pd.crosstab(df_credit['low_income_flg'], df_credit['flag'])\n",
    "\n",
    "# Тест хи-квадрат\n",
    "chi2, p, dof, expected = chi2_contingency(contingency_table)\n",
    "\n",
    "print(\"Хи-квадрат статистика:\", chi2)\n",
    "print(\"p-value:\", p)\n",
    "print(\"i, j:\", ibest, jbest)\n",
    "\n",
    "# Интерпретация\n",
    "if p < 0.05:\n",
    "    print(\"Гипотеза подтверждена: низкий доход влияет на успешность апселла\")\n",
    "else:\n",
    "    print(\"Гипотеза не подтверждена: связь между доходом и успешностью отсутствует\")"
   ],
   "id": "343b70371813fa0f",
   "outputs": [
    {
     "name": "stdout",
     "output_type": "stream",
     "text": [
      "3 6\n",
      "3 7\n",
      "3 8\n",
      "3 9\n",
      "4 7\n",
      "4 9\n",
      "5 7\n",
      "5 9\n",
      "6 7\n",
      "6 8\n",
      "6 9\n",
      "7 8\n",
      "7 9\n",
      "8 9\n",
      "\n",
      "Хи-квадрат статистика: 12.281119037302085\n",
      "p-value: 0.000457563925466835\n",
      "i, j: 3 9\n",
      "Гипотеза подтверждена: низкий доход влияет на успешность апселла\n"
     ]
    }
   ],
   "execution_count": 247
  },
  {
   "metadata": {
    "ExecuteTime": {
     "end_time": "2024-12-12T20:27:34.355319Z",
     "start_time": "2024-12-12T20:27:34.337203Z"
    }
   },
   "cell_type": "code",
   "source": [
    "from scipy.stats import chi2_contingency\n",
    "\n",
    "def KOSTIL(df, i, j):\n",
    "    while i <= j:\n",
    "        df = df[df['num_segment'] != i]\n",
    "        i += 1\n",
    "    return df\n",
    "\n",
    "df_credit = upsell[upsell['region_size'] == 'town'][upsell['num_segment'] > 0].copy()\n",
    "ibest = 6\n",
    "jbest = ibest\n",
    "\n",
    "df_credit['low_income_flg'] = (df_credit['num_segment'].isin([i for i in range(12, jbest+1, -1)])).astype(int)\n",
    "df_credit = KOSTIL(df_credit, ibest, jbest)\n",
    "\n",
    "# Таблица сопряженности: low_income_flg и flag (успех)\n",
    "contingency_table = pd.crosstab(df_credit['low_income_flg'], df_credit['flag'])\n",
    "\n",
    "# Тест хи-квадрат\n",
    "chi2, p, dof, expected = chi2_contingency(contingency_table)\n",
    "  \n",
    "print(\"Хи-квадрат статистика:\", chi2)\n",
    "print(\"p-value:\", p)\n",
    "print(\"i, j:\", ibest, jbest)\n",
    "\n",
    "# Интерпретация\n",
    "if p < 0.05:\n",
    "    print(\"Гипотеза подтверждена: низкий доход влияет на успешность апселла\")\n",
    "else:\n",
    "    print(\"Гипотеза не подтверждена: связь между доходом и успешностью отсутствует\")"
   ],
   "id": "d0bfe8194b7614c3",
   "outputs": [
    {
     "name": "stdout",
     "output_type": "stream",
     "text": [
      "Хи-квадрат статистика: 3.309197035757145\n",
      "p-value: 0.06889314699264013\n",
      "i, j: 6 6\n",
      "Гипотеза не подтверждена: связь между доходом и успешностью отсутствует\n"
     ]
    }
   ],
   "execution_count": 307
  },
  {
   "metadata": {
    "ExecuteTime": {
     "end_time": "2024-12-12T15:04:10.987141Z",
     "start_time": "2024-12-12T15:04:10.970701Z"
    }
   },
   "cell_type": "code",
   "source": [
    "ibest = 3\n",
    "jbest = 7\n",
    "\n",
    "df_credit = upsell2[upsell2['gender_cd'] == 'M'].copy()\n",
    "df_credit['low_income_flg'] = (df_credit['num_segment'].isin([i for i in range(12, jbest, -1)])).astype(int)\n",
    "df_credit = KOSTIL(df_credit, ibest, jbest)\n",
    "\n",
    "# Таблица сопряженности: low_income_flg и flag (успех)\n",
    "contingency_table = pd.crosstab(df_credit['low_income_flg'], df_credit['flag'])\n",
    "\n",
    "# Тест хи-квадрат\n",
    "chi2, p, dof, expected = chi2_contingency(contingency_table)\n",
    "  \n",
    "print(\"Хи-квадрат статистика:\", chi2)\n",
    "print(\"p-value:\", p)\n",
    "print(\"i, j:\", ibest, jbest)\n",
    "\n",
    "# Интерпретация\n",
    "if p < 0.05:\n",
    "    print(\"Гипотеза подтверждена: низкий доход влияет на успешность апселла\")\n",
    "else:\n",
    "    print(\"Гипотеза не подтверждена: связь между доходом и успешностью отсутствует\")"
   ],
   "id": "24294b58f5bae396",
   "outputs": [
    {
     "name": "stdout",
     "output_type": "stream",
     "text": [
      "Хи-квадрат статистика: 3.15\n",
      "p-value: 0.07592696298255787\n",
      "i, j: 3 7\n",
      "Гипотеза не подтверждена: связь между доходом и успешностью отсутствует\n"
     ]
    }
   ],
   "execution_count": 233
  },
  {
   "metadata": {
    "ExecuteTime": {
     "end_time": "2024-12-12T15:03:27.047370Z",
     "start_time": "2024-12-12T15:03:26.872420Z"
    }
   },
   "cell_type": "code",
   "source": [
    "from scipy.stats import chi2_contingency\n",
    "\n",
    "def KOSTIL(df, i, j):\n",
    "    while i <= j:\n",
    "        df = df[df['num_segment'] != i]\n",
    "        i += 1\n",
    "    return df\n",
    "\n",
    "p_val = 112\n",
    "ibest = -1\n",
    "jbest = -1\n",
    "\n",
    "for i in range(3, 10):\n",
    "    for j in range(i+1, 10):\n",
    "        df_credit = upsell2[upsell2['gender_cd'] == 'F'].copy()\n",
    "        df_credit['low_income_flg'] = (df_credit['num_segment'].isin([i for i in range(12, j, -1)])).astype(int)\n",
    "        df_credit = KOSTIL(df_credit, i, j)\n",
    "        \n",
    "        # Таблица сопряженности: low_income_flg и flag (успех)\n",
    "        contingency_table = pd.crosstab(df_credit['low_income_flg'], df_credit['flag'])\n",
    "        \n",
    "        # Тест хи-квадрат\n",
    "        chi2, p, dof, expected = chi2_contingency(contingency_table)\n",
    "        \n",
    "        if p < 0.05:\n",
    "            print(i, j)\n",
    "        \n",
    "        if p < p_val:\n",
    "            p_val = p\n",
    "            ibest = i\n",
    "            jbest = j\n",
    "\n",
    "print()\n",
    "# \n",
    "# df_credit = upsell2[upsell2['auto_flg'] == 0].copy()\n",
    "# df_credit['low_income_flg'] = (df_credit['num_segment'].isin([i for i in range(12, jbest, -1)])).astype(int)\n",
    "# df_credit = KOSTIL(df_credit, ibest, jbest)\n",
    "# \n",
    "# # Таблица сопряженности: low_income_flg и flag (успех)\n",
    "# contingency_table = pd.crosstab(df_credit['low_income_flg'], df_credit['flag'])\n",
    "# \n",
    "# # Тест хи-квадрат\n",
    "# chi2, p, dof, expected = chi2_contingency(contingency_table)\n",
    "# \n",
    "# print(\"Хи-квадрат статистика:\", chi2)\n",
    "# print(\"p-value:\", p)\n",
    "# print(\"i, j:\", ibest, jbest)\n",
    "# \n",
    "# # Интерпретация\n",
    "# if p < 0.05:\n",
    "#     print(\"Гипотеза подтверждена: низкий доход влияет на успешность апселла\")\n",
    "# else:\n",
    "#     print(\"Гипотеза не подтверждена: связь между доходом и успешностью отсутствует\")"
   ],
   "id": "2e15fcdbee585a4c",
   "outputs": [
    {
     "name": "stdout",
     "output_type": "stream",
     "text": [
      "3 9\n",
      "4 9\n",
      "5 9\n",
      "6 9\n",
      "7 9\n",
      "8 9\n",
      "\n"
     ]
    }
   ],
   "execution_count": 229
  },
  {
   "metadata": {
    "ExecuteTime": {
     "end_time": "2024-12-12T18:24:44.053960Z",
     "start_time": "2024-12-12T18:24:43.909864Z"
    }
   },
   "cell_type": "code",
   "source": [
    "import scipy.stats as stats\n",
    "\n",
    "# Создаем таблицу сопряженности\n",
    "# Например, таблица успехов и неудач по группам\n",
    "table = pd.crosstab(upsell2['num_segment'], upsell2['flag'])\n",
    "# Выполняем точный тест Фишера\n",
    "oddsratio, p_value = stats.fisher_exact(table)\n",
    "\n",
    "print(\"Odds Ratio:\", oddsratio)\n",
    "print(\"P-value:\", p_value)"
   ],
   "id": "5c74b87ce6db9a39",
   "outputs": [
    {
     "ename": "ValueError",
     "evalue": "The input `table` must be of shape (2, 2).",
     "output_type": "error",
     "traceback": [
      "\u001B[0;31m---------------------------------------------------------------------------\u001B[0m",
      "\u001B[0;31mValueError\u001B[0m                                Traceback (most recent call last)",
      "\u001B[0;32m/var/folders/85/nvry22pd6nx6pfd1c1h6z_nr0000gp/T/ipykernel_44566/1563135437.py\u001B[0m in \u001B[0;36m?\u001B[0;34m()\u001B[0m\n\u001B[0;32m----> 7\u001B[0;31m \u001B[0;32mimport\u001B[0m \u001B[0mscipy\u001B[0m\u001B[0;34m.\u001B[0m\u001B[0mstats\u001B[0m \u001B[0;32mas\u001B[0m \u001B[0mstats\u001B[0m\u001B[0;34m\u001B[0m\u001B[0;34m\u001B[0m\u001B[0m\n\u001B[0m\u001B[1;32m      8\u001B[0m \u001B[0;34m\u001B[0m\u001B[0m\n\u001B[1;32m      9\u001B[0m \u001B[0;31m# Создаем таблицу сопряженности\u001B[0m\u001B[0;34m\u001B[0m\u001B[0;34m\u001B[0m\u001B[0;34m\u001B[0m\u001B[0m\n\u001B[1;32m     10\u001B[0m \u001B[0;31m# Например, таблица успехов и неудач по группам\u001B[0m\u001B[0;34m\u001B[0m\u001B[0;34m\u001B[0m\u001B[0;34m\u001B[0m\u001B[0m\n",
      "\u001B[0;32m~/Documents/src/dano24/zvonki/venv/lib/python3.9/site-packages/scipy/stats/_stats_py.py\u001B[0m in \u001B[0;36m?\u001B[0;34m(table, alternative)\u001B[0m\n\u001B[1;32m   5052\u001B[0m     \u001B[0mhypergeom\u001B[0m \u001B[0;34m=\u001B[0m \u001B[0mdistributions\u001B[0m\u001B[0;34m.\u001B[0m\u001B[0mhypergeom\u001B[0m\u001B[0;34m\u001B[0m\u001B[0;34m\u001B[0m\u001B[0m\n\u001B[1;32m   5053\u001B[0m     \u001B[0;31m# int32 is not enough for the algorithm\u001B[0m\u001B[0;34m\u001B[0m\u001B[0;34m\u001B[0m\u001B[0;34m\u001B[0m\u001B[0m\n\u001B[1;32m   5054\u001B[0m     \u001B[0mc\u001B[0m \u001B[0;34m=\u001B[0m \u001B[0mnp\u001B[0m\u001B[0;34m.\u001B[0m\u001B[0masarray\u001B[0m\u001B[0;34m(\u001B[0m\u001B[0mtable\u001B[0m\u001B[0;34m,\u001B[0m \u001B[0mdtype\u001B[0m\u001B[0;34m=\u001B[0m\u001B[0mnp\u001B[0m\u001B[0;34m.\u001B[0m\u001B[0mint64\u001B[0m\u001B[0;34m)\u001B[0m\u001B[0;34m\u001B[0m\u001B[0;34m\u001B[0m\u001B[0m\n\u001B[1;32m   5055\u001B[0m     \u001B[0;32mif\u001B[0m \u001B[0;32mnot\u001B[0m \u001B[0mc\u001B[0m\u001B[0;34m.\u001B[0m\u001B[0mshape\u001B[0m \u001B[0;34m==\u001B[0m \u001B[0;34m(\u001B[0m\u001B[0;36m2\u001B[0m\u001B[0;34m,\u001B[0m \u001B[0;36m2\u001B[0m\u001B[0;34m)\u001B[0m\u001B[0;34m:\u001B[0m\u001B[0;34m\u001B[0m\u001B[0;34m\u001B[0m\u001B[0m\n\u001B[0;32m-> 5056\u001B[0;31m         \u001B[0;32mraise\u001B[0m \u001B[0mValueError\u001B[0m\u001B[0;34m(\u001B[0m\u001B[0;34m\"The input `table` must be of shape (2, 2).\"\u001B[0m\u001B[0;34m)\u001B[0m\u001B[0;34m\u001B[0m\u001B[0;34m\u001B[0m\u001B[0m\n\u001B[0m\u001B[1;32m   5057\u001B[0m \u001B[0;34m\u001B[0m\u001B[0m\n\u001B[1;32m   5058\u001B[0m     \u001B[0;32mif\u001B[0m \u001B[0mnp\u001B[0m\u001B[0;34m.\u001B[0m\u001B[0many\u001B[0m\u001B[0;34m(\u001B[0m\u001B[0mc\u001B[0m \u001B[0;34m<\u001B[0m \u001B[0;36m0\u001B[0m\u001B[0;34m)\u001B[0m\u001B[0;34m:\u001B[0m\u001B[0;34m\u001B[0m\u001B[0;34m\u001B[0m\u001B[0m\n\u001B[1;32m   5059\u001B[0m         \u001B[0;32mraise\u001B[0m \u001B[0mValueError\u001B[0m\u001B[0;34m(\u001B[0m\u001B[0;34m\"All values in `table` must be nonnegative.\"\u001B[0m\u001B[0;34m)\u001B[0m\u001B[0;34m\u001B[0m\u001B[0;34m\u001B[0m\u001B[0m\n",
      "\u001B[0;31mValueError\u001B[0m: The input `table` must be of shape (2, 2)."
     ]
    }
   ],
   "execution_count": 283
  },
  {
   "metadata": {
    "ExecuteTime": {
     "end_time": "2024-12-12T20:26:39.507373Z",
     "start_time": "2024-12-12T20:26:39.490633Z"
    }
   },
   "cell_type": "code",
   "source": [
    "from scipy.stats import chi2_contingency\n",
    "\n",
    "def KOSTIL(df, i, j):\n",
    "    while i <= j:\n",
    "        df = df[df['num_segment'] != i]\n",
    "        i += 1\n",
    "    return df\n",
    "\n",
    "df_credit = upsell[upsell['region_size'] == 'msk'][upsell['num_segment'] > 0].copy()\n",
    "ibest = 3\n",
    "jbest = ibest\n",
    "\n",
    "df_credit['low_income_flg'] = (df_credit['num_segment'].isin([i for i in range(12, jbest+1, -1)])).astype(int)\n",
    "df_credit = KOSTIL(df_credit, ibest, jbest)\n",
    "\n",
    "# Таблица сопряженности: low_income_flg и flag (успех)\n",
    "contingency_table = pd.crosstab(df_credit['low_income_flg'], df_credit['flag'])\n",
    "\n",
    "# Тест хи-квадрат\n",
    "oddsratio, p_value = stats.fisher_exact(contingency_table)\n",
    "\n",
    "print(\"Odds Ratio:\", oddsratio)\n",
    "print(\"P-value:\", p_value)\n",
    "\n",
    "# Интерпретация\n",
    "if p_value < 0.05:\n",
    "    print(\"Гипотеза подтверждена: низкий доход влияет на успешность апселла\")\n",
    "else:\n",
    "    print(\"Гипотеза не подтверждена: связь между доходом и успешностью отсутствует\")"
   ],
   "id": "1dbe70237c36ca29",
   "outputs": [
    {
     "name": "stdout",
     "output_type": "stream",
     "text": [
      "Odds Ratio: 1.2682926829268293\n",
      "P-value: 1.0\n",
      "Гипотеза не подтверждена: связь между доходом и успешностью отсутствует\n"
     ]
    }
   ],
   "execution_count": 301
  },
  {
   "metadata": {
    "ExecuteTime": {
     "end_time": "2024-12-12T20:57:17.168968Z",
     "start_time": "2024-12-12T20:57:17.157567Z"
    }
   },
   "cell_type": "code",
   "source": "upsell2.columns",
   "id": "d4d34fe3bec27db2",
   "outputs": [
    {
     "data": {
      "text/plain": [
       "Index(['index', 'Unnamed: 0', 'customer_id', 'age', 'gender_cd', 'region_size',\n",
       "       'foreign_flg', 'entrepreneur_flg', 'auto_flg', 'traveler_flg',\n",
       "       'partnership_flg', 'child_amt', 'realty_type', 'segment_cd',\n",
       "       'bundle_nm', 'confirmed_income', 'predicted_income', 'product_cd',\n",
       "       'functional_cd', 'finish_dttm', 'state_talk_time_sec',\n",
       "       'wo_hit_status_result_desc', 'wo_hit_status_reason_desc', 'employee_id',\n",
       "       'emp_age', 'emp_age_new', 'emp_gender_cd', 'emp_children_cnt',\n",
       "       'emp_work_months_cnt', 'emp_citizenship_country_cd',\n",
       "       'emp_marital_status_cd', 'flag', 'day_of_week', 'num_of_week',\n",
       "       'child_flg', 'income', 'segment_number', 'num_segment', 'month',\n",
       "       'hours', 'season'],\n",
       "      dtype='object')"
      ]
     },
     "execution_count": 308,
     "metadata": {},
     "output_type": "execute_result"
    }
   ],
   "execution_count": 308
  },
  {
   "metadata": {
    "ExecuteTime": {
     "end_time": "2024-12-12T20:59:01.267542Z",
     "start_time": "2024-12-12T20:59:01.255198Z"
    }
   },
   "cell_type": "code",
   "source": "upsell2.pivot_table(index='customer_id', values='flag', aggfunc='count').sort_values(by='flag')",
   "id": "532568411f7c4efd",
   "outputs": [
    {
     "data": {
      "text/plain": [
       "             flag\n",
       "customer_id      \n",
       "591235124       1\n",
       "528365506       1\n",
       "528648661       1\n",
       "529208008       1\n",
       "529391325       1\n",
       "...           ...\n",
       "582731576       1\n",
       "526474864       2\n",
       "383883359       2\n",
       "280534611       2\n",
       "192612682       2\n",
       "\n",
       "[492 rows x 1 columns]"
      ],
      "text/html": [
       "<div>\n",
       "<style scoped>\n",
       "    .dataframe tbody tr th:only-of-type {\n",
       "        vertical-align: middle;\n",
       "    }\n",
       "\n",
       "    .dataframe tbody tr th {\n",
       "        vertical-align: top;\n",
       "    }\n",
       "\n",
       "    .dataframe thead th {\n",
       "        text-align: right;\n",
       "    }\n",
       "</style>\n",
       "<table border=\"1\" class=\"dataframe\">\n",
       "  <thead>\n",
       "    <tr style=\"text-align: right;\">\n",
       "      <th></th>\n",
       "      <th>flag</th>\n",
       "    </tr>\n",
       "    <tr>\n",
       "      <th>customer_id</th>\n",
       "      <th></th>\n",
       "    </tr>\n",
       "  </thead>\n",
       "  <tbody>\n",
       "    <tr>\n",
       "      <th>591235124</th>\n",
       "      <td>1</td>\n",
       "    </tr>\n",
       "    <tr>\n",
       "      <th>528365506</th>\n",
       "      <td>1</td>\n",
       "    </tr>\n",
       "    <tr>\n",
       "      <th>528648661</th>\n",
       "      <td>1</td>\n",
       "    </tr>\n",
       "    <tr>\n",
       "      <th>529208008</th>\n",
       "      <td>1</td>\n",
       "    </tr>\n",
       "    <tr>\n",
       "      <th>529391325</th>\n",
       "      <td>1</td>\n",
       "    </tr>\n",
       "    <tr>\n",
       "      <th>...</th>\n",
       "      <td>...</td>\n",
       "    </tr>\n",
       "    <tr>\n",
       "      <th>582731576</th>\n",
       "      <td>1</td>\n",
       "    </tr>\n",
       "    <tr>\n",
       "      <th>526474864</th>\n",
       "      <td>2</td>\n",
       "    </tr>\n",
       "    <tr>\n",
       "      <th>383883359</th>\n",
       "      <td>2</td>\n",
       "    </tr>\n",
       "    <tr>\n",
       "      <th>280534611</th>\n",
       "      <td>2</td>\n",
       "    </tr>\n",
       "    <tr>\n",
       "      <th>192612682</th>\n",
       "      <td>2</td>\n",
       "    </tr>\n",
       "  </tbody>\n",
       "</table>\n",
       "<p>492 rows × 1 columns</p>\n",
       "</div>"
      ]
     },
     "execution_count": 314,
     "metadata": {},
     "output_type": "execute_result"
    }
   ],
   "execution_count": 314
  },
  {
   "metadata": {
    "ExecuteTime": {
     "end_time": "2024-12-12T21:07:24.673654Z",
     "start_time": "2024-12-12T21:07:24.665861Z"
    }
   },
   "cell_type": "code",
   "source": "upsell2['product_cd'].value_counts()",
   "id": "8d08230c2ab05afc",
   "outputs": [
    {
     "data": {
      "text/plain": [
       "product_cd\n",
       "Cash Loan       196\n",
       "Secured Loan    159\n",
       "Credit Cards    141\n",
       "Name: count, dtype: int64"
      ]
     },
     "execution_count": 320,
     "metadata": {},
     "output_type": "execute_result"
    }
   ],
   "execution_count": 320
  },
  {
   "metadata": {
    "ExecuteTime": {
     "end_time": "2024-12-13T14:21:09.111465Z",
     "start_time": "2024-12-13T14:21:09.099239Z"
    }
   },
   "cell_type": "code",
   "source": [
    "people = df_plus_emp[df_plus_emp['region_size'].isin(['town'])][['customer_id', 'num_segment']].groupby(by='customer_id').max()\n",
    "\n",
    "percentile75 = np.percentile(people['num_segment'].dropna(), 61.5)"
   ],
   "id": "330b052b097958e9",
   "outputs": [],
   "execution_count": 223
  },
  {
   "metadata": {
    "ExecuteTime": {
     "end_time": "2024-12-13T14:21:11.063812Z",
     "start_time": "2024-12-13T14:21:11.058737Z"
    }
   },
   "cell_type": "code",
   "source": "percentile75",
   "id": "bfe795864b9ed93f",
   "outputs": [
    {
     "data": {
      "text/plain": [
       "np.float64(7.0)"
      ]
     },
     "execution_count": 224,
     "metadata": {},
     "output_type": "execute_result"
    }
   ],
   "execution_count": 224
  },
  {
   "metadata": {
    "ExecuteTime": {
     "end_time": "2024-12-13T17:13:25.125090Z",
     "start_time": "2024-12-13T17:13:25.117792Z"
    }
   },
   "cell_type": "code",
   "source": [
    "from scipy.stats import chi2_contingency\n",
    "import scipy.stats as stats\n",
    "from statsmodels.stats.contingency_tables import Table2x2\n",
    "def pomogite(df_credit):\n",
    "    percentile75 = np.percentile(df_credit['num_segment'].dropna(), 61.5)\n",
    "    df_credit['low_income_flg'] = (df_credit['num_segment'] >= percentile75).astype(int)\n",
    "    \n",
    "    # Таблица сопряженности: low_income_flg и flag (успех)\n",
    "    contingency_table = pd.crosstab(df_credit['low_income_flg'], df_credit['flag'])\n",
    "    \n",
    "    # Тест хи-квадрат\n",
    "    chi2, p, dof, expected = chi2_contingency(contingency_table)\n",
    "    return p\n",
    "\n",
    "# percentile75 = np.percentile(df_credit['num_segment'].dropna(), 61.5)\n",
    "def fisher(df_credit):\n",
    "    df_credit['low_income_flg'] = (df_credit['num_segment'] >= percentile75).astype(int)\n",
    "    \n",
    "    # Таблица сопряженности: low_income_flg и flag (успех)\n",
    "    contingency_table = pd.crosstab(df_credit['low_income_flg'], df_credit['flag'])\n",
    "    table = Table2x2(contingency_table.values)\n",
    "    # Тест хи-квадрат\n",
    "    oddsratio, p = stats.fisher_exact(contingency_table)\n",
    "    ci_low, ci_high = table.oddsratio_confint(alpha=0.05)\n",
    "    print(f\"Доверительный интервал: \\n 95%CI: ({ci_low, ci_high})\\n\\nОтношение шансов: {oddsratio}\\n\\np_value: {p}\")\n",
    "    return oddsratio, p\n"
   ],
   "id": "c9c390d89ff2c014",
   "outputs": [],
   "execution_count": 294
  },
  {
   "metadata": {
    "ExecuteTime": {
     "end_time": "2024-12-13T17:13:26.221803Z",
     "start_time": "2024-12-13T17:13:26.209317Z"
    }
   },
   "cell_type": "code",
   "source": "pomogite(upsell[upsell['region_size'].isin(['town', 'rural'])])",
   "id": "1b8ecf74b790e3f2",
   "outputs": [
    {
     "data": {
      "text/plain": [
       "np.float64(0.0589388351552022)"
      ]
     },
     "execution_count": 295,
     "metadata": {},
     "output_type": "execute_result"
    }
   ],
   "execution_count": 295
  },
  {
   "metadata": {
    "ExecuteTime": {
     "end_time": "2024-12-13T17:13:26.620310Z",
     "start_time": "2024-12-13T17:13:26.606062Z"
    }
   },
   "cell_type": "code",
   "source": "fisher(upsell[upsell['region_size'].isin(['town', 'rural'])])",
   "id": "e5161c453b4128ea",
   "outputs": [
    {
     "name": "stdout",
     "output_type": "stream",
     "text": [
      "Доверительный интервал: \n",
      " 95%CI: ((np.float64(1.1717290366424065), np.float64(4.304389634420074)))\n",
      "\n",
      "Отношение шансов: 2.2457912457912457\n",
      "\n",
      "p_value: 0.015945763734293957\n"
     ]
    },
    {
     "data": {
      "text/plain": [
       "(np.float64(2.2457912457912457), np.float64(0.015945763734293957))"
      ]
     },
     "execution_count": 296,
     "metadata": {},
     "output_type": "execute_result"
    }
   ],
   "execution_count": 296
  },
  {
   "metadata": {
    "ExecuteTime": {
     "end_time": "2024-12-13T14:23:19.013963Z",
     "start_time": "2024-12-13T14:23:19.009729Z"
    }
   },
   "cell_type": "code",
   "source": [
    "def test(XAAXAXAXA):\n",
    "    print(float(fisher(XAAXAXAXA[XAAXAXAXA['region_size'].isin(['town', 'rural'])])), '\\n', float(pomogite(XAAXAXAXA[XAAXAXAXA['region_size'].isin(['town', 'rural'])])))"
   ],
   "id": "54f9f011f989d748",
   "outputs": [],
   "execution_count": 238
  },
  {
   "metadata": {
    "ExecuteTime": {
     "end_time": "2024-12-13T14:23:20.045166Z",
     "start_time": "2024-12-13T14:23:20.031166Z"
    }
   },
   "cell_type": "code",
   "source": "float(fisher(upsell[upsell['region_size'].isin(['town', 'rural'])]))",
   "id": "96250f7fa6c9b453",
   "outputs": [
    {
     "data": {
      "text/plain": [
       "0.015945763734293957"
      ]
     },
     "execution_count": 239,
     "metadata": {},
     "output_type": "execute_result"
    }
   ],
   "execution_count": 239
  },
  {
   "metadata": {
    "ExecuteTime": {
     "end_time": "2024-12-13T14:35:24.593618Z",
     "start_time": "2024-12-13T14:35:24.588731Z"
    }
   },
   "cell_type": "code",
   "source": "upsell4['nedvizhemost'] = ((upsell4['auto_flg'] == 1) | (upsell4['realty_type'] == 'Квартира')).astype(int)",
   "id": "6abc9df82b498949",
   "outputs": [],
   "execution_count": 274
  },
  {
   "metadata": {
    "ExecuteTime": {
     "end_time": "2024-12-13T14:36:27.375155Z",
     "start_time": "2024-12-13T14:36:27.354520Z"
    }
   },
   "cell_type": "code",
   "source": "test(upsell4)",
   "id": "2573e74a2efc0d0b",
   "outputs": [
    {
     "name": "stdout",
     "output_type": "stream",
     "text": [
      "0.0437695516430974 \n",
      " 0.1032982474867485\n"
     ]
    }
   ],
   "execution_count": 278
  },
  {
   "metadata": {
    "ExecuteTime": {
     "end_time": "2024-12-13T14:30:47.629123Z",
     "start_time": "2024-12-13T14:30:47.606278Z"
    }
   },
   "cell_type": "code",
   "source": "upsell4[upsell4['gender_cd'] == 'F'][upsell4['region_size'].isin(['town', 'rural'])]",
   "id": "fac41919740bca8c",
   "outputs": [
    {
     "data": {
      "text/plain": [
       "     index  Unnamed: 0  customer_id   age gender_cd region_size  foreign_flg  \\\n",
       "2        9         213    424440108  19.0         F       rural          0.0   \n",
       "7       23         875    123838898  30.0         F       rural          0.0   \n",
       "9       27        1085    451353576  31.0         F        town          0.0   \n",
       "11      41        1436    296891168  34.0         F        town          0.0   \n",
       "13      43        1498    335074068  34.0         F       rural          0.0   \n",
       "..     ...         ...          ...   ...       ...         ...          ...   \n",
       "921  14060       17691    284871735  26.0         F        town          0.0   \n",
       "929  14286       18087    135694051  37.0         F        town          0.0   \n",
       "930  14290       18094    469195389  18.0         F        town          0.0   \n",
       "951  14590       18600    318849366  37.0         F        town          0.0   \n",
       "953  14642       18684     82533071  36.0         F        town          0.0   \n",
       "\n",
       "     entrepreneur_flg  auto_flg  traveler_flg  ...  best_product  \\\n",
       "2                 0.0       1.0           0.0  ...   Debit Cards   \n",
       "7                 0.0       1.0           0.0  ...     Cash Loan   \n",
       "9                 0.0       0.0           0.0  ...  Secured Loan   \n",
       "11                0.0       0.0           0.0  ...     Cash Loan   \n",
       "13                0.0       1.0           0.0  ...   Debit Cards   \n",
       "..                ...       ...           ...  ...           ...   \n",
       "921               0.0       1.0           0.0  ...  Secured Loan   \n",
       "929               0.0       0.0           0.0  ...     Cash Loan   \n",
       "930               0.0       0.0           0.0  ...     Cash Loan   \n",
       "951               0.0       1.0           0.0  ...     Cash Loan   \n",
       "953               0.0       0.0           0.0  ...     Cash Loan   \n",
       "\n",
       "     emps_product gender_match age_matching lovely_gender_cd_encoded  \\\n",
       "2               0            0            0                        1   \n",
       "7               0            0            0                        1   \n",
       "9               1            0            1                        0   \n",
       "11              0            0            0                        1   \n",
       "13              0            0            1                        1   \n",
       "..            ...          ...          ...                      ...   \n",
       "921             0            0            1                        1   \n",
       "929             1            0            1                        0   \n",
       "930             1            0            0                        1   \n",
       "951             1            0            0                        1   \n",
       "953             1            0            0                        1   \n",
       "\n",
       "     emps_lovely_age  child_by_emp_and_cd_flg age_groups_cd age_groups_emp  \\\n",
       "2                  0                        0         14-25          26-35   \n",
       "7                  0                        0         26-35          36-45   \n",
       "9                  0                        0         26-35          26-35   \n",
       "11                 0                        0         26-35          14-25   \n",
       "13                 1                        0         26-35          26-35   \n",
       "..               ...                      ...           ...            ...   \n",
       "921                0                        0         26-35          26-35   \n",
       "929                0                        0         36-45          36-45   \n",
       "930                0                        0         14-25          14-25   \n",
       "951                0                        0         36-45          45-60   \n",
       "953                1                        0         36-45          36-45   \n",
       "\n",
       "    age_group_matching  \n",
       "2                    0  \n",
       "7                    0  \n",
       "9                    1  \n",
       "11                   0  \n",
       "13                   1  \n",
       "..                 ...  \n",
       "921                  1  \n",
       "929                  1  \n",
       "930                  1  \n",
       "951                  0  \n",
       "953                  1  \n",
       "\n",
       "[218 rows x 56 columns]"
      ],
      "text/html": [
       "<div>\n",
       "<style scoped>\n",
       "    .dataframe tbody tr th:only-of-type {\n",
       "        vertical-align: middle;\n",
       "    }\n",
       "\n",
       "    .dataframe tbody tr th {\n",
       "        vertical-align: top;\n",
       "    }\n",
       "\n",
       "    .dataframe thead th {\n",
       "        text-align: right;\n",
       "    }\n",
       "</style>\n",
       "<table border=\"1\" class=\"dataframe\">\n",
       "  <thead>\n",
       "    <tr style=\"text-align: right;\">\n",
       "      <th></th>\n",
       "      <th>index</th>\n",
       "      <th>Unnamed: 0</th>\n",
       "      <th>customer_id</th>\n",
       "      <th>age</th>\n",
       "      <th>gender_cd</th>\n",
       "      <th>region_size</th>\n",
       "      <th>foreign_flg</th>\n",
       "      <th>entrepreneur_flg</th>\n",
       "      <th>auto_flg</th>\n",
       "      <th>traveler_flg</th>\n",
       "      <th>...</th>\n",
       "      <th>best_product</th>\n",
       "      <th>emps_product</th>\n",
       "      <th>gender_match</th>\n",
       "      <th>age_matching</th>\n",
       "      <th>lovely_gender_cd_encoded</th>\n",
       "      <th>emps_lovely_age</th>\n",
       "      <th>child_by_emp_and_cd_flg</th>\n",
       "      <th>age_groups_cd</th>\n",
       "      <th>age_groups_emp</th>\n",
       "      <th>age_group_matching</th>\n",
       "    </tr>\n",
       "  </thead>\n",
       "  <tbody>\n",
       "    <tr>\n",
       "      <th>2</th>\n",
       "      <td>9</td>\n",
       "      <td>213</td>\n",
       "      <td>424440108</td>\n",
       "      <td>19.0</td>\n",
       "      <td>F</td>\n",
       "      <td>rural</td>\n",
       "      <td>0.0</td>\n",
       "      <td>0.0</td>\n",
       "      <td>1.0</td>\n",
       "      <td>0.0</td>\n",
       "      <td>...</td>\n",
       "      <td>Debit Cards</td>\n",
       "      <td>0</td>\n",
       "      <td>0</td>\n",
       "      <td>0</td>\n",
       "      <td>1</td>\n",
       "      <td>0</td>\n",
       "      <td>0</td>\n",
       "      <td>14-25</td>\n",
       "      <td>26-35</td>\n",
       "      <td>0</td>\n",
       "    </tr>\n",
       "    <tr>\n",
       "      <th>7</th>\n",
       "      <td>23</td>\n",
       "      <td>875</td>\n",
       "      <td>123838898</td>\n",
       "      <td>30.0</td>\n",
       "      <td>F</td>\n",
       "      <td>rural</td>\n",
       "      <td>0.0</td>\n",
       "      <td>0.0</td>\n",
       "      <td>1.0</td>\n",
       "      <td>0.0</td>\n",
       "      <td>...</td>\n",
       "      <td>Cash Loan</td>\n",
       "      <td>0</td>\n",
       "      <td>0</td>\n",
       "      <td>0</td>\n",
       "      <td>1</td>\n",
       "      <td>0</td>\n",
       "      <td>0</td>\n",
       "      <td>26-35</td>\n",
       "      <td>36-45</td>\n",
       "      <td>0</td>\n",
       "    </tr>\n",
       "    <tr>\n",
       "      <th>9</th>\n",
       "      <td>27</td>\n",
       "      <td>1085</td>\n",
       "      <td>451353576</td>\n",
       "      <td>31.0</td>\n",
       "      <td>F</td>\n",
       "      <td>town</td>\n",
       "      <td>0.0</td>\n",
       "      <td>0.0</td>\n",
       "      <td>0.0</td>\n",
       "      <td>0.0</td>\n",
       "      <td>...</td>\n",
       "      <td>Secured Loan</td>\n",
       "      <td>1</td>\n",
       "      <td>0</td>\n",
       "      <td>1</td>\n",
       "      <td>0</td>\n",
       "      <td>0</td>\n",
       "      <td>0</td>\n",
       "      <td>26-35</td>\n",
       "      <td>26-35</td>\n",
       "      <td>1</td>\n",
       "    </tr>\n",
       "    <tr>\n",
       "      <th>11</th>\n",
       "      <td>41</td>\n",
       "      <td>1436</td>\n",
       "      <td>296891168</td>\n",
       "      <td>34.0</td>\n",
       "      <td>F</td>\n",
       "      <td>town</td>\n",
       "      <td>0.0</td>\n",
       "      <td>0.0</td>\n",
       "      <td>0.0</td>\n",
       "      <td>0.0</td>\n",
       "      <td>...</td>\n",
       "      <td>Cash Loan</td>\n",
       "      <td>0</td>\n",
       "      <td>0</td>\n",
       "      <td>0</td>\n",
       "      <td>1</td>\n",
       "      <td>0</td>\n",
       "      <td>0</td>\n",
       "      <td>26-35</td>\n",
       "      <td>14-25</td>\n",
       "      <td>0</td>\n",
       "    </tr>\n",
       "    <tr>\n",
       "      <th>13</th>\n",
       "      <td>43</td>\n",
       "      <td>1498</td>\n",
       "      <td>335074068</td>\n",
       "      <td>34.0</td>\n",
       "      <td>F</td>\n",
       "      <td>rural</td>\n",
       "      <td>0.0</td>\n",
       "      <td>0.0</td>\n",
       "      <td>1.0</td>\n",
       "      <td>0.0</td>\n",
       "      <td>...</td>\n",
       "      <td>Debit Cards</td>\n",
       "      <td>0</td>\n",
       "      <td>0</td>\n",
       "      <td>1</td>\n",
       "      <td>1</td>\n",
       "      <td>1</td>\n",
       "      <td>0</td>\n",
       "      <td>26-35</td>\n",
       "      <td>26-35</td>\n",
       "      <td>1</td>\n",
       "    </tr>\n",
       "    <tr>\n",
       "      <th>...</th>\n",
       "      <td>...</td>\n",
       "      <td>...</td>\n",
       "      <td>...</td>\n",
       "      <td>...</td>\n",
       "      <td>...</td>\n",
       "      <td>...</td>\n",
       "      <td>...</td>\n",
       "      <td>...</td>\n",
       "      <td>...</td>\n",
       "      <td>...</td>\n",
       "      <td>...</td>\n",
       "      <td>...</td>\n",
       "      <td>...</td>\n",
       "      <td>...</td>\n",
       "      <td>...</td>\n",
       "      <td>...</td>\n",
       "      <td>...</td>\n",
       "      <td>...</td>\n",
       "      <td>...</td>\n",
       "      <td>...</td>\n",
       "      <td>...</td>\n",
       "    </tr>\n",
       "    <tr>\n",
       "      <th>921</th>\n",
       "      <td>14060</td>\n",
       "      <td>17691</td>\n",
       "      <td>284871735</td>\n",
       "      <td>26.0</td>\n",
       "      <td>F</td>\n",
       "      <td>town</td>\n",
       "      <td>0.0</td>\n",
       "      <td>0.0</td>\n",
       "      <td>1.0</td>\n",
       "      <td>0.0</td>\n",
       "      <td>...</td>\n",
       "      <td>Secured Loan</td>\n",
       "      <td>0</td>\n",
       "      <td>0</td>\n",
       "      <td>1</td>\n",
       "      <td>1</td>\n",
       "      <td>0</td>\n",
       "      <td>0</td>\n",
       "      <td>26-35</td>\n",
       "      <td>26-35</td>\n",
       "      <td>1</td>\n",
       "    </tr>\n",
       "    <tr>\n",
       "      <th>929</th>\n",
       "      <td>14286</td>\n",
       "      <td>18087</td>\n",
       "      <td>135694051</td>\n",
       "      <td>37.0</td>\n",
       "      <td>F</td>\n",
       "      <td>town</td>\n",
       "      <td>0.0</td>\n",
       "      <td>0.0</td>\n",
       "      <td>0.0</td>\n",
       "      <td>0.0</td>\n",
       "      <td>...</td>\n",
       "      <td>Cash Loan</td>\n",
       "      <td>1</td>\n",
       "      <td>0</td>\n",
       "      <td>1</td>\n",
       "      <td>0</td>\n",
       "      <td>0</td>\n",
       "      <td>0</td>\n",
       "      <td>36-45</td>\n",
       "      <td>36-45</td>\n",
       "      <td>1</td>\n",
       "    </tr>\n",
       "    <tr>\n",
       "      <th>930</th>\n",
       "      <td>14290</td>\n",
       "      <td>18094</td>\n",
       "      <td>469195389</td>\n",
       "      <td>18.0</td>\n",
       "      <td>F</td>\n",
       "      <td>town</td>\n",
       "      <td>0.0</td>\n",
       "      <td>0.0</td>\n",
       "      <td>0.0</td>\n",
       "      <td>0.0</td>\n",
       "      <td>...</td>\n",
       "      <td>Cash Loan</td>\n",
       "      <td>1</td>\n",
       "      <td>0</td>\n",
       "      <td>0</td>\n",
       "      <td>1</td>\n",
       "      <td>0</td>\n",
       "      <td>0</td>\n",
       "      <td>14-25</td>\n",
       "      <td>14-25</td>\n",
       "      <td>1</td>\n",
       "    </tr>\n",
       "    <tr>\n",
       "      <th>951</th>\n",
       "      <td>14590</td>\n",
       "      <td>18600</td>\n",
       "      <td>318849366</td>\n",
       "      <td>37.0</td>\n",
       "      <td>F</td>\n",
       "      <td>town</td>\n",
       "      <td>0.0</td>\n",
       "      <td>0.0</td>\n",
       "      <td>1.0</td>\n",
       "      <td>0.0</td>\n",
       "      <td>...</td>\n",
       "      <td>Cash Loan</td>\n",
       "      <td>1</td>\n",
       "      <td>0</td>\n",
       "      <td>0</td>\n",
       "      <td>1</td>\n",
       "      <td>0</td>\n",
       "      <td>0</td>\n",
       "      <td>36-45</td>\n",
       "      <td>45-60</td>\n",
       "      <td>0</td>\n",
       "    </tr>\n",
       "    <tr>\n",
       "      <th>953</th>\n",
       "      <td>14642</td>\n",
       "      <td>18684</td>\n",
       "      <td>82533071</td>\n",
       "      <td>36.0</td>\n",
       "      <td>F</td>\n",
       "      <td>town</td>\n",
       "      <td>0.0</td>\n",
       "      <td>0.0</td>\n",
       "      <td>0.0</td>\n",
       "      <td>0.0</td>\n",
       "      <td>...</td>\n",
       "      <td>Cash Loan</td>\n",
       "      <td>1</td>\n",
       "      <td>0</td>\n",
       "      <td>0</td>\n",
       "      <td>1</td>\n",
       "      <td>1</td>\n",
       "      <td>0</td>\n",
       "      <td>36-45</td>\n",
       "      <td>36-45</td>\n",
       "      <td>1</td>\n",
       "    </tr>\n",
       "  </tbody>\n",
       "</table>\n",
       "<p>218 rows × 56 columns</p>\n",
       "</div>"
      ]
     },
     "execution_count": 267,
     "metadata": {},
     "output_type": "execute_result"
    }
   ],
   "execution_count": 267
  },
  {
   "metadata": {
    "ExecuteTime": {
     "end_time": "2024-12-13T19:20:49.425758Z",
     "start_time": "2024-12-13T19:20:49.412004Z"
    }
   },
   "cell_type": "code",
   "source": "upsell4.pivot_table(index='region_size', values='flag', aggfunc='count')",
   "id": "245d3274e4356f32",
   "outputs": [
    {
     "data": {
      "text/plain": [
       "             flag\n",
       "region_size      \n",
       "msk            66\n",
       "rural         101\n",
       "town          427\n",
       "urban         155"
      ],
      "text/html": [
       "<div>\n",
       "<style scoped>\n",
       "    .dataframe tbody tr th:only-of-type {\n",
       "        vertical-align: middle;\n",
       "    }\n",
       "\n",
       "    .dataframe tbody tr th {\n",
       "        vertical-align: top;\n",
       "    }\n",
       "\n",
       "    .dataframe thead th {\n",
       "        text-align: right;\n",
       "    }\n",
       "</style>\n",
       "<table border=\"1\" class=\"dataframe\">\n",
       "  <thead>\n",
       "    <tr style=\"text-align: right;\">\n",
       "      <th></th>\n",
       "      <th>flag</th>\n",
       "    </tr>\n",
       "    <tr>\n",
       "      <th>region_size</th>\n",
       "      <th></th>\n",
       "    </tr>\n",
       "  </thead>\n",
       "  <tbody>\n",
       "    <tr>\n",
       "      <th>msk</th>\n",
       "      <td>66</td>\n",
       "    </tr>\n",
       "    <tr>\n",
       "      <th>rural</th>\n",
       "      <td>101</td>\n",
       "    </tr>\n",
       "    <tr>\n",
       "      <th>town</th>\n",
       "      <td>427</td>\n",
       "    </tr>\n",
       "    <tr>\n",
       "      <th>urban</th>\n",
       "      <td>155</td>\n",
       "    </tr>\n",
       "  </tbody>\n",
       "</table>\n",
       "</div>"
      ]
     },
     "execution_count": 298,
     "metadata": {},
     "output_type": "execute_result"
    }
   ],
   "execution_count": 298
  },
  {
   "metadata": {
    "ExecuteTime": {
     "end_time": "2024-12-13T19:32:59.480881Z",
     "start_time": "2024-12-13T19:32:59.469888Z"
    }
   },
   "cell_type": "code",
   "source": "df_plus_emp.pivot_table(index='region_size', values='flag', aggfunc='count')",
   "id": "6ac95d76de101566",
   "outputs": [
    {
     "data": {
      "text/plain": [
       "             flag\n",
       "region_size      \n",
       "msk          1245\n",
       "rural         964\n",
       "town         5087\n",
       "urban        2175"
      ],
      "text/html": [
       "<div>\n",
       "<style scoped>\n",
       "    .dataframe tbody tr th:only-of-type {\n",
       "        vertical-align: middle;\n",
       "    }\n",
       "\n",
       "    .dataframe tbody tr th {\n",
       "        vertical-align: top;\n",
       "    }\n",
       "\n",
       "    .dataframe thead th {\n",
       "        text-align: right;\n",
       "    }\n",
       "</style>\n",
       "<table border=\"1\" class=\"dataframe\">\n",
       "  <thead>\n",
       "    <tr style=\"text-align: right;\">\n",
       "      <th></th>\n",
       "      <th>flag</th>\n",
       "    </tr>\n",
       "    <tr>\n",
       "      <th>region_size</th>\n",
       "      <th></th>\n",
       "    </tr>\n",
       "  </thead>\n",
       "  <tbody>\n",
       "    <tr>\n",
       "      <th>msk</th>\n",
       "      <td>1245</td>\n",
       "    </tr>\n",
       "    <tr>\n",
       "      <th>rural</th>\n",
       "      <td>964</td>\n",
       "    </tr>\n",
       "    <tr>\n",
       "      <th>town</th>\n",
       "      <td>5087</td>\n",
       "    </tr>\n",
       "    <tr>\n",
       "      <th>urban</th>\n",
       "      <td>2175</td>\n",
       "    </tr>\n",
       "  </tbody>\n",
       "</table>\n",
       "</div>"
      ]
     },
     "execution_count": 300,
     "metadata": {},
     "output_type": "execute_result"
    }
   ],
   "execution_count": 300
  },
  {
   "metadata": {
    "ExecuteTime": {
     "end_time": "2024-12-13T20:07:51.922457Z",
     "start_time": "2024-12-13T20:07:51.873448Z"
    }
   },
   "cell_type": "code",
   "source": "upsell4.pivot_table(index='region_size', values='flag', aggfunc='count')",
   "id": "e8852e06883f2caa",
   "outputs": [
    {
     "data": {
      "text/plain": [
       "             flag\n",
       "region_size      \n",
       "msk            66\n",
       "rural         101\n",
       "town          427\n",
       "urban         155"
      ],
      "text/html": [
       "<div>\n",
       "<style scoped>\n",
       "    .dataframe tbody tr th:only-of-type {\n",
       "        vertical-align: middle;\n",
       "    }\n",
       "\n",
       "    .dataframe tbody tr th {\n",
       "        vertical-align: top;\n",
       "    }\n",
       "\n",
       "    .dataframe thead th {\n",
       "        text-align: right;\n",
       "    }\n",
       "</style>\n",
       "<table border=\"1\" class=\"dataframe\">\n",
       "  <thead>\n",
       "    <tr style=\"text-align: right;\">\n",
       "      <th></th>\n",
       "      <th>flag</th>\n",
       "    </tr>\n",
       "    <tr>\n",
       "      <th>region_size</th>\n",
       "      <th></th>\n",
       "    </tr>\n",
       "  </thead>\n",
       "  <tbody>\n",
       "    <tr>\n",
       "      <th>msk</th>\n",
       "      <td>66</td>\n",
       "    </tr>\n",
       "    <tr>\n",
       "      <th>rural</th>\n",
       "      <td>101</td>\n",
       "    </tr>\n",
       "    <tr>\n",
       "      <th>town</th>\n",
       "      <td>427</td>\n",
       "    </tr>\n",
       "    <tr>\n",
       "      <th>urban</th>\n",
       "      <td>155</td>\n",
       "    </tr>\n",
       "  </tbody>\n",
       "</table>\n",
       "</div>"
      ]
     },
     "execution_count": 301,
     "metadata": {},
     "output_type": "execute_result"
    }
   ],
   "execution_count": 301
  },
  {
   "metadata": {},
   "cell_type": "code",
   "outputs": [],
   "execution_count": null,
   "source": "",
   "id": "c05dfc40ec691caf"
  }
 ],
 "metadata": {
  "kernelspec": {
   "display_name": "Python 3",
   "language": "python",
   "name": "python3"
  },
  "language_info": {
   "codemirror_mode": {
    "name": "ipython",
    "version": 2
   },
   "file_extension": ".py",
   "mimetype": "text/x-python",
   "name": "python",
   "nbconvert_exporter": "python",
   "pygments_lexer": "ipython2",
   "version": "2.7.6"
  }
 },
 "nbformat": 4,
 "nbformat_minor": 5
}
