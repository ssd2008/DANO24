{
 "cells": [
  {
   "metadata": {
    "ExecuteTime": {
     "end_time": "2024-12-13T04:45:10.707110Z",
     "start_time": "2024-12-13T04:45:10.702372Z"
    }
   },
   "cell_type": "code",
   "source": [
    "import pandas as pd\n",
    "import numpy as np\n",
    "import matplotlib.pyplot as plt\n",
    "import seaborn as sns\n",
    "import warnings\n",
    "\n",
    "from numpy.ma.core import count\n",
    "from prompt_toolkit.key_binding.bindings.named_commands import yank_pop\n",
    "\n",
    "warnings.filterwarnings('ignore')"
   ],
   "id": "d6e6603870cf2932",
   "outputs": [],
   "execution_count": 2
  },
  {
   "metadata": {
    "collapsed": true,
    "ExecuteTime": {
     "end_time": "2024-12-13T04:45:11.164407Z",
     "start_time": "2024-12-13T04:45:11.035231Z"
    }
   },
   "cell_type": "code",
   "source": "bd = pd.read_csv('final.csv')",
   "id": "initial_id",
   "outputs": [],
   "execution_count": 3
  },
  {
   "metadata": {
    "ExecuteTime": {
     "end_time": "2024-12-13T04:45:11.469405Z",
     "start_time": "2024-12-13T04:45:11.449385Z"
    }
   },
   "cell_type": "code",
   "source": "bd.isna().sum().sum()",
   "id": "38093b21ca017961",
   "outputs": [
    {
     "data": {
      "text/plain": [
       "np.int64(168290)"
      ]
     },
     "execution_count": 4,
     "metadata": {},
     "output_type": "execute_result"
    }
   ],
   "execution_count": 4
  },
  {
   "metadata": {
    "ExecuteTime": {
     "end_time": "2024-12-13T04:45:12.205500Z",
     "start_time": "2024-12-13T04:45:12.200665Z"
    }
   },
   "cell_type": "code",
   "source": "bd.shape",
   "id": "1294a4c3f8feb6d0",
   "outputs": [
    {
     "data": {
      "text/plain": [
       "(18691, 30)"
      ]
     },
     "execution_count": 5,
     "metadata": {},
     "output_type": "execute_result"
    }
   ],
   "execution_count": 5
  },
  {
   "metadata": {
    "ExecuteTime": {
     "end_time": "2024-12-14T00:08:29.472839Z",
     "start_time": "2024-12-14T00:08:23.509418Z"
    }
   },
   "cell_type": "code",
   "source": [
    "import pandas as pd\n",
    "import numpy as np\n",
    "import matplotlib.pyplot as plt\n",
    "import seaborn as sns\n",
    "import warnings\n",
    "\n",
    "from numpy.ma.core import count\n",
    "from prompt_toolkit.key_binding.bindings.named_commands import yank_pop\n",
    "\n",
    "warnings.filterwarnings('ignore')\n",
    "\n",
    "bd = pd.read_csv('final.csv')\n",
    "bd['finish_dttm'] = pd.to_datetime(bd['finish_dttm'])\n",
    "bd['age'] = bd['age'].str.replace(',', '.').astype(float)\n",
    "bd['flag'] = (bd['wo_hit_status_result_desc'] == 'Дозвон, Успешно')\n",
    "bd['flag'] = bd['flag'].astype(int)\n",
    "\n",
    "days_of_week = bd['finish_dttm'].dt.day_name()\n",
    "days_of_week_num = bd['finish_dttm'].dt.weekday\n",
    "bd['day_of_week'] = days_of_week\n",
    "bd['num_of_week'] = days_of_week_num\n",
    "\n",
    "def vibrosi(bd, i, x):\n",
    "    return pd.concat([bd[bd[i] < x], bd[bd[i].isna()]])\n",
    "def vibrosiVniz(bd, i, x):\n",
    "    return pd.concat([bd[bd[i] > x], bd[bd[i].isna()]])\n",
    "def percentsByRegion(bd, i):\n",
    "    df = bd.copy()\n",
    "    pt = df[df['region_size'] == i][df['age'] >= 18][df['age'] < 60][['age', 'flag']].pivot_table(index='age', columns='product_cd', values='flag', aggfunc=['sum', 'count'])\n",
    "    # pt['percent'] = pt[(  'sum', 'flag')] / pt[('count', 'flag')] * 100\n",
    "    # pt[pt['percent'] != 0]\n",
    "\n",
    "bd['child_flg'] = bd['child_amt'] != 0\n",
    "bd['child_flg'] = bd['child_flg'].astype(int)\n",
    "bd['income'] = bd['confirmed_income'].fillna(bd['predicted_income'])\n",
    "\n",
    "bd = vibrosi(bd, 'income', np.percentile(bd['income'].dropna(), 75))\n",
    "bd = vibrosiVniz(bd, 'income', 0)\n",
    "bd = vibrosiVniz(bd, 'age', 17)\n",
    "# хочу делить по: age, auto_flg, partnership_flg, child_flg, realty_type, functional_cd, emp_work_months_cnt, emp_gender_cd, emp_age\n",
    "\n",
    "df = bd.drop(bd[bd['wo_hit_status_reason_desc'].isin(['Отказ прослушать предложение', 'Не звонить', 'Левый контакт', 'Отказ от диалога', 'отказ от диалога', 'Отказ от разговора', 'Не звонить, резкий негатив', 'Негатив/Не звонить', 'Отказ без объяснения причин', 'просит не звонить', 'Не звонить / резкий негатив', 'Вежливо попросил не звонить', 'Номер не принадлежит страхователю', 'отказ без объяснения причин', 'Отказался озвучить причину', 'Чёрный список', 'негатив к Тинькофф', 'Грубо попросил не звонить', 'Не звонить (негатив)', 'Отказался от диалога', 'Просит больше не звонить', 'Недозвон', 'некорректная заявка', 'Техническая ошибка', 'Не нравится Т-Банк', 'Негатив к Т-Банку', 'Негативная информация о клиенте', 'Отказ без объяснения причины', 'Неизвестен / Не контактирует', 'Человек не участвовал в Дано', 'отменили'])].index)\n",
    "\n",
    "df['income'] = df['confirmed_income'].fillna(df['predicted_income'])\n",
    "df['segment_number'] = df['segment_cd'].str.extract(r'\\((\\d+)\\)').astype(float)\n",
    "df['num_segment'] = (df['segment_cd'].str[2:4])\n",
    "df['num_segment'] = df['num_segment'].astype(float)\n",
    "\n",
    "# Функция для определения сезона по номеру месяца\n",
    "def get_season(month):\n",
    "    if month in [12, 1, 2]:\n",
    "        return 'Зима'\n",
    "    elif month in [3, 4, 5]:\n",
    "        return 'Весна'\n",
    "    elif month in [6, 7, 8]:\n",
    "        return 'Лето'\n",
    "    elif month in [9, 10, 11]:\n",
    "        return 'Осень'\n",
    "\n",
    "# Преобразуем finish_dttm в datetime, если нужно\n",
    "df['finish_dttm'] = pd.to_datetime(df['finish_dttm'])\n",
    "\n",
    "# Извлекаем номер месяца\n",
    "df['month'] = df['finish_dttm'].dt.month\n",
    "df['hours'] = df['finish_dttm'].dt.hour\n",
    "\n",
    "df = vibrosi(df, 'hours', 22)\n",
    "df = vibrosiVniz(df, 'hours', 7)\n",
    "\n",
    "# Применяем функцию для создания нового столбца season\n",
    "df['season'] = df['month'].apply(get_season)\n",
    "\n",
    "emp = df[['employee_id', 'emp_age', 'emp_age_new', 'emp_gender_cd', 'emp_children_cnt', 'emp_work_months_cnt', 'state_talk_time_sec', 'flag']].groupby(by=['employee_id', 'emp_gender_cd']).mean()\n",
    "emp.reset_index(inplace=True)\n",
    "emp['time_uspeh'] = 0\n",
    "\n",
    "def ok(id):\n",
    "    return df[df['flag'] == 1][df['employee_id'] == id]['state_talk_time_sec'].mean()\n",
    "\n",
    "emp['time_uspeh'] = emp['employee_id'].apply(ok)\n",
    "\n",
    "def min(id):\n",
    "    if len(df[df['flag'] == 1][df['employee_id'] == id]['employee_id'].tolist()) == 0:\n",
    "        return 0\n",
    "    return np.percentile(df[df['flag'] == 1][df['employee_id'] == id]['age'], 25)\n",
    "\n",
    "def max(id):\n",
    "    if len(df[df['flag'] == 1][df['employee_id'] == id]['employee_id'].tolist()) == 0:\n",
    "        return 0\n",
    "    return np.percentile(df[df['flag'] == 1][df['employee_id'] == id]['age'], 75)\n",
    "\n",
    "emp['min_age'] = emp['employee_id'].apply(min)\n",
    "emp['max_age'] = emp['employee_id'].apply(max)\n",
    "\n",
    "# 1. Считаем успешность по employee_id и gender_cd\n",
    "success_rates = (\n",
    "    df.groupby(['employee_id', 'gender_cd'])['flag']\n",
    "    .mean()\n",
    "    .reset_index()\n",
    "    .rename(columns={'flag': 'success_rate'})\n",
    ")\n",
    "\n",
    "# 2. Для каждого employee_id выбираем gender_cd с максимальной успешностью\n",
    "best_gender_per_employee = (\n",
    "    success_rates.loc[success_rates.groupby('employee_id')['success_rate'].idxmax()]\n",
    "    [['employee_id', 'gender_cd']]\n",
    "    .rename(columns={'gender_cd': 'lovely_gender_cd'})\n",
    ")\n",
    "\n",
    "emp = emp.merge(best_gender_per_employee, on='employee_id', how='left')\n",
    "\n",
    "# Рассчитываем процент успешности по каждому оператору и продукту\n",
    "success_rate = df[['employee_id', 'product_cd', 'flag']].groupby(['employee_id', 'product_cd'])['flag'].mean().reset_index()\n",
    "success_rate.rename(columns={'flag': 'success_rate'}, inplace=True)\n",
    "\n",
    "# Для каждого оператора выбираем продукт с наибольшим процентом успешности\n",
    "best_product = success_rate.loc[success_rate.groupby('employee_id')['success_rate'].idxmax()]\n",
    "\n",
    "# Добавляем столбец best_product в исходный DataFrame\n",
    "emp = emp.merge(best_product[['employee_id', 'product_cd']], on='employee_id', how='left')\n",
    "emp.rename(columns={'product_cd': 'best_product'}, inplace=True)\n",
    "\n",
    "emp = emp.rename({'flag' : 'emp_mean_flag'}, axis=1)\n",
    "\n",
    "df_plus_emp = df.merge(emp[['employee_id', 'emp_mean_flag', 'time_uspeh', 'min_age', 'max_age', 'lovely_gender_cd', 'best_product']], on='employee_id', how='left')\n",
    "df_plus_emp['emps_product'] = (df_plus_emp['product_cd'] == df_plus_emp['best_product']).astype(int)\n",
    "\n",
    "df_plus_emp['female_matching'] = ((df_plus_emp['gender_cd'] == 'F') & (df_plus_emp['emp_gender_cd'] == 'W')).astype(int)\n",
    "df_plus_emp['male_matching'] = ((df_plus_emp['gender_cd'] == 'M') & (df_plus_emp['emp_gender_cd'] == 'M')).astype(int)\n",
    "df_plus_emp['gender_matching'] = ((df_plus_emp['female_matching'] == 1) | (df_plus_emp['male_matching'] == 1)).astype(int)\n",
    "df_plus_emp['age_matching'] = ((df_plus_emp['age'] - df_plus_emp['emp_age']).abs() <= 5).astype(int)\n",
    "\n",
    "df_plus_emp['lovely_gender_cd_encoded'] = (df_plus_emp['lovely_gender_cd'] == 'M').astype(int)\n",
    "\n",
    "df_plus_emp['emps_lovely_age'] = ((df_plus_emp['min_age'] < df_plus_emp['age']) & (df_plus_emp['age'] < df_plus_emp['max_age'])).astype(int)\n",
    "\n",
    "df_plus_emp['child_by_emp_and_cd_flg'] = ((df_plus_emp['child_amt'] > 0) * (df_plus_emp['emp_children_cnt'] > 0)).astype(int)\n",
    "\n",
    "def sha_budet_rok(x):\n",
    "    if x <= 25:\n",
    "        return '14-25'\n",
    "    elif x <= 35:\n",
    "        return '26-35'\n",
    "    elif x <= 45:\n",
    "        return '36-45'\n",
    "    elif x <= 60:\n",
    "        return '45-60'\n",
    "    else:\n",
    "        return '60-80'\n",
    "\n",
    "def sha_budet_rok2(x):\n",
    "    if x <= 25:\n",
    "        return 0\n",
    "    elif x <= 35:\n",
    "        return 1\n",
    "    elif x <= 45:\n",
    "        return 2\n",
    "    elif x <= 60:\n",
    "        return 3\n",
    "    else:\n",
    "        return 4\n",
    "\n",
    "\n",
    "def liza_prosto_zaputalas_v_oboznacheniyah(x):\n",
    "    if x == 1:\n",
    "        return 'Гендеры совпадают'\n",
    "    if x == 0:\n",
    "        return 'Гендеры разные'\n",
    "\n",
    "df_plus_emp['age_groups_cd'] = df_plus_emp['age'].apply(lambda x: sha_budet_rok(x))\n",
    "df_plus_emp['age_groups_emp'] = df_plus_emp['emp_age_new'].apply(lambda x: sha_budet_rok(x))\n",
    "df_plus_emp['age_group_matching'] = (df_plus_emp['age_groups_cd'] == df_plus_emp['age_groups_emp']).astype(int)\n",
    "df_plus_emp['pol_sovpadenie'] = df_plus_emp['gender_matching'].apply(lambda x: liza_prosto_zaputalas_v_oboznacheniyah(x))\n",
    "\n",
    "import pandasql as ps\n",
    "\n",
    "upsell = df_plus_emp[df_plus_emp['functional_cd'].isin(['Upsell'])]\n",
    "upsell = upsell.reset_index()\n",
    "\n",
    "q1 = \"\"\"\n",
    "SELECT * FROM upsell \n",
    "WHERE \"index\" NOT IN (\n",
    "    SELECT \"index\" \n",
    "    FROM upsell \n",
    "    WHERE wo_hit_status_reason_desc IN ( \n",
    "        'Другой банк', 'Третье лицо', 'Кредит уже не нужен', 'Другое'\n",
    "    )\n",
    ")\n",
    "\"\"\"\n",
    "upsell = ps.sqldf(q1, locals())\n",
    "\n",
    "upsell2 = df_plus_emp[df_plus_emp['functional_cd'].isin(['Upsell'])]\n",
    "upsell2 = upsell2.reset_index()\n",
    "\n",
    "q2 = \"\"\"\n",
    "SELECT * FROM upsell2\n",
    "WHERE \"index\" NOT IN (\n",
    "    SELECT \"index\" \n",
    "    FROM upsell2\n",
    "    WHERE wo_hit_status_reason_desc IN ( \n",
    "        'Другой банк', 'Третье лицо'\n",
    "    )\n",
    ")\n",
    "\"\"\"\n",
    "upsell2 = ps.sqldf(q2, locals())\n",
    "\n",
    "upsell4 = df_plus_emp[df_plus_emp['functional_cd'].isin(['Upsell'])]\n",
    "upsell4 = upsell4.reset_index()\n",
    "\n",
    "q4 = \"\"\"\n",
    "SELECT * FROM upsell4\n",
    "WHERE \"index\" NOT IN (\n",
    "    SELECT \"index\" \n",
    "    FROM upsell4\n",
    "    WHERE wo_hit_status_reason_desc IN ( \n",
    "        'Другой банк', 'Третье лицо', 'Кредит уже не нужен'\n",
    "    )\n",
    ")\n",
    "\"\"\"\n",
    "upsell4 = ps.sqldf(q4, locals())\n",
    "\n",
    "upsell3 = df_plus_emp[df_plus_emp['functional_cd'].isin(['Upsell'])]\n",
    "upsell3 = upsell3.reset_index()\n",
    "\n",
    "# Функция для получения нижней границы группы\n",
    "def extract_min_age(group):\n",
    "    return int(group.split('-')[0])\n",
    "\n",
    "# Преобразуем группы в числовые значения (нижняя граница)\n",
    "df_plus_emp['emp_group_min'] = df_plus_emp['age_groups_emp'].apply(extract_min_age)\n",
    "df_plus_emp['client_group_min'] = df_plus_emp['age_groups_cd'].apply(extract_min_age)\n",
    "\n",
    "df_plus_emp['matching_variance'] = np.where(df_plus_emp['emp_group_min'] > df_plus_emp['client_group_min'], 'Оператор старше клиента',\n",
    "                                   np.where(df_plus_emp['emp_group_min'] == df_plus_emp['client_group_min'], 'Одинаковый возраст', 'Клиент старше операторa'))\n",
    "\n",
    "# Удаляем временные столбцы, если они не нужны\n",
    "df_plus_emp.drop(['emp_group_min', 'client_group_min'], axis=1, inplace=True)"
   ],
   "id": "5ce1f753341638c6",
   "outputs": [],
   "execution_count": 23
  },
  {
   "metadata": {
    "ExecuteTime": {
     "end_time": "2024-12-12T15:41:24.600573Z",
     "start_time": "2024-12-12T15:41:24.596224Z"
    }
   },
   "cell_type": "code",
   "source": [
    "functional = {'Пол' : ['Male', 'Female'], 'Кол-во вхождений' : [9831, 8535]}\n",
    "df_functional = pd.DataFrame(functional)"
   ],
   "id": "cd28aaf8cf065fbe",
   "outputs": [],
   "execution_count": 22
  },
  {
   "metadata": {
    "ExecuteTime": {
     "end_time": "2024-12-12T15:41:26.035889Z",
     "start_time": "2024-12-12T15:41:26.027689Z"
    }
   },
   "cell_type": "code",
   "source": "df_functional",
   "id": "91a8da7360dd1876",
   "outputs": [
    {
     "data": {
      "text/plain": [
       "      Пол  Кол-во вхождений\n",
       "0    Male              9831\n",
       "1  Female              8535"
      ],
      "text/html": [
       "<div>\n",
       "<style scoped>\n",
       "    .dataframe tbody tr th:only-of-type {\n",
       "        vertical-align: middle;\n",
       "    }\n",
       "\n",
       "    .dataframe tbody tr th {\n",
       "        vertical-align: top;\n",
       "    }\n",
       "\n",
       "    .dataframe thead th {\n",
       "        text-align: right;\n",
       "    }\n",
       "</style>\n",
       "<table border=\"1\" class=\"dataframe\">\n",
       "  <thead>\n",
       "    <tr style=\"text-align: right;\">\n",
       "      <th></th>\n",
       "      <th>Пол</th>\n",
       "      <th>Кол-во вхождений</th>\n",
       "    </tr>\n",
       "  </thead>\n",
       "  <tbody>\n",
       "    <tr>\n",
       "      <th>0</th>\n",
       "      <td>Male</td>\n",
       "      <td>9831</td>\n",
       "    </tr>\n",
       "    <tr>\n",
       "      <th>1</th>\n",
       "      <td>Female</td>\n",
       "      <td>8535</td>\n",
       "    </tr>\n",
       "  </tbody>\n",
       "</table>\n",
       "</div>"
      ]
     },
     "execution_count": 23,
     "metadata": {},
     "output_type": "execute_result"
    }
   ],
   "execution_count": 23
  },
  {
   "metadata": {
    "ExecuteTime": {
     "end_time": "2024-12-12T15:43:28.685313Z",
     "start_time": "2024-12-12T15:43:28.665626Z"
    }
   },
   "cell_type": "code",
   "source": "bd.isna().sum()",
   "id": "d11e5975da77d7c9",
   "outputs": [
    {
     "data": {
      "text/plain": [
       "Unnamed: 0                        0\n",
       "customer_id                       0\n",
       "age                             182\n",
       "gender_cd                       257\n",
       "region_size                    7269\n",
       "foreign_flg                    7269\n",
       "entrepreneur_flg               7269\n",
       "auto_flg                       7269\n",
       "traveler_flg                   7269\n",
       "partnership_flg                7269\n",
       "child_amt                      7269\n",
       "realty_type                    7269\n",
       "segment_cd                     7269\n",
       "bundle_nm                     13951\n",
       "confirmed_income              17253\n",
       "predicted_income              14568\n",
       "product_cd                        0\n",
       "functional_cd                     0\n",
       "finish_dttm                       0\n",
       "state_talk_time_sec             148\n",
       "wo_hit_status_result_desc         0\n",
       "wo_hit_status_reason_desc         0\n",
       "employee_id                       0\n",
       "emp_age                           1\n",
       "emp_age_new                       1\n",
       "emp_gender_cd                  2180\n",
       "emp_children_cnt              18538\n",
       "emp_work_months_cnt            1779\n",
       "emp_citizenship_country_cd    16856\n",
       "emp_marital_status_cd         16673\n",
       "flag                              0\n",
       "day_of_week                       0\n",
       "num_of_week                       0\n",
       "child_flg                         0\n",
       "dtype: int64"
      ]
     },
     "execution_count": 24,
     "metadata": {},
     "output_type": "execute_result"
    }
   ],
   "execution_count": 24
  },
  {
   "metadata": {
    "ExecuteTime": {
     "end_time": "2024-12-12T15:58:00.347158Z",
     "start_time": "2024-12-12T15:58:00.338117Z"
    }
   },
   "cell_type": "code",
   "source": [
    "nanes = {'Фича' : ['customer_id', 'confirmed_income', 'predicted_income', 'segment_cd', 'result'], 'Кол-во нанов' : [0, 17253, 14568, 7269, 0]}\n",
    "df_functional = pd.DataFrame(nanes)\n",
    "df_functional"
   ],
   "id": "e2fd1e6f73d47683",
   "outputs": [
    {
     "data": {
      "text/plain": [
       "               Фича  Кол-во нанов\n",
       "0       customer_id             0\n",
       "1  confirmed_income         17253\n",
       "2  predicted_income         14568\n",
       "3        segment_cd          7269\n",
       "4            result             0"
      ],
      "text/html": [
       "<div>\n",
       "<style scoped>\n",
       "    .dataframe tbody tr th:only-of-type {\n",
       "        vertical-align: middle;\n",
       "    }\n",
       "\n",
       "    .dataframe tbody tr th {\n",
       "        vertical-align: top;\n",
       "    }\n",
       "\n",
       "    .dataframe thead th {\n",
       "        text-align: right;\n",
       "    }\n",
       "</style>\n",
       "<table border=\"1\" class=\"dataframe\">\n",
       "  <thead>\n",
       "    <tr style=\"text-align: right;\">\n",
       "      <th></th>\n",
       "      <th>Фича</th>\n",
       "      <th>Кол-во нанов</th>\n",
       "    </tr>\n",
       "  </thead>\n",
       "  <tbody>\n",
       "    <tr>\n",
       "      <th>0</th>\n",
       "      <td>customer_id</td>\n",
       "      <td>0</td>\n",
       "    </tr>\n",
       "    <tr>\n",
       "      <th>1</th>\n",
       "      <td>confirmed_income</td>\n",
       "      <td>17253</td>\n",
       "    </tr>\n",
       "    <tr>\n",
       "      <th>2</th>\n",
       "      <td>predicted_income</td>\n",
       "      <td>14568</td>\n",
       "    </tr>\n",
       "    <tr>\n",
       "      <th>3</th>\n",
       "      <td>segment_cd</td>\n",
       "      <td>7269</td>\n",
       "    </tr>\n",
       "    <tr>\n",
       "      <th>4</th>\n",
       "      <td>result</td>\n",
       "      <td>0</td>\n",
       "    </tr>\n",
       "  </tbody>\n",
       "</table>\n",
       "</div>"
      ]
     },
     "execution_count": 27,
     "metadata": {},
     "output_type": "execute_result"
    }
   ],
   "execution_count": 27
  },
  {
   "metadata": {
    "ExecuteTime": {
     "end_time": "2024-12-12T16:20:35.981940Z",
     "start_time": "2024-12-12T16:20:35.977076Z"
    }
   },
   "cell_type": "code",
   "source": "bd['income'] = bd['confirmed_income'].fillna(bd['predicted_income'])\n",
   "id": "55a62462ba046fe8",
   "outputs": [],
   "execution_count": 35
  },
  {
   "metadata": {
    "ExecuteTime": {
     "end_time": "2024-12-13T04:49:54.280055Z",
     "start_time": "2024-12-13T04:49:54.110998Z"
    }
   },
   "cell_type": "code",
   "source": "df_plus_emp[['income']].boxplot()",
   "id": "830788220266f9cb",
   "outputs": [
    {
     "data": {
      "text/plain": [
       "<Axes: >"
      ]
     },
     "execution_count": 9,
     "metadata": {},
     "output_type": "execute_result"
    },
    {
     "data": {
      "text/plain": [
       "<Figure size 640x480 with 1 Axes>"
      ],
      "image/png": "[encoded data removed]"
     },
     "metadata": {},
     "output_type": "display_data"
    }
   ],
   "execution_count": 9
  },
  {
   "metadata": {
    "ExecuteTime": {
     "end_time": "2024-12-12T16:25:50.412594Z",
     "start_time": "2024-12-12T16:25:50.400879Z"
    }
   },
   "cell_type": "code",
   "source": "bd[['income']].dropna()",
   "id": "244e6974fcc001cd",
   "outputs": [
    {
     "data": {
      "text/plain": [
       "         income\n",
       "6      13823.50\n",
       "8      15323.50\n",
       "9      15140.00\n",
       "11     15059.60\n",
       "15     10534.73\n",
       "...         ...\n",
       "18671  16538.00\n",
       "18675  12115.84\n",
       "18677  11823.50\n",
       "18680  15278.40\n",
       "18689   9128.50\n",
       "\n",
       "[4783 rows x 1 columns]"
      ],
      "text/html": [
       "<div>\n",
       "<style scoped>\n",
       "    .dataframe tbody tr th:only-of-type {\n",
       "        vertical-align: middle;\n",
       "    }\n",
       "\n",
       "    .dataframe tbody tr th {\n",
       "        vertical-align: top;\n",
       "    }\n",
       "\n",
       "    .dataframe thead th {\n",
       "        text-align: right;\n",
       "    }\n",
       "</style>\n",
       "<table border=\"1\" class=\"dataframe\">\n",
       "  <thead>\n",
       "    <tr style=\"text-align: right;\">\n",
       "      <th></th>\n",
       "      <th>income</th>\n",
       "    </tr>\n",
       "  </thead>\n",
       "  <tbody>\n",
       "    <tr>\n",
       "      <th>6</th>\n",
       "      <td>13823.50</td>\n",
       "    </tr>\n",
       "    <tr>\n",
       "      <th>8</th>\n",
       "      <td>15323.50</td>\n",
       "    </tr>\n",
       "    <tr>\n",
       "      <th>9</th>\n",
       "      <td>15140.00</td>\n",
       "    </tr>\n",
       "    <tr>\n",
       "      <th>11</th>\n",
       "      <td>15059.60</td>\n",
       "    </tr>\n",
       "    <tr>\n",
       "      <th>15</th>\n",
       "      <td>10534.73</td>\n",
       "    </tr>\n",
       "    <tr>\n",
       "      <th>...</th>\n",
       "      <td>...</td>\n",
       "    </tr>\n",
       "    <tr>\n",
       "      <th>18671</th>\n",
       "      <td>16538.00</td>\n",
       "    </tr>\n",
       "    <tr>\n",
       "      <th>18675</th>\n",
       "      <td>12115.84</td>\n",
       "    </tr>\n",
       "    <tr>\n",
       "      <th>18677</th>\n",
       "      <td>11823.50</td>\n",
       "    </tr>\n",
       "    <tr>\n",
       "      <th>18680</th>\n",
       "      <td>15278.40</td>\n",
       "    </tr>\n",
       "    <tr>\n",
       "      <th>18689</th>\n",
       "      <td>9128.50</td>\n",
       "    </tr>\n",
       "  </tbody>\n",
       "</table>\n",
       "<p>4783 rows × 1 columns</p>\n",
       "</div>"
      ]
     },
     "execution_count": 40,
     "metadata": {},
     "output_type": "execute_result"
    }
   ],
   "execution_count": 40
  },
  {
   "metadata": {
    "ExecuteTime": {
     "end_time": "2024-12-12T16:32:16.901181Z",
     "start_time": "2024-12-12T16:32:16.887713Z"
    }
   },
   "cell_type": "code",
   "source": "bd[['income']].dropna().shape[0] - bd[bd['income'] > 0][bd['income'] < np.percentile(bd['income'].dropna(), 75)][['income']].dropna().shape[0]",
   "id": "61ae81092feee2ec",
   "outputs": [
    {
     "data": {
      "text/plain": [
       "1197"
      ]
     },
     "execution_count": 42,
     "metadata": {},
     "output_type": "execute_result"
    }
   ],
   "execution_count": 42
  },
  {
   "metadata": {
    "ExecuteTime": {
     "end_time": "2024-12-12T21:52:33.905713Z",
     "start_time": "2024-12-12T21:52:33.836455Z"
    }
   },
   "cell_type": "code",
   "source": "bd['wo_hit_status_result_desc']",
   "id": "3331806c305528fe",
   "outputs": [
    {
     "data": {
      "text/plain": [
       "0          Дозвон, Отказ\n",
       "1          Дозвон, Отказ\n",
       "2          Дозвон, Отказ\n",
       "3          Дозвон, Отказ\n",
       "4          Дозвон, Отказ\n",
       "              ...       \n",
       "18686      Дозвон, Отказ\n",
       "18687      Дозвон, Отказ\n",
       "18688      Дозвон, Отказ\n",
       "18689      Дозвон, Отказ\n",
       "18690    Дозвон, Успешно\n",
       "Name: wo_hit_status_result_desc, Length: 18691, dtype: object"
      ]
     },
     "execution_count": 43,
     "metadata": {},
     "output_type": "execute_result"
    }
   ],
   "execution_count": 43
  },
  {
   "metadata": {
    "ExecuteTime": {
     "end_time": "2024-12-12T21:56:15.075501Z",
     "start_time": "2024-12-12T21:56:15.058567Z"
    }
   },
   "cell_type": "code",
   "source": [
    "result = {'Результат Звонка' : ['Дозвон, Отказ', 'Дозвон, Успешно'], 'Кол-во' : [16274, 2417]}\n",
    "df_result = pd.DataFrame(result)\n",
    "df_result"
   ],
   "id": "f3aa14b4928df601",
   "outputs": [
    {
     "data": {
      "text/plain": [
       "  Результат Звонка  Кол-во\n",
       "0    Дозвон, Отказ   16274\n",
       "1  Дозвон, Успешно    2417"
      ],
      "text/html": [
       "<div>\n",
       "<style scoped>\n",
       "    .dataframe tbody tr th:only-of-type {\n",
       "        vertical-align: middle;\n",
       "    }\n",
       "\n",
       "    .dataframe tbody tr th {\n",
       "        vertical-align: top;\n",
       "    }\n",
       "\n",
       "    .dataframe thead th {\n",
       "        text-align: right;\n",
       "    }\n",
       "</style>\n",
       "<table border=\"1\" class=\"dataframe\">\n",
       "  <thead>\n",
       "    <tr style=\"text-align: right;\">\n",
       "      <th></th>\n",
       "      <th>Результат Звонка</th>\n",
       "      <th>Кол-во</th>\n",
       "    </tr>\n",
       "  </thead>\n",
       "  <tbody>\n",
       "    <tr>\n",
       "      <th>0</th>\n",
       "      <td>Дозвон, Отказ</td>\n",
       "      <td>16274</td>\n",
       "    </tr>\n",
       "    <tr>\n",
       "      <th>1</th>\n",
       "      <td>Дозвон, Успешно</td>\n",
       "      <td>2417</td>\n",
       "    </tr>\n",
       "  </tbody>\n",
       "</table>\n",
       "</div>"
      ]
     },
     "execution_count": 44,
     "metadata": {},
     "output_type": "execute_result"
    }
   ],
   "execution_count": 44
  },
  {
   "metadata": {
    "ExecuteTime": {
     "end_time": "2024-12-13T20:02:14.046580Z",
     "start_time": "2024-12-13T20:02:14.035555Z"
    }
   },
   "cell_type": "code",
   "source": "df_plus_emp.pivot_table(index='functional_cd', values='flag', aggfunc='count')",
   "id": "8af48854c3ff1bb4",
   "outputs": [
    {
     "data": {
      "text/plain": [
       "               flag\n",
       "functional_cd      \n",
       "Activation       69\n",
       "Afterfilling   1680\n",
       "Agreement       393\n",
       "Autoleads        22\n",
       "BAF              47\n",
       "Cold            994\n",
       "Deposit           8\n",
       "Downsell        159\n",
       "Incoming        317\n",
       "Meeting         883\n",
       "Preapprove     6188\n",
       "Prolongation     37\n",
       "Refinancing       1\n",
       "Reutilization   154\n",
       "Upsell          984\n",
       "Utilization    1217"
      ],
      "text/html": [
       "<div>\n",
       "<style scoped>\n",
       "    .dataframe tbody tr th:only-of-type {\n",
       "        vertical-align: middle;\n",
       "    }\n",
       "\n",
       "    .dataframe tbody tr th {\n",
       "        vertical-align: top;\n",
       "    }\n",
       "\n",
       "    .dataframe thead th {\n",
       "        text-align: right;\n",
       "    }\n",
       "</style>\n",
       "<table border=\"1\" class=\"dataframe\">\n",
       "  <thead>\n",
       "    <tr style=\"text-align: right;\">\n",
       "      <th></th>\n",
       "      <th>flag</th>\n",
       "    </tr>\n",
       "    <tr>\n",
       "      <th>functional_cd</th>\n",
       "      <th></th>\n",
       "    </tr>\n",
       "  </thead>\n",
       "  <tbody>\n",
       "    <tr>\n",
       "      <th>Activation</th>\n",
       "      <td>69</td>\n",
       "    </tr>\n",
       "    <tr>\n",
       "      <th>Afterfilling</th>\n",
       "      <td>1680</td>\n",
       "    </tr>\n",
       "    <tr>\n",
       "      <th>Agreement</th>\n",
       "      <td>393</td>\n",
       "    </tr>\n",
       "    <tr>\n",
       "      <th>Autoleads</th>\n",
       "      <td>22</td>\n",
       "    </tr>\n",
       "    <tr>\n",
       "      <th>BAF</th>\n",
       "      <td>47</td>\n",
       "    </tr>\n",
       "    <tr>\n",
       "      <th>Cold</th>\n",
       "      <td>994</td>\n",
       "    </tr>\n",
       "    <tr>\n",
       "      <th>Deposit</th>\n",
       "      <td>8</td>\n",
       "    </tr>\n",
       "    <tr>\n",
       "      <th>Downsell</th>\n",
       "      <td>159</td>\n",
       "    </tr>\n",
       "    <tr>\n",
       "      <th>Incoming</th>\n",
       "      <td>317</td>\n",
       "    </tr>\n",
       "    <tr>\n",
       "      <th>Meeting</th>\n",
       "      <td>883</td>\n",
       "    </tr>\n",
       "    <tr>\n",
       "      <th>Preapprove</th>\n",
       "      <td>6188</td>\n",
       "    </tr>\n",
       "    <tr>\n",
       "      <th>Prolongation</th>\n",
       "      <td>37</td>\n",
       "    </tr>\n",
       "    <tr>\n",
       "      <th>Refinancing</th>\n",
       "      <td>1</td>\n",
       "    </tr>\n",
       "    <tr>\n",
       "      <th>Reutilization</th>\n",
       "      <td>154</td>\n",
       "    </tr>\n",
       "    <tr>\n",
       "      <th>Upsell</th>\n",
       "      <td>984</td>\n",
       "    </tr>\n",
       "    <tr>\n",
       "      <th>Utilization</th>\n",
       "      <td>1217</td>\n",
       "    </tr>\n",
       "  </tbody>\n",
       "</table>\n",
       "</div>"
      ]
     },
     "execution_count": 18,
     "metadata": {},
     "output_type": "execute_result"
    }
   ],
   "execution_count": 18
  },
  {
   "metadata": {
    "ExecuteTime": {
     "end_time": "2024-12-13T20:07:31.603508Z",
     "start_time": "2024-12-13T20:07:31.578825Z"
    }
   },
   "cell_type": "code",
   "source": "upsell4.pivot_table(index='region_size', values='flag', aggfunc='count')",
   "id": "4db2c8606fd9e674",
   "outputs": [
    {
     "ename": "NameError",
     "evalue": "name 'upsell4' is not defined",
     "output_type": "error",
     "traceback": [
      "\u001B[0;31m---------------------------------------------------------------------------\u001B[0m",
      "\u001B[0;31mNameError\u001B[0m                                 Traceback (most recent call last)",
      "Cell \u001B[0;32mIn[19], line 1\u001B[0m\n\u001B[0;32m----> 1\u001B[0m \u001B[43mupsell4\u001B[49m\u001B[38;5;241m.\u001B[39mpivot_table(index\u001B[38;5;241m=\u001B[39m\u001B[38;5;124m'\u001B[39m\u001B[38;5;124mfunctional_cd\u001B[39m\u001B[38;5;124m'\u001B[39m, values\u001B[38;5;241m=\u001B[39m\u001B[38;5;124m'\u001B[39m\u001B[38;5;124mflag\u001B[39m\u001B[38;5;124m'\u001B[39m, aggfunc\u001B[38;5;241m=\u001B[39m\u001B[38;5;124m'\u001B[39m\u001B[38;5;124mcount\u001B[39m\u001B[38;5;124m'\u001B[39m)\n",
      "\u001B[0;31mNameError\u001B[0m: name 'upsell4' is not defined"
     ]
    }
   ],
   "execution_count": 19
  },
  {
   "metadata": {
    "ExecuteTime": {
     "end_time": "2024-12-14T01:19:26.541757Z",
     "start_time": "2024-12-14T01:19:26.409366Z"
    }
   },
   "cell_type": "code",
   "source": "bd = pd.read_csv(\"final.csv\")",
   "id": "5b917eb27461c768",
   "outputs": [],
   "execution_count": 39
  },
  {
   "metadata": {
    "ExecuteTime": {
     "end_time": "2024-12-14T00:59:49.486179Z",
     "start_time": "2024-12-14T00:59:49.479338Z"
    }
   },
   "cell_type": "code",
   "source": "bd['confirmed_income'].fillna(bd['predicted_income']).dropna().min()",
   "id": "9e85592b767133ea",
   "outputs": [
    {
     "data": {
      "text/plain": [
       "np.float64(-6274.5)"
      ]
     },
     "execution_count": 35,
     "metadata": {},
     "output_type": "execute_result"
    }
   ],
   "execution_count": 35
  },
  {
   "metadata": {
    "ExecuteTime": {
     "end_time": "2024-12-14T01:00:50.806016Z",
     "start_time": "2024-12-14T01:00:50.799383Z"
    }
   },
   "cell_type": "code",
   "source": "np.percentile(bd['confirmed_income'].fillna(bd['predicted_income']).dropna(), 75)",
   "id": "df7db5529e04d4e7",
   "outputs": [
    {
     "data": {
      "text/plain": [
       "np.float64(17698.135000000002)"
      ]
     },
     "execution_count": 37,
     "metadata": {},
     "output_type": "execute_result"
    }
   ],
   "execution_count": 37
  },
  {
   "metadata": {
    "ExecuteTime": {
     "end_time": "2024-12-14T01:19:44.347896Z",
     "start_time": "2024-12-14T01:19:44.330525Z"
    }
   },
   "cell_type": "code",
   "source": "bd.isna().sum().sum()",
   "id": "d9861bfb5f2061d6",
   "outputs": [
    {
     "data": {
      "text/plain": [
       "np.int64(168290)"
      ]
     },
     "execution_count": 40,
     "metadata": {},
     "output_type": "execute_result"
    }
   ],
   "execution_count": 40
  },
  {
   "metadata": {
    "ExecuteTime": {
     "end_time": "2024-12-14T01:49:36.085463Z",
     "start_time": "2024-12-14T01:49:36.077289Z"
    }
   },
   "cell_type": "code",
   "source": "df_plus_emp['gender_matching'].value_counts()",
   "id": "1b267e276632479b",
   "outputs": [
    {
     "data": {
      "text/plain": [
       "gender_matching\n",
       "0    7570\n",
       "1    5397\n",
       "Name: count, dtype: int64"
      ]
     },
     "execution_count": 42,
     "metadata": {},
     "output_type": "execute_result"
    }
   ],
   "execution_count": 42
  },
  {
   "metadata": {
    "ExecuteTime": {
     "end_time": "2024-12-14T02:06:36.979352Z",
     "start_time": "2024-12-14T02:06:35.304125Z"
    }
   },
   "cell_type": "code",
   "source": [
    "import pandas as pd\n",
    "import statsmodels.api as sm\n",
    "from sklearn.model_selection import train_test_split\n",
    "from sklearn.linear_model import LogisticRegression\n",
    "from sklearn.metrics import classification_report, accuracy_score\n",
    "\n",
    "logreg = pd.get_dummies(df_plus_emp[['flag', 'gender_matching', 'matching_variance']], drop_first=True)\n",
    "\n",
    "X = sm.add_constant(logreg.drop('flag', axis=1))\n",
    "y = logreg['flag']\n",
    "\n",
    "# Разделяем данные на обучающую и тестовую выборки\n",
    "X_train, X_test, y_train, y_test = train_test_split(X, y, test_size=0.3, random_state=42)\n",
    "\n",
    "# Обучение логистической регрессии\n",
    "model = LogisticRegression()\n",
    "model.fit(X_train, y_train)\n",
    "\n",
    "# Предсказания\n",
    "y_pred = model.predict(X_test)\n",
    "\n",
    "# Оценка модели\n",
    "print(\"Accuracy:\", accuracy_score(y_test, y_pred))\n",
    "print(\"\\nClassification Report:\\n\", classification_report(y_test, y_pred))\n",
    "\n",
    "# Коэффициенты модели\n",
    "coefficients = pd.DataFrame({'Feature': X.columns, 'Coefficient': model.coef_[0]})\n",
    "print(\"\\nModel Coefficients:\\n\", coefficients)"
   ],
   "id": "21e30bb960923725",
   "outputs": [
    {
     "name": "stdout",
     "output_type": "stream",
     "text": [
      "Accuracy: 0.8342328450269854\n",
      "\n",
      "Classification Report:\n",
      "               precision    recall  f1-score   support\n",
      "\n",
      "           0       0.83      1.00      0.91      3246\n",
      "           1       0.00      0.00      0.00       645\n",
      "\n",
      "    accuracy                           0.83      3891\n",
      "   macro avg       0.42      0.50      0.45      3891\n",
      "weighted avg       0.70      0.83      0.76      3891\n",
      "\n",
      "\n",
      "Model Coefficients:\n",
      "                                      Feature  Coefficient\n",
      "0                                      const    -0.858178\n",
      "1                            gender_matching    -0.035612\n",
      "2       matching_variance_Одинаковый возраст     0.149693\n",
      "3  matching_variance_Оператор старше клиента     0.189261\n"
     ]
    }
   ],
   "execution_count": 43
  },
  {
   "metadata": {
    "ExecuteTime": {
     "end_time": "2024-12-14T02:07:28.176390Z",
     "start_time": "2024-12-14T02:07:28.169338Z"
    }
   },
   "cell_type": "code",
   "source": "logreg.isna().sum()",
   "id": "6e0d94777f465d27",
   "outputs": [
    {
     "data": {
      "text/plain": [
       "flag                                         0\n",
       "gender_matching                              0\n",
       "matching_variance_Одинаковый возраст         0\n",
       "matching_variance_Оператор старше клиента    0\n",
       "dtype: int64"
      ]
     },
     "execution_count": 45,
     "metadata": {},
     "output_type": "execute_result"
    }
   ],
   "execution_count": 45
  },
  {
   "metadata": {
    "ExecuteTime": {
     "end_time": "2024-12-14T02:30:02.236621Z",
     "start_time": "2024-12-14T02:30:02.075549Z"
    }
   },
   "cell_type": "code",
   "source": [
    "import statsmodels.formula.api as smf\n",
    "credits = df_plus_emp[df_plus_emp['product_cd'].isin(['Credit Cards', 'Cash Loan', 'Secured Loan', 'Car Loan', ''])]\n",
    "logit_res = smf.glm('flag ~ C(gender_matching) + C(matching_variance)', credits, family = sm.families.Binomial()).fit()\n",
    "logit_res.summary()"
   ],
   "id": "7c5ce14710c97da0",
   "outputs": [
    {
     "data": {
      "text/plain": [
       "<class 'statsmodels.iolib.summary.Summary'>\n",
       "\"\"\"\n",
       "                 Generalized Linear Model Regression Results                  \n",
       "==============================================================================\n",
       "Dep. Variable:                   flag   No. Observations:                12967\n",
       "Model:                            GLM   Df Residuals:                    12963\n",
       "Model Family:                Binomial   Df Model:                            3\n",
       "Link Function:                  Logit   Scale:                          1.0000\n",
       "Method:                          IRLS   Log-Likelihood:                -5743.8\n",
       "Date:                Sat, 14 Dec 2024   Deviance:                       11488.\n",
       "Time:                        05:30:02   Pearson chi2:                 1.30e+04\n",
       "No. Iterations:                     4   Pseudo R-squ. (CS):          0.0006197\n",
       "Covariance Type:            nonrobust                                         \n",
       "===================================================================================================================\n",
       "                                                      coef    std err          z      P>|z|      [0.025      0.975]\n",
       "-------------------------------------------------------------------------------------------------------------------\n",
       "Intercept                                          -1.6786      0.041    -41.138      0.000      -1.759      -1.599\n",
       "C(gender_matching)[T.1]                            -0.0527      0.049     -1.085      0.278      -0.148       0.042\n",
       "C(matching_variance)[T.Одинаковый возраст]          0.0632      0.061      1.029      0.303      -0.057       0.183\n",
       "C(matching_variance)[T.Оператор старше клиента]     0.1424      0.055      2.585      0.010       0.034       0.250\n",
       "===================================================================================================================\n",
       "\"\"\""
      ],
      "text/html": [
       "<table class=\"simpletable\">\n",
       "<caption>Generalized Linear Model Regression Results</caption>\n",
       "<tr>\n",
       "  <th>Dep. Variable:</th>         <td>flag</td>       <th>  No. Observations:  </th>  <td> 12967</td>  \n",
       "</tr>\n",
       "<tr>\n",
       "  <th>Model:</th>                  <td>GLM</td>       <th>  Df Residuals:      </th>  <td> 12963</td>  \n",
       "</tr>\n",
       "<tr>\n",
       "  <th>Model Family:</th>        <td>Binomial</td>     <th>  Df Model:          </th>  <td>     3</td>  \n",
       "</tr>\n",
       "<tr>\n",
       "  <th>Link Function:</th>         <td>Logit</td>      <th>  Scale:             </th> <td>  1.0000</td> \n",
       "</tr>\n",
       "<tr>\n",
       "  <th>Method:</th>                <td>IRLS</td>       <th>  Log-Likelihood:    </th> <td> -5743.8</td> \n",
       "</tr>\n",
       "<tr>\n",
       "  <th>Date:</th>            <td>Sat, 14 Dec 2024</td> <th>  Deviance:          </th> <td>  11488.</td> \n",
       "</tr>\n",
       "<tr>\n",
       "  <th>Time:</th>                <td>05:30:02</td>     <th>  Pearson chi2:      </th> <td>1.30e+04</td> \n",
       "</tr>\n",
       "<tr>\n",
       "  <th>No. Iterations:</th>          <td>4</td>        <th>  Pseudo R-squ. (CS):</th> <td>0.0006197</td>\n",
       "</tr>\n",
       "<tr>\n",
       "  <th>Covariance Type:</th>     <td>nonrobust</td>    <th>                     </th>     <td> </td>    \n",
       "</tr>\n",
       "</table>\n",
       "<table class=\"simpletable\">\n",
       "<tr>\n",
       "                         <td></td>                            <th>coef</th>     <th>std err</th>      <th>z</th>      <th>P>|z|</th>  <th>[0.025</th>    <th>0.975]</th>  \n",
       "</tr>\n",
       "<tr>\n",
       "  <th>Intercept</th>                                       <td>   -1.6786</td> <td>    0.041</td> <td>  -41.138</td> <td> 0.000</td> <td>   -1.759</td> <td>   -1.599</td>\n",
       "</tr>\n",
       "<tr>\n",
       "  <th>C(gender_matching)[T.1]</th>                         <td>   -0.0527</td> <td>    0.049</td> <td>   -1.085</td> <td> 0.278</td> <td>   -0.148</td> <td>    0.042</td>\n",
       "</tr>\n",
       "<tr>\n",
       "  <th>C(matching_variance)[T.Одинаковый возраст]</th>      <td>    0.0632</td> <td>    0.061</td> <td>    1.029</td> <td> 0.303</td> <td>   -0.057</td> <td>    0.183</td>\n",
       "</tr>\n",
       "<tr>\n",
       "  <th>C(matching_variance)[T.Оператор старше клиента]</th> <td>    0.1424</td> <td>    0.055</td> <td>    2.585</td> <td> 0.010</td> <td>    0.034</td> <td>    0.250</td>\n",
       "</tr>\n",
       "</table>"
      ],
      "text/latex": "\\begin{center}\n\\begin{tabular}{lclc}\n\\toprule\n\\textbf{Dep. Variable:}                                   &       flag       & \\textbf{  No. Observations:  } &    12967    \\\\\n\\textbf{Model:}                                           &       GLM        & \\textbf{  Df Residuals:      } &    12963    \\\\\n\\textbf{Model Family:}                                    &     Binomial     & \\textbf{  Df Model:          } &        3    \\\\\n\\textbf{Link Function:}                                   &      Logit       & \\textbf{  Scale:             } &    1.0000   \\\\\n\\textbf{Method:}                                          &       IRLS       & \\textbf{  Log-Likelihood:    } &   -5743.8   \\\\\n\\textbf{Date:}                                            & Sat, 14 Dec 2024 & \\textbf{  Deviance:          } &    11488.   \\\\\n\\textbf{Time:}                                            &     05:30:02     & \\textbf{  Pearson chi2:      } &  1.30e+04   \\\\\n\\textbf{No. Iterations:}                                  &        4         & \\textbf{  Pseudo R-squ. (CS):} & 0.0006197   \\\\\n\\textbf{Covariance Type:}                                 &    nonrobust     & \\textbf{                     } &             \\\\\n\\bottomrule\n\\end{tabular}\n\\begin{tabular}{lcccccc}\n                                                          & \\textbf{coef} & \\textbf{std err} & \\textbf{z} & \\textbf{P$> |$z$|$} & \\textbf{[0.025} & \\textbf{0.975]}  \\\\\n\\midrule\n\\textbf{Intercept}                                        &      -1.6786  &        0.041     &   -41.138  &         0.000        &       -1.759    &       -1.599     \\\\\n\\textbf{C(gender\\_matching)[T.1]}                         &      -0.0527  &        0.049     &    -1.085  &         0.278        &       -0.148    &        0.042     \\\\\n\\textbf{C(matching\\_variance)[T.Одинаковый возраст]}      &       0.0632  &        0.061     &     1.029  &         0.303        &       -0.057    &        0.183     \\\\\n\\textbf{C(matching\\_variance)[T.Оператор старше клиента]} &       0.1424  &        0.055     &     2.585  &         0.010        &        0.034    &        0.250     \\\\\n\\bottomrule\n\\end{tabular}\n%\\caption{Generalized Linear Model Regression Results}\n\\end{center}"
     },
     "execution_count": 59,
     "metadata": {},
     "output_type": "execute_result"
    }
   ],
   "execution_count": 59
  },
  {
   "metadata": {
    "ExecuteTime": {
     "end_time": "2024-12-14T02:28:56.429668Z",
     "start_time": "2024-12-14T02:28:56.422579Z"
    }
   },
   "cell_type": "code",
   "source": "df_plus_emp['product_cd'].value_counts()",
   "id": "e112487b443f02e1",
   "outputs": [
    {
     "data": {
      "text/plain": [
       "product_cd\n",
       "Credit Cards          6732\n",
       "Cash Loan             2014\n",
       "MVNO                  1416\n",
       "Debit Cards           1320\n",
       "Investment             491\n",
       "Secured Loan           319\n",
       "Casco                  245\n",
       "Mortgage Insurance     205\n",
       "Car Loan               193\n",
       "Osago                   19\n",
       "Deposit                  8\n",
       "Travel Avia              3\n",
       "T-Auto                   2\n",
       "Name: count, dtype: int64"
      ]
     },
     "execution_count": 56,
     "metadata": {},
     "output_type": "execute_result"
    }
   ],
   "execution_count": 56
  },
  {
   "metadata": {},
   "cell_type": "code",
   "outputs": [],
   "execution_count": null,
   "source": "",
   "id": "68c67c898925c22c"
  }
 ],
 "metadata": {
  "kernelspec": {
   "display_name": "Python 3",
   "language": "python",
   "name": "python3"
  },
  "language_info": {
   "codemirror_mode": {
    "name": "ipython",
    "version": 2
   },
   "file_extension": ".py",
   "mimetype": "text/x-python",
   "name": "python",
   "nbconvert_exporter": "python",
   "pygments_lexer": "ipython2",
   "version": "2.7.6"
  }
 },
 "nbformat": 4,
 "nbformat_minor": 5
}
